{
 "cells": [
  {
   "cell_type": "code",
   "execution_count": 1,
   "metadata": {
    "id": "-rumh_JMBMaS"
   },
   "outputs": [],
   "source": [
    "import os\n",
    "import sys\n",
    "import time\n",
    "import pickle as pk\n",
    "from typing import Union, Tuple\n",
    "from collections import OrderedDict\n",
    "import numpy as np\n",
    "import pandas as pd\n",
    "import matplotlib.pyplot as plt\n",
    "import seaborn as sns\n",
    "import torch\n",
    "from torch.autograd import grad\n",
    "from torch.nn import Parameter\n",
    "import torch.nn as nn\n",
    "import torch.functional as F\n",
    "import torch.optim as optim\n",
    "import torchvision\n",
    "import torchvision.transforms as transforms\n",
    "import torchvision.datasets as datasets\n",
    "from torch.utils.data import DataLoader\n",
    "from torchsummary import summary"
   ]
  },
  {
   "cell_type": "code",
   "execution_count": 2,
   "metadata": {
    "colab": {
     "base_uri": "https://localhost:8080/"
    },
    "id": "niTqPqtiBXwb",
    "outputId": "33b6ee4a-091c-4b2d-def6-693e86da06e4"
   },
   "outputs": [
    {
     "data": {
      "text/plain": [
       "True"
      ]
     },
     "execution_count": 2,
     "metadata": {
      "tags": []
     },
     "output_type": "execute_result"
    }
   ],
   "source": [
    "torch.cuda.is_available()"
   ]
  },
  {
   "cell_type": "code",
   "execution_count": 75,
   "metadata": {
    "id": "gL44m53xflA7"
   },
   "outputs": [],
   "source": [
    "def get_mnist_data():\n",
    "  train_data = datasets.MNIST('data', train=True, download=True, transform=transforms.ToTensor())\n",
    "  train_loader = DataLoader(train_data, batch_size=len(train_data))\n",
    "  batch = next(iter(train_loader))\n",
    "  x, y = batch\n",
    "  mean, std = torch.mean(x), torch.std(x)\n",
    "  transform  = transforms.Compose([\n",
    "                                 transforms.ToTensor(),\n",
    "                                 transforms.Normalize(mean, std)\n",
    "  ])\n",
    "  \n",
    "  train_data = datasets.MNIST('data', train=True, download=True, transform=transform)\n",
    "  test_data = datasets.MNIST('data', train=False, download=True, transform=transform)\n",
    "  return train_data, test_data"
   ]
  },
  {
   "cell_type": "code",
   "execution_count": 76,
   "metadata": {
    "id": "AeblRZ4YBa5F"
   },
   "outputs": [],
   "source": [
    "def get_mnist_loaders(batch_size):\n",
    "  train_data, test_data = get_mnist_data()\n",
    "\n",
    "  yield DataLoader(train_data, batch_size=batch_size, shuffle=True)\n",
    "  yield DataLoader(test_data, batch_size=batch_size, shuffle=True)"
   ]
  },
  {
   "cell_type": "code",
   "execution_count": 4,
   "metadata": {
    "colab": {
     "base_uri": "https://localhost:8080/",
     "height": 450,
     "referenced_widgets": [
      "75681ceae8694a9b9902cf814c5865f5",
      "013ee8fdc9274b32bdf9ba743722a972",
      "714a65c736b54a06bd44d531708009d6",
      "e2d56c2b108647c1be645a6e34e31401",
      "ba50dcdda3e244f2bf1ddb60289dc6a0",
      "dbb39fa4422e47ccbe547a9924371bf5",
      "b0e288b83c3a405ea6d584d9cd8cda89",
      "7f9279fdfe64499481d2e7261c7ca0ac",
      "ea2dd7a8f83a4a17a3b8ca1e4a8e801a",
      "c7f334274c144fb7a7cc3a7db90f17eb",
      "437ee112288e4b93b6ea49ec95227175",
      "783c10e0da834a6aa6856950846786ae",
      "2f657e2c2ba84a628483e8e772b84e79",
      "f7f0e25096ab4501adc5a86b3dd9fd1b",
      "8ca84456075d498f881e5bc047c757dd",
      "e0863ea75e7649b1a7e2628c09db273b",
      "1e75369a08e045ddadd7b210a715bbc5",
      "6bef49bd489345369fee8fd9ffd01c42",
      "151b37cf99c74b51982402b5241daa54",
      "b4a1775dd2674ebf944d6eca1fe6a160",
      "4e762565de5f47a589f8a6b14595ee7f",
      "c0f48ce30f544d56a3e58d4482974b8e",
      "4e3fd57e0b00424f9f2481d5a7857505",
      "0c0a6eb8c4c541b4878f104361a93f7c",
      "be46717686f04519a51779b6ddb36230",
      "14279e6c801e4048817bc22c8dc0f4ea",
      "019f3aec36bc409c8dcfb0cf1dc2b38f",
      "54e75496be6d4ef2bb05019d13167c37",
      "37fa6f4204db423aac35f523806ee16e",
      "6fa52e44d773494b8c611a47d9c73779",
      "ab154995af3f490bb85e21667353fd89",
      "3bbf822dc6f546c88343f0c2c88041e9"
     ]
    },
    "id": "IDBnY6UUFFKY",
    "outputId": "6fb08e3f-3c3e-4fd3-fa58-cd5c407815ed"
   },
   "outputs": [
    {
     "name": "stdout",
     "output_type": "stream",
     "text": [
      "Downloading http://yann.lecun.com/exdb/mnist/train-images-idx3-ubyte.gz to data/MNIST/raw/train-images-idx3-ubyte.gz\n"
     ]
    },
    {
     "data": {
      "application/vnd.jupyter.widget-view+json": {
       "model_id": "75681ceae8694a9b9902cf814c5865f5",
       "version_major": 2,
       "version_minor": 0
      },
      "text/plain": [
       "HBox(children=(FloatProgress(value=1.0, bar_style='info', max=1.0), HTML(value='')))"
      ]
     },
     "metadata": {
      "tags": []
     },
     "output_type": "display_data"
    },
    {
     "name": "stdout",
     "output_type": "stream",
     "text": [
      "Extracting data/MNIST/raw/train-images-idx3-ubyte.gz to data/MNIST/raw\n",
      "Downloading http://yann.lecun.com/exdb/mnist/train-labels-idx1-ubyte.gz to data/MNIST/raw/train-labels-idx1-ubyte.gz\n"
     ]
    },
    {
     "data": {
      "application/vnd.jupyter.widget-view+json": {
       "model_id": "ea2dd7a8f83a4a17a3b8ca1e4a8e801a",
       "version_major": 2,
       "version_minor": 0
      },
      "text/plain": [
       "HBox(children=(FloatProgress(value=1.0, bar_style='info', max=1.0), HTML(value='')))"
      ]
     },
     "metadata": {
      "tags": []
     },
     "output_type": "display_data"
    },
    {
     "name": "stdout",
     "output_type": "stream",
     "text": [
      "Extracting data/MNIST/raw/train-labels-idx1-ubyte.gz to data/MNIST/raw\n",
      "Downloading http://yann.lecun.com/exdb/mnist/t10k-images-idx3-ubyte.gz to data/MNIST/raw/t10k-images-idx3-ubyte.gz\n"
     ]
    },
    {
     "data": {
      "application/vnd.jupyter.widget-view+json": {
       "model_id": "1e75369a08e045ddadd7b210a715bbc5",
       "version_major": 2,
       "version_minor": 0
      },
      "text/plain": [
       "HBox(children=(FloatProgress(value=1.0, bar_style='info', max=1.0), HTML(value='')))"
      ]
     },
     "metadata": {
      "tags": []
     },
     "output_type": "display_data"
    },
    {
     "name": "stdout",
     "output_type": "stream",
     "text": [
      "Extracting data/MNIST/raw/t10k-images-idx3-ubyte.gz to data/MNIST/raw\n",
      "Downloading http://yann.lecun.com/exdb/mnist/t10k-labels-idx1-ubyte.gz to data/MNIST/raw/t10k-labels-idx1-ubyte.gz\n"
     ]
    },
    {
     "data": {
      "application/vnd.jupyter.widget-view+json": {
       "model_id": "be46717686f04519a51779b6ddb36230",
       "version_major": 2,
       "version_minor": 0
      },
      "text/plain": [
       "HBox(children=(FloatProgress(value=1.0, bar_style='info', max=1.0), HTML(value='')))"
      ]
     },
     "metadata": {
      "tags": []
     },
     "output_type": "display_data"
    },
    {
     "name": "stdout",
     "output_type": "stream",
     "text": [
      "Extracting data/MNIST/raw/t10k-labels-idx1-ubyte.gz to data/MNIST/raw\n",
      "Processing...\n",
      "Done!\n"
     ]
    },
    {
     "name": "stderr",
     "output_type": "stream",
     "text": [
      "/usr/local/lib/python3.6/dist-packages/torchvision/datasets/mnist.py:480: UserWarning: The given NumPy array is not writeable, and PyTorch does not support non-writeable tensors. This means you can write to the underlying (supposedly non-writeable) NumPy array using the tensor. You may want to copy the array to protect its data or make it writeable before converting it to a tensor. This type of warning will be suppressed for the rest of this program. (Triggered internally at  /pytorch/torch/csrc/utils/tensor_numpy.cpp:141.)\n",
      "  return torch.from_numpy(parsed.astype(m[2], copy=False)).view(*s)\n"
     ]
    },
    {
     "name": "stdout",
     "output_type": "stream",
     "text": [
      "\n",
      "\n",
      "\n",
      "\n"
     ]
    }
   ],
   "source": [
    "batch_size = 64\n",
    "train_loader, test_loader = get_mnist_loaders(batch_size)"
   ]
  },
  {
   "cell_type": "code",
   "execution_count": 43,
   "metadata": {
    "id": "8FHvq7X6FJSU"
   },
   "outputs": [],
   "source": [
    "class ConvActNorm(nn.Sequential):\n",
    "  def __init__(self, in_channels, out_channels, kernel_size, stride, padding):\n",
    "    nn.Sequential.__init__(self, OrderedDict([\n",
    "      ('conv', nn.Conv2d(in_channels=in_channels, out_channels=out_channels, kernel_size=kernel_size, stride=stride, padding=padding)),\n",
    "      ('relu', nn.LeakyReLU()),\n",
    "      ('bnorm', nn.BatchNorm2d(out_channels)),\n",
    "    ]))"
   ]
  },
  {
   "cell_type": "code",
   "execution_count": 44,
   "metadata": {
    "id": "6eUwGbNzFSc3"
   },
   "outputs": [],
   "source": [
    "\n",
    "class TConvActNorm(nn.Sequential):\n",
    "  def __init__(self, in_channels, out_channels, kernel_size, stride, padding):\n",
    "    nn.Sequential.__init__(self, OrderedDict([\n",
    "      ('tconv', nn.ConvTranspose2d(in_channels=in_channels, out_channels=out_channels, kernel_size=kernel_size, stride=stride, padding=padding)),\n",
    "      ('relu', nn.LeakyReLU()),\n",
    "      ('bnorm', nn.BatchNorm2d(out_channels)),\n",
    "    ]))"
   ]
  },
  {
   "cell_type": "code",
   "execution_count": 29,
   "metadata": {
    "id": "XLlghfysHWnH"
   },
   "outputs": [],
   "source": [
    "class Encoder(nn.Sequential):\n",
    "  def __init__(self, channels, kernel_sizes, strides, paddings):\n",
    "    layers = []\n",
    "    for i in range(len(channels) - 1):\n",
    "      layers.append((f'block_{i + 1}', ConvActNorm(channels[i], channels[i + 1], kernel_sizes[i], strides[i], paddings[i])))\n",
    "    nn.Sequential.__init__(self, OrderedDict(layers))"
   ]
  },
  {
   "cell_type": "code",
   "execution_count": 30,
   "metadata": {
    "id": "EkqFctDyKnSe"
   },
   "outputs": [],
   "source": [
    "\n",
    "class Decoder(nn.Sequential):\n",
    "  def __init__(self, channels, kernel_sizes, strides, paddings):\n",
    "    layers = []\n",
    "    for i in range(len(channels) - 1):\n",
    "      layers.append((f'block_{i + 1}', TConvActNorm(channels[i], channels[i + 1], kernel_sizes[i], strides[i], paddings[i])))\n",
    "    nn.Sequential.__init__(self, OrderedDict(layers))"
   ]
  },
  {
   "cell_type": "code",
   "execution_count": 31,
   "metadata": {
    "id": "vTGN4uOcLALM"
   },
   "outputs": [],
   "source": [
    "class AutoEncoder(nn.Module):\n",
    "  def __init__(self, channels, kernel_sizes, strides, paddings):\n",
    "    nn.Module.__init__(self)\n",
    "    self.encoder = Encoder(channels, kernel_sizes, strides, paddings)\n",
    "    self.decoder = Decoder(list(reversed(channels)), list(reversed(kernel_sizes)), list(reversed(strides)), list(reversed(paddings)))\n",
    "  \n",
    "  def forward(self, x):\n",
    "    return self.decoder(self.encoder(x))"
   ]
  },
  {
   "cell_type": "code",
   "execution_count": 69,
   "metadata": {
    "id": "Up2h2hMbNugZ"
   },
   "outputs": [],
   "source": [
    "# Like train, but drops target from the dataset and instead uses X as target\n",
    "def train_identity(\n",
    "    model: nn.Module, \n",
    "    optimizer: optim.Optimizer, \n",
    "    data: Union[DataLoader, Tuple[DataLoader]], \n",
    "    max_epochs: int, \n",
    "    cuda=True):\n",
    "  \n",
    "  use_test = False\n",
    "  if isinstance(data, DataLoader):\n",
    "    train_loader = data\n",
    "    train_loader = data\n",
    "  elif isinstance(data, tuple):\n",
    "    if len(data) == 2:\n",
    "      train_loader, test_loader = data\n",
    "      if not isinstance(train_loader, DataLoader):\n",
    "        raise TypeError(f'Expected 1st entry of type DataLoader, but got {type(train_loader)}!')\n",
    "      if not isinstance(test_loader, DataLoader):\n",
    "        raise TypeError(f'Expected 2nd entry of type DataLoader, but got {type(test_loader)}!')\n",
    "      use_test = True\n",
    "    else:\n",
    "      raise ValueError(f'Expected tuple of length 2, but got {len(data)}!')\n",
    "  \n",
    "  \n",
    "  criterion = nn.MSELoss()\n",
    "  model.train()\n",
    "  losses = []\n",
    "  batch_total = len(train_loader)\n",
    "  train_losses = dict()\n",
    "  test_losses = dict()\n",
    "\n",
    "  for epoch in range(max_epochs):\n",
    "    for batch_idx, batch in enumerate(train_loader):\n",
    "      # We do not need y from the batch\n",
    "      x, _ = batch\n",
    "      if cuda:\n",
    "        x = x.cuda()\n",
    "      output = model(x)\n",
    "      loss = criterion(output, x)\n",
    "      loss.backward()\n",
    "      optimizer.step()\n",
    "      \n",
    "      losses.append(loss.item())\n",
    "\n",
    "      if batch_idx % 50 == 0 or batch_idx == batch_total - 1:\n",
    "        train_losses[epoch + batch_idx / batch_total] = loss.item()\n",
    "        if use_test:\n",
    "          model.eval()\n",
    "\n",
    "          test_x, _ = next(iter(test_loader))\n",
    "          if cuda:\n",
    "            test_x = test_x.cuda()\n",
    "          test_output = model(test_x)\n",
    "          test_loss = criterion(test_output, test_x)\n",
    "          test_losses[epoch + batch_idx / batch_total] = test_loss.item()\n",
    "          \n",
    "          model.train()\n",
    "\n",
    "          sys.stdout.write(f'\\rEpoch: {epoch}/{max_epochs} Step: {batch_idx}/{batch_total} Loss: {loss.item():.6f} Test loss: {test_loss:.6f}')\n",
    "        else:\n",
    "          sys.stdout.write(f'\\rEpoch: {epoch}/{max_epochs} Step: {batch_idx}/{batch_total} Loss: {loss.item():.6f}')\n",
    "\n",
    "  return losses, train_losses, test_losses"
   ]
  },
  {
   "cell_type": "code",
   "execution_count": 57,
   "metadata": {
    "colab": {
     "base_uri": "https://localhost:8080/"
    },
    "id": "ARMaa656QmUP",
    "outputId": "d55505e3-20cc-4cdb-b2ba-9d1f1dc495c8"
   },
   "outputs": [
    {
     "name": "stdout",
     "output_type": "stream",
     "text": [
      "----------------------------------------------------------------\n",
      "        Layer (type)               Output Shape         Param #\n",
      "================================================================\n",
      "            Conv2d-1            [-1, 4, 15, 15]              20\n",
      "         LeakyReLU-2            [-1, 4, 15, 15]               0\n",
      "       BatchNorm2d-3            [-1, 4, 15, 15]               8\n",
      "            Conv2d-4             [-1, 16, 7, 7]             592\n",
      "         LeakyReLU-5             [-1, 16, 7, 7]               0\n",
      "       BatchNorm2d-6             [-1, 16, 7, 7]              32\n",
      "            Conv2d-7             [-1, 16, 3, 3]           2,320\n",
      "         LeakyReLU-8             [-1, 16, 3, 3]               0\n",
      "       BatchNorm2d-9             [-1, 16, 3, 3]              32\n",
      "  ConvTranspose2d-10             [-1, 16, 7, 7]           2,320\n",
      "        LeakyReLU-11             [-1, 16, 7, 7]               0\n",
      "      BatchNorm2d-12             [-1, 16, 7, 7]              32\n",
      "  ConvTranspose2d-13            [-1, 4, 15, 15]             580\n",
      "        LeakyReLU-14            [-1, 4, 15, 15]               0\n",
      "      BatchNorm2d-15            [-1, 4, 15, 15]               8\n",
      "  ConvTranspose2d-16            [-1, 1, 28, 28]              17\n",
      "        LeakyReLU-17            [-1, 1, 28, 28]               0\n",
      "      BatchNorm2d-18            [-1, 1, 28, 28]               2\n",
      "================================================================\n",
      "Total params: 5,963\n",
      "Trainable params: 5,963\n",
      "Non-trainable params: 0\n",
      "----------------------------------------------------------------\n",
      "Input size (MB): 0.00\n",
      "Forward/backward pass size (MB): 0.10\n",
      "Params size (MB): 0.02\n",
      "Estimated Total Size (MB): 0.12\n",
      "----------------------------------------------------------------\n"
     ]
    }
   ],
   "source": [
    "ae_summary_model1 = AutoEncoder([1, 4, 16, 16], [2, 3, 3], [2] * 3, [1, 0, 0])\n",
    "summary(ae_summary_model1, input_size=(1, 28, 28), device='cpu')"
   ]
  },
  {
   "cell_type": "markdown",
   "metadata": {
    "id": "ZBzyNQ7JRnQx"
   },
   "source": [
    "Latent dimension size: 144 (3 * 3px * 16chan)"
   ]
  },
  {
   "cell_type": "code",
   "execution_count": 65,
   "metadata": {
    "id": "ysoUPyIaTIjX"
   },
   "outputs": [],
   "source": [
    "train_info = {}"
   ]
  },
  {
   "cell_type": "code",
   "execution_count": 73,
   "metadata": {
    "colab": {
     "base_uri": "https://localhost:8080/"
    },
    "id": "tRQ1nQ62SjrU",
    "outputId": "5992ab30-651e-4a67-83c0-8302dde85008"
   },
   "outputs": [
    {
     "name": "stdout",
     "output_type": "stream",
     "text": [
      "Epoch: 9/10 Step: 937/938 Loss: 0.224896 Test loss: 0.205517CPU times: user 2min 25s, sys: 779 ms, total: 2min 26s\n",
      "Wall time: 2min 26s\n"
     ]
    }
   ],
   "source": [
    "%%time\n",
    "model = AutoEncoder([1, 4, 16, 16], [2, 3, 3], [2] * 3, [1, 0, 0]).cuda()\n",
    "opt = optim.Adam(model.parameters(), lr=1e-3)\n",
    "train_info[1] = train_identity(model, opt, tuple(get_mnist_loaders(64)), 10)\n",
    "ae_model1 = model"
   ]
  },
  {
   "cell_type": "code",
   "execution_count": 67,
   "metadata": {
    "id": "OACex-TVTfEt"
   },
   "outputs": [],
   "source": [
    "colors = plt.cm.tab20(np.linspace(0, 1, 20))"
   ]
  },
  {
   "cell_type": "code",
   "execution_count": 74,
   "metadata": {
    "colab": {
     "base_uri": "https://localhost:8080/",
     "height": 302
    },
    "id": "xKcoumM-d1AS",
    "outputId": "25bf1af5-6984-4919-d9e3-7a43b8983c3c"
   },
   "outputs": [
    {
     "data": {
      "image/png": "[encoded data removed]",
      "text/plain": [
       "<Figure size 1440x432 with 1 Axes>"
      ]
     },
     "metadata": {
      "needs_background": "light",
      "tags": []
     },
     "output_type": "display_data"
    }
   ],
   "source": [
    "plt.figure(figsize=(20, 6))\n",
    "plt.plot(*zip(*train_info[1][1].items()), '-o', color=colors[2], label=f'Model 1, train')\n",
    "plt.plot(*zip(*train_info[1][2].items()), '--o', color=colors[3], label=f'Model 1, test')\n",
    "plt.legend()\n",
    "plt.xlabel('Epoch')\n",
    "plt.ylabel('MSE')\n",
    "plt.show()"
   ]
  },
  {
   "cell_type": "code",
   "execution_count": 97,
   "metadata": {
    "id": "0UEhUeJTfKsp"
   },
   "outputs": [],
   "source": [
    "raw_train_images = get_mnist_data()[0].data.float().cuda()"
   ]
  },
  {
   "cell_type": "code",
   "execution_count": 106,
   "metadata": {
    "colab": {
     "base_uri": "https://localhost:8080/",
     "height": 231
    },
    "id": "fO69qskvgGM7",
    "outputId": "633644a6-ea69-45af-8e62-8726db500ace"
   },
   "outputs": [
    {
     "data": {
      "image/png": "[encoded data removed]",
      "text/plain": [
       "<Figure size 1440x288 with 10 Axes>"
      ]
     },
     "metadata": {
      "needs_background": "light",
      "tags": []
     },
     "output_type": "display_data"
    }
   ],
   "source": [
    "plt.figure(figsize=(20, 4))\n",
    "for i, idx in enumerate(range(5)):\n",
    "  plt.subplot(2, 5, i + 1)\n",
    "  plt.imshow(raw_train_images[idx].cpu(), cmap='gray')\n",
    "  plt.subplot(2, 5, i + 6)\n",
    "  plt.imshow(ae_model1(raw_train_images[idx].reshape(1, 1, 28, 28)).cpu().detach().reshape(28, 28), cmap='gray')"
   ]
  },
  {
   "cell_type": "code",
   "execution_count": 109,
   "metadata": {
    "colab": {
     "base_uri": "https://localhost:8080/"
    },
    "id": "2Ckp3r3GkT8F",
    "outputId": "90a5ee25-234c-4f03-ec28-a1defff337c7"
   },
   "outputs": [
    {
     "name": "stdout",
     "output_type": "stream",
     "text": [
      "----------------------------------------------------------------\n",
      "        Layer (type)               Output Shape         Param #\n",
      "================================================================\n",
      "            Conv2d-1            [-1, 2, 15, 15]              10\n",
      "         LeakyReLU-2            [-1, 2, 15, 15]               0\n",
      "       BatchNorm2d-3            [-1, 2, 15, 15]               4\n",
      "            Conv2d-4              [-1, 4, 7, 7]              76\n",
      "         LeakyReLU-5              [-1, 4, 7, 7]               0\n",
      "       BatchNorm2d-6              [-1, 4, 7, 7]               8\n",
      "            Conv2d-7              [-1, 4, 2, 2]             404\n",
      "         LeakyReLU-8              [-1, 4, 2, 2]               0\n",
      "       BatchNorm2d-9              [-1, 4, 2, 2]               8\n",
      "  ConvTranspose2d-10              [-1, 4, 7, 7]             404\n",
      "        LeakyReLU-11              [-1, 4, 7, 7]               0\n",
      "      BatchNorm2d-12              [-1, 4, 7, 7]               8\n",
      "  ConvTranspose2d-13            [-1, 2, 15, 15]              74\n",
      "        LeakyReLU-14            [-1, 2, 15, 15]               0\n",
      "      BatchNorm2d-15            [-1, 2, 15, 15]               4\n",
      "  ConvTranspose2d-16            [-1, 1, 28, 28]               9\n",
      "        LeakyReLU-17            [-1, 1, 28, 28]               0\n",
      "      BatchNorm2d-18            [-1, 1, 28, 28]               2\n",
      "================================================================\n",
      "Total params: 1,011\n",
      "Trainable params: 1,011\n",
      "Non-trainable params: 0\n",
      "----------------------------------------------------------------\n",
      "Input size (MB): 0.00\n",
      "Forward/backward pass size (MB): 0.05\n",
      "Params size (MB): 0.00\n",
      "Estimated Total Size (MB): 0.05\n",
      "----------------------------------------------------------------\n"
     ]
    }
   ],
   "source": [
    "\n",
    "ae_summary_model2 = AutoEncoder([1, 2, 4, 4], [2, 3, 5], [2] * 3, [1, 0, 0])\n",
    "summary(ae_summary_model2, input_size=(1, 28, 28), device='cpu')"
   ]
  },
  {
   "cell_type": "markdown",
   "metadata": {
    "id": "q0VdDfuYkwWl"
   },
   "source": [
    "Latent dimension size: 16 (2 * 2px * 4chan)"
   ]
  },
  {
   "cell_type": "code",
   "execution_count": 111,
   "metadata": {
    "colab": {
     "base_uri": "https://localhost:8080/"
    },
    "id": "FOGTmkygk7dv",
    "outputId": "bffb4959-5ec0-46c8-c7f7-54b71b38f00a"
   },
   "outputs": [
    {
     "name": "stdout",
     "output_type": "stream",
     "text": [
      "Epoch: 9/10 Step: 937/938 Loss: 0.468776 Test loss: 0.482118CPU times: user 2min 18s, sys: 777 ms, total: 2min 19s\n",
      "Wall time: 2min 19s\n"
     ]
    }
   ],
   "source": [
    " %%time\n",
    "model = AutoEncoder([1, 2, 4, 4], [2, 3, 5], [2] * 3, [1, 0, 0]).cuda()\n",
    "opt = optim.Adam(model.parameters(), lr=1e-3)\n",
    "train_info[2] = train_identity(model, opt, tuple(get_mnist_loaders(64)), 10)\n",
    "ae_model2 = model"
   ]
  },
  {
   "cell_type": "code",
   "execution_count": 112,
   "metadata": {
    "colab": {
     "base_uri": "https://localhost:8080/",
     "height": 302
    },
    "id": "JuirfCbUlZB1",
    "outputId": "1d4acdb3-36ab-4482-d4de-61cae3045448"
   },
   "outputs": [
    {
     "data": {
      "image/png": "[encoded data removed]",
      "text/plain": [
       "<Figure size 1440x432 with 1 Axes>"
      ]
     },
     "metadata": {
      "needs_background": "light",
      "tags": []
     },
     "output_type": "display_data"
    }
   ],
   "source": [
    "plt.figure(figsize=(20, 6))\n",
    "plt.plot(*zip(*train_info[2][1].items()), '-o', color=colors[4], label=f'Model 2, train')\n",
    "plt.plot(*zip(*train_info[2][2].items()), '--o', color=colors[5], label=f'Model 2, test')\n",
    "plt.legend()\n",
    "plt.xlabel('Epoch')\n",
    "plt.ylabel('MSE')\n",
    "plt.show()"
   ]
  },
  {
   "cell_type": "code",
   "execution_count": 113,
   "metadata": {
    "colab": {
     "base_uri": "https://localhost:8080/",
     "height": 231
    },
    "id": "yhDgBfjFlpBb",
    "outputId": "3675986a-db40-4f0f-c4e2-6513d85b4d9c"
   },
   "outputs": [
    {
     "data": {
      "image/png": "[encoded data removed]",
      "text/plain": [
       "<Figure size 1440x288 with 10 Axes>"
      ]
     },
     "metadata": {
      "needs_background": "light",
      "tags": []
     },
     "output_type": "display_data"
    }
   ],
   "source": [
    "plt.figure(figsize=(20, 4))\n",
    "for i, idx in enumerate(range(5)):\n",
    "  plt.subplot(2, 5, i + 1)\n",
    "  plt.imshow(raw_train_images[idx].cpu(), cmap='gray')\n",
    "  plt.subplot(2, 5, i + 6)\n",
    "  plt.imshow(ae_model2(raw_train_images[idx].reshape(1, 1, 28, 28)).cpu().detach().reshape(28, 28), cmap='gray')"
   ]
  },
  {
   "cell_type": "code",
   "execution_count": 123,
   "metadata": {
    "id": "zyrDVeQ9l3tA"
   },
   "outputs": [],
   "source": [
    "\n",
    "class VariationalAutoEncoder(nn.Module):\n",
    "  def __init__(self, channels, kernel_sizes, strides, paddings):\n",
    "    nn.Module.__init__(self)\n",
    "    self.encoder = Encoder(channels, kernel_sizes, strides, paddings)\n",
    "    self.decoder = Decoder(list(reversed(channels)), list(reversed(kernel_sizes)), list(reversed(strides)), list(reversed(paddings)))\n",
    "  \n",
    "  def forward(self, x):\n",
    "    z_enc = self.encoder(x)\n",
    "    orig_shape = z_enc.shape\n",
    "    z_enc = z_enc.reshape(z_enc.shape[0], -1)\n",
    "    mu, sigma = z_enc.mean(dim=0), z_enc.std(dim=0)\n",
    "    q = torch.distributions.Normal(mu, torch.diag(sigma))\n",
    "    z_sample = q.rsample()\n",
    "    x_dec = self.decoder(z_sample.reshape(*orig_shape))\n",
    "    "
   ]
  },
  {
   "cell_type": "code",
   "execution_count": 124,
   "metadata": {
    "id": "yHsn06s7pl_k"
   },
   "outputs": [],
   "source": []
  }
 ],
 "metadata": {
  "accelerator": "GPU",
  "colab": {
   "name": "hw11.ipynb",
   "provenance": []
  },
  "kernelspec": {
   "display_name": "Python 3",
   "language": "python",
   "name": "python3"
  },
  "language_info": {
   "codemirror_mode": {
    "name": "ipython",
    "version": 3
   },
   "file_extension": ".py",
   "mimetype": "text/x-python",
   "name": "python",
   "nbconvert_exporter": "python",
   "pygments_lexer": "ipython3",
   "version": "3.8.5"
  },
  "widgets": {
   "application/vnd.jupyter.widget-state+json": {
    "013ee8fdc9274b32bdf9ba743722a972": {
     "model_module": "@jupyter-widgets/base",
     "model_name": "LayoutModel",
     "state": {
      "_model_module": "@jupyter-widgets/base",
      "_model_module_version": "1.2.0",
      "_model_name": "LayoutModel",
      "_view_count": null,
      "_view_module": "@jupyter-widgets/base",
      "_view_module_version": "1.2.0",
      "_view_name": "LayoutView",
      "align_content": null,
      "align_items": null,
      "align_self": null,
      "border": null,
      "bottom": null,
      "display": null,
      "flex": null,
      "flex_flow": null,
      "grid_area": null,
      "grid_auto_columns": null,
      "grid_auto_flow": null,
      "grid_auto_rows": null,
      "grid_column": null,
      "grid_gap": null,
      "grid_row": null,
      "grid_template_areas": null,
      "grid_template_columns": null,
      "grid_template_rows": null,
      "height": null,
      "justify_content": null,
      "justify_items": null,
      "left": null,
      "margin": null,
      "max_height": null,
      "max_width": null,
      "min_height": null,
      "min_width": null,
      "object_fit": null,
      "object_position": null,
      "order": null,
      "overflow": null,
      "overflow_x": null,
      "overflow_y": null,
      "padding": null,
      "right": null,
      "top": null,
      "visibility": null,
      "width": null
     }
    },
    "019f3aec36bc409c8dcfb0cf1dc2b38f": {
     "model_module": "@jupyter-widgets/controls",
     "model_name": "FloatProgressModel",
     "state": {
      "_dom_classes": [],
      "_model_module": "@jupyter-widgets/controls",
      "_model_module_version": "1.5.0",
      "_model_name": "FloatProgressModel",
      "_view_count": null,
      "_view_module": "@jupyter-widgets/controls",
      "_view_module_version": "1.5.0",
      "_view_name": "ProgressView",
      "bar_style": "success",
      "description": "",
      "description_tooltip": null,
      "layout": "IPY_MODEL_6fa52e44d773494b8c611a47d9c73779",
      "max": 1,
      "min": 0,
      "orientation": "horizontal",
      "style": "IPY_MODEL_37fa6f4204db423aac35f523806ee16e",
      "value": 1
     }
    },
    "0c0a6eb8c4c541b4878f104361a93f7c": {
     "model_module": "@jupyter-widgets/base",
     "model_name": "LayoutModel",
     "state": {
      "_model_module": "@jupyter-widgets/base",
      "_model_module_version": "1.2.0",
      "_model_name": "LayoutModel",
      "_view_count": null,
      "_view_module": "@jupyter-widgets/base",
      "_view_module_version": "1.2.0",
      "_view_name": "LayoutView",
      "align_content": null,
      "align_items": null,
      "align_self": null,
      "border": null,
      "bottom": null,
      "display": null,
      "flex": null,
      "flex_flow": null,
      "grid_area": null,
      "grid_auto_columns": null,
      "grid_auto_flow": null,
      "grid_auto_rows": null,
      "grid_column": null,
      "grid_gap": null,
      "grid_row": null,
      "grid_template_areas": null,
      "grid_template_columns": null,
      "grid_template_rows": null,
      "height": null,
      "justify_content": null,
      "justify_items": null,
      "left": null,
      "margin": null,
      "max_height": null,
      "max_width": null,
      "min_height": null,
      "min_width": null,
      "object_fit": null,
      "object_position": null,
      "order": null,
      "overflow": null,
      "overflow_x": null,
      "overflow_y": null,
      "padding": null,
      "right": null,
      "top": null,
      "visibility": null,
      "width": null
     }
    },
    "14279e6c801e4048817bc22c8dc0f4ea": {
     "model_module": "@jupyter-widgets/base",
     "model_name": "LayoutModel",
     "state": {
      "_model_module": "@jupyter-widgets/base",
      "_model_module_version": "1.2.0",
      "_model_name": "LayoutModel",
      "_view_count": null,
      "_view_module": "@jupyter-widgets/base",
      "_view_module_version": "1.2.0",
      "_view_name": "LayoutView",
      "align_content": null,
      "align_items": null,
      "align_self": null,
      "border": null,
      "bottom": null,
      "display": null,
      "flex": null,
      "flex_flow": null,
      "grid_area": null,
      "grid_auto_columns": null,
      "grid_auto_flow": null,
      "grid_auto_rows": null,
      "grid_column": null,
      "grid_gap": null,
      "grid_row": null,
      "grid_template_areas": null,
      "grid_template_columns": null,
      "grid_template_rows": null,
      "height": null,
      "justify_content": null,
      "justify_items": null,
      "left": null,
      "margin": null,
      "max_height": null,
      "max_width": null,
      "min_height": null,
      "min_width": null,
      "object_fit": null,
      "object_position": null,
      "order": null,
      "overflow": null,
      "overflow_x": null,
      "overflow_y": null,
      "padding": null,
      "right": null,
      "top": null,
      "visibility": null,
      "width": null
     }
    },
    "151b37cf99c74b51982402b5241daa54": {
     "model_module": "@jupyter-widgets/controls",
     "model_name": "FloatProgressModel",
     "state": {
      "_dom_classes": [],
      "_model_module": "@jupyter-widgets/controls",
      "_model_module_version": "1.5.0",
      "_model_name": "FloatProgressModel",
      "_view_count": null,
      "_view_module": "@jupyter-widgets/controls",
      "_view_module_version": "1.5.0",
      "_view_name": "ProgressView",
      "bar_style": "success",
      "description": "",
      "description_tooltip": null,
      "layout": "IPY_MODEL_c0f48ce30f544d56a3e58d4482974b8e",
      "max": 1,
      "min": 0,
      "orientation": "horizontal",
      "style": "IPY_MODEL_4e762565de5f47a589f8a6b14595ee7f",
      "value": 1
     }
    },
    "1e75369a08e045ddadd7b210a715bbc5": {
     "model_module": "@jupyter-widgets/controls",
     "model_name": "HBoxModel",
     "state": {
      "_dom_classes": [],
      "_model_module": "@jupyter-widgets/controls",
      "_model_module_version": "1.5.0",
      "_model_name": "HBoxModel",
      "_view_count": null,
      "_view_module": "@jupyter-widgets/controls",
      "_view_module_version": "1.5.0",
      "_view_name": "HBoxView",
      "box_style": "",
      "children": [
       "IPY_MODEL_151b37cf99c74b51982402b5241daa54",
       "IPY_MODEL_b4a1775dd2674ebf944d6eca1fe6a160"
      ],
      "layout": "IPY_MODEL_6bef49bd489345369fee8fd9ffd01c42"
     }
    },
    "2f657e2c2ba84a628483e8e772b84e79": {
     "model_module": "@jupyter-widgets/controls",
     "model_name": "ProgressStyleModel",
     "state": {
      "_model_module": "@jupyter-widgets/controls",
      "_model_module_version": "1.5.0",
      "_model_name": "ProgressStyleModel",
      "_view_count": null,
      "_view_module": "@jupyter-widgets/base",
      "_view_module_version": "1.2.0",
      "_view_name": "StyleView",
      "bar_color": null,
      "description_width": "initial"
     }
    },
    "37fa6f4204db423aac35f523806ee16e": {
     "model_module": "@jupyter-widgets/controls",
     "model_name": "ProgressStyleModel",
     "state": {
      "_model_module": "@jupyter-widgets/controls",
      "_model_module_version": "1.5.0",
      "_model_name": "ProgressStyleModel",
      "_view_count": null,
      "_view_module": "@jupyter-widgets/base",
      "_view_module_version": "1.2.0",
      "_view_name": "StyleView",
      "bar_color": null,
      "description_width": "initial"
     }
    },
    "3bbf822dc6f546c88343f0c2c88041e9": {
     "model_module": "@jupyter-widgets/base",
     "model_name": "LayoutModel",
     "state": {
      "_model_module": "@jupyter-widgets/base",
      "_model_module_version": "1.2.0",
      "_model_name": "LayoutModel",
      "_view_count": null,
      "_view_module": "@jupyter-widgets/base",
      "_view_module_version": "1.2.0",
      "_view_name": "LayoutView",
      "align_content": null,
      "align_items": null,
      "align_self": null,
      "border": null,
      "bottom": null,
      "display": null,
      "flex": null,
      "flex_flow": null,
      "grid_area": null,
      "grid_auto_columns": null,
      "grid_auto_flow": null,
      "grid_auto_rows": null,
      "grid_column": null,
      "grid_gap": null,
      "grid_row": null,
      "grid_template_areas": null,
      "grid_template_columns": null,
      "grid_template_rows": null,
      "height": null,
      "justify_content": null,
      "justify_items": null,
      "left": null,
      "margin": null,
      "max_height": null,
      "max_width": null,
      "min_height": null,
      "min_width": null,
      "object_fit": null,
      "object_position": null,
      "order": null,
      "overflow": null,
      "overflow_x": null,
      "overflow_y": null,
      "padding": null,
      "right": null,
      "top": null,
      "visibility": null,
      "width": null
     }
    },
    "437ee112288e4b93b6ea49ec95227175": {
     "model_module": "@jupyter-widgets/controls",
     "model_name": "FloatProgressModel",
     "state": {
      "_dom_classes": [],
      "_model_module": "@jupyter-widgets/controls",
      "_model_module_version": "1.5.0",
      "_model_name": "FloatProgressModel",
      "_view_count": null,
      "_view_module": "@jupyter-widgets/controls",
      "_view_module_version": "1.5.0",
      "_view_name": "ProgressView",
      "bar_style": "success",
      "description": "",
      "description_tooltip": null,
      "layout": "IPY_MODEL_f7f0e25096ab4501adc5a86b3dd9fd1b",
      "max": 1,
      "min": 0,
      "orientation": "horizontal",
      "style": "IPY_MODEL_2f657e2c2ba84a628483e8e772b84e79",
      "value": 1
     }
    },
    "4e3fd57e0b00424f9f2481d5a7857505": {
     "model_module": "@jupyter-widgets/controls",
     "model_name": "DescriptionStyleModel",
     "state": {
      "_model_module": "@jupyter-widgets/controls",
      "_model_module_version": "1.5.0",
      "_model_name": "DescriptionStyleModel",
      "_view_count": null,
      "_view_module": "@jupyter-widgets/base",
      "_view_module_version": "1.2.0",
      "_view_name": "StyleView",
      "description_width": ""
     }
    },
    "4e762565de5f47a589f8a6b14595ee7f": {
     "model_module": "@jupyter-widgets/controls",
     "model_name": "ProgressStyleModel",
     "state": {
      "_model_module": "@jupyter-widgets/controls",
      "_model_module_version": "1.5.0",
      "_model_name": "ProgressStyleModel",
      "_view_count": null,
      "_view_module": "@jupyter-widgets/base",
      "_view_module_version": "1.2.0",
      "_view_name": "StyleView",
      "bar_color": null,
      "description_width": "initial"
     }
    },
    "54e75496be6d4ef2bb05019d13167c37": {
     "model_module": "@jupyter-widgets/controls",
     "model_name": "HTMLModel",
     "state": {
      "_dom_classes": [],
      "_model_module": "@jupyter-widgets/controls",
      "_model_module_version": "1.5.0",
      "_model_name": "HTMLModel",
      "_view_count": null,
      "_view_module": "@jupyter-widgets/controls",
      "_view_module_version": "1.5.0",
      "_view_name": "HTMLView",
      "description": "",
      "description_tooltip": null,
      "layout": "IPY_MODEL_3bbf822dc6f546c88343f0c2c88041e9",
      "placeholder": "​",
      "style": "IPY_MODEL_ab154995af3f490bb85e21667353fd89",
      "value": " 8192/? [00:00&lt;00:00, 19173.47it/s]"
     }
    },
    "6bef49bd489345369fee8fd9ffd01c42": {
     "model_module": "@jupyter-widgets/base",
     "model_name": "LayoutModel",
     "state": {
      "_model_module": "@jupyter-widgets/base",
      "_model_module_version": "1.2.0",
      "_model_name": "LayoutModel",
      "_view_count": null,
      "_view_module": "@jupyter-widgets/base",
      "_view_module_version": "1.2.0",
      "_view_name": "LayoutView",
      "align_content": null,
      "align_items": null,
      "align_self": null,
      "border": null,
      "bottom": null,
      "display": null,
      "flex": null,
      "flex_flow": null,
      "grid_area": null,
      "grid_auto_columns": null,
      "grid_auto_flow": null,
      "grid_auto_rows": null,
      "grid_column": null,
      "grid_gap": null,
      "grid_row": null,
      "grid_template_areas": null,
      "grid_template_columns": null,
      "grid_template_rows": null,
      "height": null,
      "justify_content": null,
      "justify_items": null,
      "left": null,
      "margin": null,
      "max_height": null,
      "max_width": null,
      "min_height": null,
      "min_width": null,
      "object_fit": null,
      "object_position": null,
      "order": null,
      "overflow": null,
      "overflow_x": null,
      "overflow_y": null,
      "padding": null,
      "right": null,
      "top": null,
      "visibility": null,
      "width": null
     }
    },
    "6fa52e44d773494b8c611a47d9c73779": {
     "model_module": "@jupyter-widgets/base",
     "model_name": "LayoutModel",
     "state": {
      "_model_module": "@jupyter-widgets/base",
      "_model_module_version": "1.2.0",
      "_model_name": "LayoutModel",
      "_view_count": null,
      "_view_module": "@jupyter-widgets/base",
      "_view_module_version": "1.2.0",
      "_view_name": "LayoutView",
      "align_content": null,
      "align_items": null,
      "align_self": null,
      "border": null,
      "bottom": null,
      "display": null,
      "flex": null,
      "flex_flow": null,
      "grid_area": null,
      "grid_auto_columns": null,
      "grid_auto_flow": null,
      "grid_auto_rows": null,
      "grid_column": null,
      "grid_gap": null,
      "grid_row": null,
      "grid_template_areas": null,
      "grid_template_columns": null,
      "grid_template_rows": null,
      "height": null,
      "justify_content": null,
      "justify_items": null,
      "left": null,
      "margin": null,
      "max_height": null,
      "max_width": null,
      "min_height": null,
      "min_width": null,
      "object_fit": null,
      "object_position": null,
      "order": null,
      "overflow": null,
      "overflow_x": null,
      "overflow_y": null,
      "padding": null,
      "right": null,
      "top": null,
      "visibility": null,
      "width": null
     }
    },
    "714a65c736b54a06bd44d531708009d6": {
     "model_module": "@jupyter-widgets/controls",
     "model_name": "FloatProgressModel",
     "state": {
      "_dom_classes": [],
      "_model_module": "@jupyter-widgets/controls",
      "_model_module_version": "1.5.0",
      "_model_name": "FloatProgressModel",
      "_view_count": null,
      "_view_module": "@jupyter-widgets/controls",
      "_view_module_version": "1.5.0",
      "_view_name": "ProgressView",
      "bar_style": "success",
      "description": "",
      "description_tooltip": null,
      "layout": "IPY_MODEL_dbb39fa4422e47ccbe547a9924371bf5",
      "max": 1,
      "min": 0,
      "orientation": "horizontal",
      "style": "IPY_MODEL_ba50dcdda3e244f2bf1ddb60289dc6a0",
      "value": 1
     }
    },
    "75681ceae8694a9b9902cf814c5865f5": {
     "model_module": "@jupyter-widgets/controls",
     "model_name": "HBoxModel",
     "state": {
      "_dom_classes": [],
      "_model_module": "@jupyter-widgets/controls",
      "_model_module_version": "1.5.0",
      "_model_name": "HBoxModel",
      "_view_count": null,
      "_view_module": "@jupyter-widgets/controls",
      "_view_module_version": "1.5.0",
      "_view_name": "HBoxView",
      "box_style": "",
      "children": [
       "IPY_MODEL_714a65c736b54a06bd44d531708009d6",
       "IPY_MODEL_e2d56c2b108647c1be645a6e34e31401"
      ],
      "layout": "IPY_MODEL_013ee8fdc9274b32bdf9ba743722a972"
     }
    },
    "783c10e0da834a6aa6856950846786ae": {
     "model_module": "@jupyter-widgets/controls",
     "model_name": "HTMLModel",
     "state": {
      "_dom_classes": [],
      "_model_module": "@jupyter-widgets/controls",
      "_model_module_version": "1.5.0",
      "_model_name": "HTMLModel",
      "_view_count": null,
      "_view_module": "@jupyter-widgets/controls",
      "_view_module_version": "1.5.0",
      "_view_name": "HTMLView",
      "description": "",
      "description_tooltip": null,
      "layout": "IPY_MODEL_e0863ea75e7649b1a7e2628c09db273b",
      "placeholder": "​",
      "style": "IPY_MODEL_8ca84456075d498f881e5bc047c757dd",
      "value": " 32768/? [00:02&lt;00:00, 15986.24it/s]"
     }
    },
    "7f9279fdfe64499481d2e7261c7ca0ac": {
     "model_module": "@jupyter-widgets/base",
     "model_name": "LayoutModel",
     "state": {
      "_model_module": "@jupyter-widgets/base",
      "_model_module_version": "1.2.0",
      "_model_name": "LayoutModel",
      "_view_count": null,
      "_view_module": "@jupyter-widgets/base",
      "_view_module_version": "1.2.0",
      "_view_name": "LayoutView",
      "align_content": null,
      "align_items": null,
      "align_self": null,
      "border": null,
      "bottom": null,
      "display": null,
      "flex": null,
      "flex_flow": null,
      "grid_area": null,
      "grid_auto_columns": null,
      "grid_auto_flow": null,
      "grid_auto_rows": null,
      "grid_column": null,
      "grid_gap": null,
      "grid_row": null,
      "grid_template_areas": null,
      "grid_template_columns": null,
      "grid_template_rows": null,
      "height": null,
      "justify_content": null,
      "justify_items": null,
      "left": null,
      "margin": null,
      "max_height": null,
      "max_width": null,
      "min_height": null,
      "min_width": null,
      "object_fit": null,
      "object_position": null,
      "order": null,
      "overflow": null,
      "overflow_x": null,
      "overflow_y": null,
      "padding": null,
      "right": null,
      "top": null,
      "visibility": null,
      "width": null
     }
    },
    "8ca84456075d498f881e5bc047c757dd": {
     "model_module": "@jupyter-widgets/controls",
     "model_name": "DescriptionStyleModel",
     "state": {
      "_model_module": "@jupyter-widgets/controls",
      "_model_module_version": "1.5.0",
      "_model_name": "DescriptionStyleModel",
      "_view_count": null,
      "_view_module": "@jupyter-widgets/base",
      "_view_module_version": "1.2.0",
      "_view_name": "StyleView",
      "description_width": ""
     }
    },
    "ab154995af3f490bb85e21667353fd89": {
     "model_module": "@jupyter-widgets/controls",
     "model_name": "DescriptionStyleModel",
     "state": {
      "_model_module": "@jupyter-widgets/controls",
      "_model_module_version": "1.5.0",
      "_model_name": "DescriptionStyleModel",
      "_view_count": null,
      "_view_module": "@jupyter-widgets/base",
      "_view_module_version": "1.2.0",
      "_view_name": "StyleView",
      "description_width": ""
     }
    },
    "b0e288b83c3a405ea6d584d9cd8cda89": {
     "model_module": "@jupyter-widgets/controls",
     "model_name": "DescriptionStyleModel",
     "state": {
      "_model_module": "@jupyter-widgets/controls",
      "_model_module_version": "1.5.0",
      "_model_name": "DescriptionStyleModel",
      "_view_count": null,
      "_view_module": "@jupyter-widgets/base",
      "_view_module_version": "1.2.0",
      "_view_name": "StyleView",
      "description_width": ""
     }
    },
    "b4a1775dd2674ebf944d6eca1fe6a160": {
     "model_module": "@jupyter-widgets/controls",
     "model_name": "HTMLModel",
     "state": {
      "_dom_classes": [],
      "_model_module": "@jupyter-widgets/controls",
      "_model_module_version": "1.5.0",
      "_model_name": "HTMLModel",
      "_view_count": null,
      "_view_module": "@jupyter-widgets/controls",
      "_view_module_version": "1.5.0",
      "_view_name": "HTMLView",
      "description": "",
      "description_tooltip": null,
      "layout": "IPY_MODEL_0c0a6eb8c4c541b4878f104361a93f7c",
      "placeholder": "​",
      "style": "IPY_MODEL_4e3fd57e0b00424f9f2481d5a7857505",
      "value": " 1654784/? [00:01&lt;00:00, 1068200.20it/s]"
     }
    },
    "ba50dcdda3e244f2bf1ddb60289dc6a0": {
     "model_module": "@jupyter-widgets/controls",
     "model_name": "ProgressStyleModel",
     "state": {
      "_model_module": "@jupyter-widgets/controls",
      "_model_module_version": "1.5.0",
      "_model_name": "ProgressStyleModel",
      "_view_count": null,
      "_view_module": "@jupyter-widgets/base",
      "_view_module_version": "1.2.0",
      "_view_name": "StyleView",
      "bar_color": null,
      "description_width": "initial"
     }
    },
    "be46717686f04519a51779b6ddb36230": {
     "model_module": "@jupyter-widgets/controls",
     "model_name": "HBoxModel",
     "state": {
      "_dom_classes": [],
      "_model_module": "@jupyter-widgets/controls",
      "_model_module_version": "1.5.0",
      "_model_name": "HBoxModel",
      "_view_count": null,
      "_view_module": "@jupyter-widgets/controls",
      "_view_module_version": "1.5.0",
      "_view_name": "HBoxView",
      "box_style": "",
      "children": [
       "IPY_MODEL_019f3aec36bc409c8dcfb0cf1dc2b38f",
       "IPY_MODEL_54e75496be6d4ef2bb05019d13167c37"
      ],
      "layout": "IPY_MODEL_14279e6c801e4048817bc22c8dc0f4ea"
     }
    },
    "c0f48ce30f544d56a3e58d4482974b8e": {
     "model_module": "@jupyter-widgets/base",
     "model_name": "LayoutModel",
     "state": {
      "_model_module": "@jupyter-widgets/base",
      "_model_module_version": "1.2.0",
      "_model_name": "LayoutModel",
      "_view_count": null,
      "_view_module": "@jupyter-widgets/base",
      "_view_module_version": "1.2.0",
      "_view_name": "LayoutView",
      "align_content": null,
      "align_items": null,
      "align_self": null,
      "border": null,
      "bottom": null,
      "display": null,
      "flex": null,
      "flex_flow": null,
      "grid_area": null,
      "grid_auto_columns": null,
      "grid_auto_flow": null,
      "grid_auto_rows": null,
      "grid_column": null,
      "grid_gap": null,
      "grid_row": null,
      "grid_template_areas": null,
      "grid_template_columns": null,
      "grid_template_rows": null,
      "height": null,
      "justify_content": null,
      "justify_items": null,
      "left": null,
      "margin": null,
      "max_height": null,
      "max_width": null,
      "min_height": null,
      "min_width": null,
      "object_fit": null,
      "object_position": null,
      "order": null,
      "overflow": null,
      "overflow_x": null,
      "overflow_y": null,
      "padding": null,
      "right": null,
      "top": null,
      "visibility": null,
      "width": null
     }
    },
    "c7f334274c144fb7a7cc3a7db90f17eb": {
     "model_module": "@jupyter-widgets/base",
     "model_name": "LayoutModel",
     "state": {
      "_model_module": "@jupyter-widgets/base",
      "_model_module_version": "1.2.0",
      "_model_name": "LayoutModel",
      "_view_count": null,
      "_view_module": "@jupyter-widgets/base",
      "_view_module_version": "1.2.0",
      "_view_name": "LayoutView",
      "align_content": null,
      "align_items": null,
      "align_self": null,
      "border": null,
      "bottom": null,
      "display": null,
      "flex": null,
      "flex_flow": null,
      "grid_area": null,
      "grid_auto_columns": null,
      "grid_auto_flow": null,
      "grid_auto_rows": null,
      "grid_column": null,
      "grid_gap": null,
      "grid_row": null,
      "grid_template_areas": null,
      "grid_template_columns": null,
      "grid_template_rows": null,
      "height": null,
      "justify_content": null,
      "justify_items": null,
      "left": null,
      "margin": null,
      "max_height": null,
      "max_width": null,
      "min_height": null,
      "min_width": null,
      "object_fit": null,
      "object_position": null,
      "order": null,
      "overflow": null,
      "overflow_x": null,
      "overflow_y": null,
      "padding": null,
      "right": null,
      "top": null,
      "visibility": null,
      "width": null
     }
    },
    "dbb39fa4422e47ccbe547a9924371bf5": {
     "model_module": "@jupyter-widgets/base",
     "model_name": "LayoutModel",
     "state": {
      "_model_module": "@jupyter-widgets/base",
      "_model_module_version": "1.2.0",
      "_model_name": "LayoutModel",
      "_view_count": null,
      "_view_module": "@jupyter-widgets/base",
      "_view_module_version": "1.2.0",
      "_view_name": "LayoutView",
      "align_content": null,
      "align_items": null,
      "align_self": null,
      "border": null,
      "bottom": null,
      "display": null,
      "flex": null,
      "flex_flow": null,
      "grid_area": null,
      "grid_auto_columns": null,
      "grid_auto_flow": null,
      "grid_auto_rows": null,
      "grid_column": null,
      "grid_gap": null,
      "grid_row": null,
      "grid_template_areas": null,
      "grid_template_columns": null,
      "grid_template_rows": null,
      "height": null,
      "justify_content": null,
      "justify_items": null,
      "left": null,
      "margin": null,
      "max_height": null,
      "max_width": null,
      "min_height": null,
      "min_width": null,
      "object_fit": null,
      "object_position": null,
      "order": null,
      "overflow": null,
      "overflow_x": null,
      "overflow_y": null,
      "padding": null,
      "right": null,
      "top": null,
      "visibility": null,
      "width": null
     }
    },
    "e0863ea75e7649b1a7e2628c09db273b": {
     "model_module": "@jupyter-widgets/base",
     "model_name": "LayoutModel",
     "state": {
      "_model_module": "@jupyter-widgets/base",
      "_model_module_version": "1.2.0",
      "_model_name": "LayoutModel",
      "_view_count": null,
      "_view_module": "@jupyter-widgets/base",
      "_view_module_version": "1.2.0",
      "_view_name": "LayoutView",
      "align_content": null,
      "align_items": null,
      "align_self": null,
      "border": null,
      "bottom": null,
      "display": null,
      "flex": null,
      "flex_flow": null,
      "grid_area": null,
      "grid_auto_columns": null,
      "grid_auto_flow": null,
      "grid_auto_rows": null,
      "grid_column": null,
      "grid_gap": null,
      "grid_row": null,
      "grid_template_areas": null,
      "grid_template_columns": null,
      "grid_template_rows": null,
      "height": null,
      "justify_content": null,
      "justify_items": null,
      "left": null,
      "margin": null,
      "max_height": null,
      "max_width": null,
      "min_height": null,
      "min_width": null,
      "object_fit": null,
      "object_position": null,
      "order": null,
      "overflow": null,
      "overflow_x": null,
      "overflow_y": null,
      "padding": null,
      "right": null,
      "top": null,
      "visibility": null,
      "width": null
     }
    },
    "e2d56c2b108647c1be645a6e34e31401": {
     "model_module": "@jupyter-widgets/controls",
     "model_name": "HTMLModel",
     "state": {
      "_dom_classes": [],
      "_model_module": "@jupyter-widgets/controls",
      "_model_module_version": "1.5.0",
      "_model_name": "HTMLModel",
      "_view_count": null,
      "_view_module": "@jupyter-widgets/controls",
      "_view_module_version": "1.5.0",
      "_view_name": "HTMLView",
      "description": "",
      "description_tooltip": null,
      "layout": "IPY_MODEL_7f9279fdfe64499481d2e7261c7ca0ac",
      "placeholder": "​",
      "style": "IPY_MODEL_b0e288b83c3a405ea6d584d9cd8cda89",
      "value": " 9920512/? [00:03&lt;00:00, 2853573.41it/s]"
     }
    },
    "ea2dd7a8f83a4a17a3b8ca1e4a8e801a": {
     "model_module": "@jupyter-widgets/controls",
     "model_name": "HBoxModel",
     "state": {
      "_dom_classes": [],
      "_model_module": "@jupyter-widgets/controls",
      "_model_module_version": "1.5.0",
      "_model_name": "HBoxModel",
      "_view_count": null,
      "_view_module": "@jupyter-widgets/controls",
      "_view_module_version": "1.5.0",
      "_view_name": "HBoxView",
      "box_style": "",
      "children": [
       "IPY_MODEL_437ee112288e4b93b6ea49ec95227175",
       "IPY_MODEL_783c10e0da834a6aa6856950846786ae"
      ],
      "layout": "IPY_MODEL_c7f334274c144fb7a7cc3a7db90f17eb"
     }
    },
    "f7f0e25096ab4501adc5a86b3dd9fd1b": {
     "model_module": "@jupyter-widgets/base",
     "model_name": "LayoutModel",
     "state": {
      "_model_module": "@jupyter-widgets/base",
      "_model_module_version": "1.2.0",
      "_model_name": "LayoutModel",
      "_view_count": null,
      "_view_module": "@jupyter-widgets/base",
      "_view_module_version": "1.2.0",
      "_view_name": "LayoutView",
      "align_content": null,
      "align_items": null,
      "align_self": null,
      "border": null,
      "bottom": null,
      "display": null,
      "flex": null,
      "flex_flow": null,
      "grid_area": null,
      "grid_auto_columns": null,
      "grid_auto_flow": null,
      "grid_auto_rows": null,
      "grid_column": null,
      "grid_gap": null,
      "grid_row": null,
      "grid_template_areas": null,
      "grid_template_columns": null,
      "grid_template_rows": null,
      "height": null,
      "justify_content": null,
      "justify_items": null,
      "left": null,
      "margin": null,
      "max_height": null,
      "max_width": null,
      "min_height": null,
      "min_width": null,
      "object_fit": null,
      "object_position": null,
      "order": null,
      "overflow": null,
      "overflow_x": null,
      "overflow_y": null,
      "padding": null,
      "right": null,
      "top": null,
      "visibility": null,
      "width": null
     }
    }
   }
  }
 },
 "nbformat": 4,
 "nbformat_minor": 1
}
