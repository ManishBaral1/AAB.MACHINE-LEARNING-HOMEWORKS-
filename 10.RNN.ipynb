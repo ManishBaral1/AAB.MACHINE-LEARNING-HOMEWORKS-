{
  "nbformat": 4,
  "nbformat_minor": 0,
  "metadata": {
    "language_info": {
      "codemirror_mode": {
        "name": "ipython",
        "version": 2
      },
      "file_extension": ".py",
      "mimetype": "text/x-python",
      "name": "python",
      "nbconvert_exporter": "python",
      "pygments_lexer": "ipython2",
      "version": "2.7.6"
    },
    "kernelspec": {
      "name": "python3",
      "language": "python",
      "display_name": "Python 3"
    },
    "pycharm": {
      "stem_cell": {
        "cell_type": "raw",
        "source": [],
        "metadata": {
          "collapsed": false
        }
      }
    },
    "colab": {
      "name": "Copy of RNN_Assignment_13.ipynb",
      "provenance": [],
      "collapsed_sections": []
    },
    "accelerator": "GPU"
  },
  "cells": [
    {
      "cell_type": "markdown",
      "metadata": {
        "collapsed": true,
        "pycharm": {
          "name": "#%% md\n"
        },
        "id": "75VOiRumbtCW"
      },
      "source": [
        "# Text Generation with RNNs\n"
      ]
    },
    {
      "cell_type": "code",
      "metadata": {
        "pycharm": {
          "name": "#%%\n",
          "is_executing": false
        },
        "id": "q-eZcyy_btCX"
      },
      "source": [
        "import numpy as np\n",
        "import torch\n",
        "from torch import nn\n",
        "import torch.nn.functional as F\n",
        "from collections import OrderedDict\n",
        "\n"
      ],
      "execution_count": 1,
      "outputs": []
    },
    {
      "cell_type": "markdown",
      "metadata": {
        "collapsed": false,
        "id": "Kwc0o4bGbtCa"
      },
      "source": [
        "### 1 Dataset\n",
        "Define the path of the file, you want to read and train the model on\n"
      ]
    },
    {
      "cell_type": "code",
      "metadata": {
        "colab": {
          "base_uri": "https://localhost:8080/"
        },
        "id": "fRrLG7amunm6",
        "outputId": "4add22e6-e0a0-4cbf-e2e2-9ba73ad42d65"
      },
      "source": [
        "# link given in https://discord.com/channels/769888668915597342/808396835051536424/812083278730362930\n",
        "![ -e '2701.txt' ] || wget 'https://raw.githubusercontent.com/GITenberg/Moby-Dick--Or-The-Whale_2701/master/2701.txt'"
      ],
      "execution_count": 2,
      "outputs": [
        {
          "output_type": "stream",
          "text": [
            "--2021-02-22 08:05:15--  https://raw.githubusercontent.com/GITenberg/Moby-Dick--Or-The-Whale_2701/master/2701.txt\n",
            "Resolving raw.githubusercontent.com (raw.githubusercontent.com)... 185.199.108.133, 185.199.109.133, 185.199.110.133, ...\n",
            "Connecting to raw.githubusercontent.com (raw.githubusercontent.com)|185.199.108.133|:443... connected.\n",
            "HTTP request sent, awaiting response... 200 OK\n",
            "Length: 1257304 (1.2M) [text/plain]\n",
            "Saving to: ‘2701.txt’\n",
            "\n",
            "\r2701.txt              0%[                    ]       0  --.-KB/s               \r2701.txt            100%[===================>]   1.20M  --.-KB/s    in 0.02s   \n",
            "\n",
            "2021-02-22 08:05:16 (49.3 MB/s) - ‘2701.txt’ saved [1257304/1257304]\n",
            "\n"
          ],
          "name": "stdout"
        }
      ]
    },
    {
      "cell_type": "code",
      "metadata": {
        "pycharm": {
          "name": "#%%\n",
          "is_executing": false
        },
        "id": "_-pWsSdWbtCb"
      },
      "source": [
        "path_to_file = './2701.txt'\n",
        "text = open(path_to_file, encoding='utf-8').read().replace('\\r\\n', '\\n')"
      ],
      "execution_count": 3,
      "outputs": []
    },
    {
      "cell_type": "code",
      "metadata": {
        "id": "LypDZbKRno8k"
      },
      "source": [
        "text = text[23047:]  # seek to chapter 1\n",
        "text = text[:100000]"
      ],
      "execution_count": 4,
      "outputs": []
    },
    {
      "cell_type": "markdown",
      "metadata": {
        "collapsed": false,
        "id": "ku1gyuOibtCd"
      },
      "source": [
        "\n",
        "#### Inspect the dataset\n",
        "Take a look at the first 250 characters in text"
      ]
    },
    {
      "cell_type": "code",
      "metadata": {
        "pycharm": {
          "name": "#%%\n",
          "is_executing": false
        },
        "id": "hOoE3ZLwbtCe",
        "colab": {
          "base_uri": "https://localhost:8080/"
        },
        "outputId": "9ed33feb-2132-4401-8ca3-a7a9123fa5b1"
      },
      "source": [
        "print(text[:250])\n",
        "\n"
      ],
      "execution_count": 5,
      "outputs": [
        {
          "output_type": "stream",
          "text": [
            "CHAPTER 1. Loomings.\n",
            "\n",
            "\n",
            "Call me Ishmael. Some years ago--never mind how long precisely--having\n",
            "little or no money in my purse, and nothing particular to interest me on\n",
            "shore, I thought I would sail about a little and see the watery part of\n",
            "the world. \n"
          ],
          "name": "stdout"
        }
      ]
    },
    {
      "cell_type": "code",
      "metadata": {
        "pycharm": {
          "name": "#%% \n",
          "is_executing": false
        },
        "id": "ixxZ4yBqbtCh",
        "colab": {
          "base_uri": "https://localhost:8080/"
        },
        "outputId": "ca2f676a-de9b-4dd9-a80c-95a60acb997c"
      },
      "source": [
        "# The unique characters in the file\n",
        "vocab = sorted(set(text))\n",
        "print ('{} unique characters'.format(len(vocab)))\n"
      ],
      "execution_count": 6,
      "outputs": [
        {
          "output_type": "stream",
          "text": [
            "73 unique characters\n"
          ],
          "name": "stdout"
        }
      ]
    },
    {
      "cell_type": "markdown",
      "metadata": {
        "collapsed": false,
        "pycharm": {
          "name": "#%% md\n"
        },
        "id": "luvcRu86btCj"
      },
      "source": [
        "### 2 Process the dataset for the learning task\n",
        "The task that we want our model to achieve is: given a character, or a sequence of characters, what is the most probable next character?\n",
        "\n",
        "To achieve this, we will input a sequence of characters to the model, and train the model to predict the output, that is, the following character at each time step. RNNs maintain an internal state that depends on previously seen elements, so information about all characters seen up until a given moment will be taken into account in generating the prediction.\n",
        "\n",
        "#### Vectorize the text\n",
        "Before we begin training our RNN model, we'll need to create a numerical representation of our text-based dataset. To do this, we'll generate two lookup tables: one that maps characters to numbers, and a second that maps numbers back to characters. Recall that we just identified the unique characters present in the text."
      ]
    },
    {
      "cell_type": "code",
      "metadata": {
        "pycharm": {
          "name": "#%%\n",
          "is_executing": false
        },
        "id": "7koc3Q2dbtCk"
      },
      "source": [
        "# Creating a mapping from unique characters to indices\n",
        "char2idx = {u:i for i, u in enumerate(vocab)}\n",
        "text_as_int = np.array([char2idx[c] for c in text])\n",
        "\n",
        "# Create a mapping from indices to characters\n",
        "idx2char = np.array(vocab)"
      ],
      "execution_count": 7,
      "outputs": []
    },
    {
      "cell_type": "markdown",
      "metadata": {
        "collapsed": false,
        "id": "s04cWuBCbtCm"
      },
      "source": [
        "\n",
        "This gives us an integer representation for each character. Observe that the unique characters (i.e., our vocabulary) in the text are mapped as indices from 0 to len(unique). Let's take a peek at this numerical representation of our dataset:"
      ]
    },
    {
      "cell_type": "code",
      "metadata": {
        "pycharm": {
          "name": "#%%\n",
          "is_executing": false
        },
        "id": "7Rbt2hfpbtCn",
        "colab": {
          "base_uri": "https://localhost:8080/"
        },
        "outputId": "9aa9d18b-a920-4c89-da54-a8d6c4ea7aa6"
      },
      "source": [
        "\n",
        "print('{')\n",
        "for char,_ in zip(char2idx, range(20)):\n",
        "    print('  {:4s}: {:3d},'.format(repr(char), char2idx[char]))\n",
        "print('  ...\\n}')"
      ],
      "execution_count": 8,
      "outputs": [
        {
          "output_type": "stream",
          "text": [
            "{\n",
            "  '\\n':   0,\n",
            "  ' ' :   1,\n",
            "  '!' :   2,\n",
            "  '\"' :   3,\n",
            "  \"'\" :   4,\n",
            "  '(' :   5,\n",
            "  ')' :   6,\n",
            "  ',' :   7,\n",
            "  '-' :   8,\n",
            "  '.' :   9,\n",
            "  '1' :  10,\n",
            "  '2' :  11,\n",
            "  '3' :  12,\n",
            "  '4' :  13,\n",
            "  '5' :  14,\n",
            "  '6' :  15,\n",
            "  '7' :  16,\n",
            "  '8' :  17,\n",
            "  '9' :  18,\n",
            "  ':' :  19,\n",
            "  ...\n",
            "}\n"
          ],
          "name": "stdout"
        }
      ]
    },
    {
      "cell_type": "markdown",
      "metadata": {
        "collapsed": false,
        "id": "Dsh270g9btCp"
      },
      "source": [
        "\n",
        "\n",
        "We can also look at how the first part of the text is mapped to an integer representation:"
      ]
    },
    {
      "cell_type": "code",
      "metadata": {
        "pycharm": {
          "name": "#%%\n",
          "is_executing": false
        },
        "id": "egRTUKhlbtCq",
        "colab": {
          "base_uri": "https://localhost:8080/"
        },
        "outputId": "f2c3ffea-6bce-4af6-b996-b20a9949485c"
      },
      "source": [
        "print ('{} ---- characters mapped to int ---- > {}'.format(repr(text[:13]), text_as_int[:13]))\n",
        "\n"
      ],
      "execution_count": 9,
      "outputs": [
        {
          "output_type": "stream",
          "text": [
            "'CHAPTER 1. Lo' ---- characters mapped to int ---- > [24 29 22 37 41 26 39  1 10  9  1 33 61]\n"
          ],
          "name": "stdout"
        }
      ]
    },
    {
      "cell_type": "markdown",
      "metadata": {
        "collapsed": false,
        "id": "fti3o5GHbtCs"
      },
      "source": [
        "#### Defining a method to encode one hot labels"
      ]
    },
    {
      "cell_type": "code",
      "metadata": {
        "pycharm": {
          "name": "#%%\n",
          "is_executing": false
        },
        "id": "oef5BSBpbtCt"
      },
      "source": [
        "def one_hot_encode(arr, n_labels):\n",
        "    # Initialize the the encoded array\n",
        "    one_hot = np.zeros((np.multiply(*arr.shape), n_labels), dtype=np.float32)\n",
        "\n",
        "    # Fill the appropriate elements with ones\n",
        "    one_hot[np.arange(one_hot.shape[0]), arr.flatten()] = 1.\n",
        "\n",
        "    # Finally reshape it to get back to the original array\n",
        "    one_hot = one_hot.reshape((*arr.shape, n_labels))\n",
        "\n",
        "    return one_hot"
      ],
      "execution_count": 10,
      "outputs": []
    },
    {
      "cell_type": "markdown",
      "metadata": {
        "collapsed": false,
        "id": "RxoJlIhmbtCw"
      },
      "source": [
        "\n",
        "#### Defining a method to make mini-batches for training"
      ]
    },
    {
      "cell_type": "code",
      "metadata": {
        "pycharm": {
          "name": "#%%\n",
          "is_executing": false
        },
        "id": "1JNdq5YgbtCw"
      },
      "source": [
        "def get_batches(arr, batch_size, seq_length):\n",
        "    '''Create a generator that returns batches of size\n",
        "       batch_size x seq_length from arr.\n",
        "\n",
        "       Arguments\n",
        "       ---------\n",
        "       arr: Array you want to make batches from\n",
        "       batch_size: Batch size, the number of sequences per batch\n",
        "       seq_length: Number of encoded chars in a sequence\n",
        "    '''\n",
        "\n",
        "    batch_size_total = batch_size * seq_length\n",
        "    # total number of batches we can make\n",
        "    n_batches = len(arr) // batch_size_total\n",
        "\n",
        "    # Keep only enough characters to make full batches\n",
        "    arr = arr[:n_batches * batch_size_total]\n",
        "    # Reshape into batch_size rows\n",
        "    arr = arr.reshape((batch_size, -1))\n",
        "\n",
        "    # iterate through the array, one sequence at a time\n",
        "    for n in range(0, arr.shape[1], seq_length):\n",
        "        # The features\n",
        "        x = arr[:, n:n + seq_length]\n",
        "        # The targets, shifted by one\n",
        "        y = np.zeros_like(x)\n",
        "        try:\n",
        "            y[:, :-1], y[:, -1] = x[:, 1:], arr[:, n + seq_length]\n",
        "        except IndexError:\n",
        "            y[:, :-1], y[:, -1] = x[:, 1:], arr[:, 0]\n",
        "        yield x, y\n",
        "\n"
      ],
      "execution_count": 11,
      "outputs": []
    },
    {
      "cell_type": "markdown",
      "metadata": {
        "collapsed": false,
        "id": "oHoy0u0abtCz"
      },
      "source": [
        "\n",
        "## 3 The Recurrent Neural Network (RNN) model"
      ]
    },
    {
      "cell_type": "markdown",
      "metadata": {
        "collapsed": false,
        "id": "Tkdc8Z6VbtC0"
      },
      "source": [
        "\n",
        "###### Check if GPU is available"
      ]
    },
    {
      "cell_type": "code",
      "metadata": {
        "pycharm": {
          "name": "#%%\n",
          "is_executing": false
        },
        "id": "5wRmMM9kbtC0",
        "colab": {
          "base_uri": "https://localhost:8080/"
        },
        "outputId": "62c1a284-3fbb-442a-d3df-9374ef4a9b1d"
      },
      "source": [
        "train_on_gpu = torch.cuda.is_available()\n",
        "print ('Training on GPU' if train_on_gpu else 'Training on CPU')"
      ],
      "execution_count": 12,
      "outputs": [
        {
          "output_type": "stream",
          "text": [
            "Training on GPU\n"
          ],
          "name": "stdout"
        }
      ]
    },
    {
      "cell_type": "markdown",
      "metadata": {
        "collapsed": false,
        "id": "C4b7JO6FbtC3"
      },
      "source": [
        "\n",
        "### Declaring the model"
      ]
    },
    {
      "cell_type": "code",
      "metadata": {
        "pycharm": {
          "name": "#%%\n",
          "is_executing": false
        },
        "id": "k72_pm6obtC3"
      },
      "source": [
        "class VanillaCharRNN(nn.Module):\n",
        "    def __init__(self, vocab, n_hidden=256, n_layers=2,\n",
        "                 drop_prob=0.5, lr=0.001):\n",
        "        super().__init__()\n",
        "        self.drop_prob = drop_prob\n",
        "        self.n_layers = n_layers\n",
        "        self.n_hidden = n_hidden\n",
        "        self.lr = lr\n",
        "        self.vocab = vocab\n",
        "        \n",
        "        n_features = len(vocab) + n_hidden\n",
        "        self.body = nn.Sequential(OrderedDict([\n",
        "                                   layer\n",
        "                                   for i in range(n_layers)\n",
        "                                   for layer in [\n",
        "                                     (f'linear_{i}', nn.Linear(n_features, n_features)),\n",
        "                                     (f'tanh', nn.Tanh()) if i == n_layers - 1 else (f'relu_{i}', nn.ReLU())\n",
        "        ]]))\n",
        "\n",
        "\n",
        "    def forward(self, x, hidden):\n",
        "\n",
        "        n_hidden = self.n_hidden\n",
        "        if type(hidden) == tuple:\n",
        "          hidden = torch.vstack(hidden)\n",
        "        y = torch.zeros_like(x)\n",
        "        hidden_t = hidden\n",
        "        for i in range(x.shape[1]):\n",
        "          xi = x[:, i]\n",
        "          yi = self.body(torch.hstack([xi, hidden_t]))\n",
        "          yi, hidden_t = yi[:, :-n_hidden], yi[:, -n_hidden:]\n",
        "          y[:, i] = yi\n",
        "\n",
        "        # return the final output and the hidden state\n",
        "        return y, hidden_t\n",
        "\n",
        "    def init_hidden(self, batch_size):\n",
        "        ''' Initializes hidden state '''\n",
        "        \n",
        "        hidden = torch.zeros((batch_size, self.n_hidden))\n",
        "        if train_on_gpu:\n",
        "          hidden = hidden.cuda()\n",
        "\n",
        "        return hidden"
      ],
      "execution_count": 13,
      "outputs": []
    },
    {
      "cell_type": "code",
      "metadata": {
        "id": "eKFZqqjw013I"
      },
      "source": [
        "class LSTMCharRNN(nn.Module):\n",
        "    def __init__(self, vocab, n_hidden=256, n_layers=2,\n",
        "                 drop_prob=0.5, lr=0.001):\n",
        "        super().__init__()\n",
        "        self.drop_prob = drop_prob\n",
        "        self.n_layers = n_layers\n",
        "        self.n_hidden = n_hidden\n",
        "        self.lr = lr\n",
        "        self.vocab = vocab\n",
        "        \n",
        "        n_features = len(vocab) + n_hidden\n",
        "        self.block_c = nn.Sequential(OrderedDict([\n",
        "              ('linear', nn.Linear(n_features, n_features)),\n",
        "              ('tanh', nn.Tanh())\n",
        "        ]))\n",
        "        self.block_f = nn.Sequential(OrderedDict([\n",
        "              ('linear', nn.Linear(n_features, n_features)),\n",
        "              ('sigmoid', nn.Sigmoid())\n",
        "        ]))\n",
        "        self.block_i = nn.Sequential(OrderedDict([\n",
        "              ('linear', nn.Linear(n_features, n_features)),\n",
        "              ('sigmoid', nn.Sigmoid())\n",
        "        ]))\n",
        "        self.block_o = nn.Sequential(OrderedDict([\n",
        "              ('linear', nn.Linear(n_features, n_features)),\n",
        "              ('sigmoid', nn.Sigmoid())\n",
        "        ]))\n",
        "\n",
        "\n",
        "    def forward(self, x, hidden):\n",
        "        # return the final output and the hidden state\n",
        "        n_hidden = self.n_hidden\n",
        "        y = torch.zeros_like(x)\n",
        "        hidden_t, C = hidden\n",
        "        for i in range(x.shape[1]):\n",
        "          xi = x[:, i]\n",
        "          yi, C = self.forward_one(torch.hstack([xi, hidden_t]), C)\n",
        "          yi, hidden_t = yi[:, :-n_hidden], yi[:, -n_hidden:]\n",
        "          y[:, i] = yi\n",
        "        return y, (hidden_t, C)\n",
        "    \n",
        "    def forward_one(self, xh, C):\n",
        "        simC = self.block_c(xh)\n",
        "        f = self.block_f(xh)\n",
        "        i = self.block_i(xh)\n",
        "        Cnew = f * C + i * simC\n",
        "        o = self.block_o(xh)\n",
        "        yh = o * F.tanh(Cnew)\n",
        "        return yh, Cnew\n",
        "\n",
        "    def init_hidden(self, batch_size):\n",
        "        ''' Initializes hidden state '''\n",
        "        \n",
        "        hidden = torch.zeros((batch_size, self.n_hidden))\n",
        "        C = torch.zeros((batch_size, self.n_hidden + len(self.vocab)))\n",
        "        if train_on_gpu:\n",
        "          hidden = hidden.cuda()\n",
        "          C = C.cuda()\n",
        "\n",
        "        return hidden, C"
      ],
      "execution_count": 14,
      "outputs": []
    },
    {
      "cell_type": "markdown",
      "metadata": {
        "collapsed": false,
        "id": "hD6AFo9zbtC8"
      },
      "source": [
        "\n",
        "#### Declaring the train method"
      ]
    },
    {
      "cell_type": "code",
      "metadata": {
        "pycharm": {
          "name": "#%%\n",
          "is_executing": false
        },
        "id": "S2HKSmmAbtC9"
      },
      "source": [
        "def train(model, data, epochs=10, batch_size=10, seq_length=50, lr=0.001, clip=5, val_frac=0.1, print_every=10):\n",
        "    ''' Training a network\n",
        "\n",
        "        Arguments\n",
        "        ---------\n",
        "\n",
        "        model: CharRNN network\n",
        "        data: text data to train the network\n",
        "        epochs: Number of epochs to train\n",
        "        batch_size: Number of mini-sequences per mini-batch, aka batch size\n",
        "        seq_length: Number of character steps per mini-batch\n",
        "        lr: learning rate\n",
        "        clip: gradient clipping\n",
        "        val_frac: Fraction of data to hold out for validation\n",
        "        print_every: Number of steps for printing training and validation loss\n",
        "\n",
        "    '''\n",
        "    model.train()\n",
        "\n",
        "    opt = torch.optim.Adam(model.parameters(), lr=lr)\n",
        "    criterion = nn.CrossEntropyLoss()\n",
        "\n",
        "    # create training and validation data\n",
        "    val_idx = int(len(data) * (1 - val_frac))\n",
        "    data, val_data = data[:val_idx], data[val_idx:]\n",
        "\n",
        "    if (train_on_gpu):\n",
        "        model.cuda()\n",
        "\n",
        "    counter = 0\n",
        "    n_vocab = len(model.vocab)\n",
        "    for e in range(epochs):\n",
        "        # initialize hidden state\n",
        "        h = model.init_hidden(batch_size)\n",
        "        \n",
        "        dataset = get_batches(data, batch_size, seq_length)\n",
        "\n",
        "        for x, y in dataset:\n",
        "            counter += 1\n",
        "\n",
        "            # One-hot encode our data and make them Torch tensors\n",
        "            x = one_hot_encode(x, n_vocab)\n",
        "            y = y.reshape(-1)\n",
        "            inputs, targets = torch.from_numpy(x), torch.from_numpy(y).long()\n",
        "\n",
        "            if (train_on_gpu):\n",
        "                inputs, targets = inputs.cuda(), targets.cuda()\n",
        "\n",
        "            # Creating new variables for the hidden state, otherwise\n",
        "            # we'd backprop through the entire training history\n",
        "            h = tuple([each.data for each in h])\n",
        "\n",
        "            # zero accumulated gradients\n",
        "            model.zero_grad()\n",
        "            \n",
        "            '''TODO: feed the current input into the model and generate output'''\n",
        "            output, h = model(inputs, h)\n",
        "\n",
        "            loss = criterion(output.reshape((len(targets), -1)), targets)\n",
        "            \n",
        "            # perform backprop\n",
        "            loss.backward()\n",
        "            # `clip_grad_norm` helps prevent the exploding gradient problem in RNNs / LSTMs.\n",
        "            nn.utils.clip_grad_norm_(model.parameters(), clip)\n",
        "            opt.step()\n",
        "\n",
        "            # loss stats\n",
        "            if counter % print_every == 0:\n",
        "                # Get validation loss\n",
        "                val_h = model.init_hidden(batch_size)\n",
        "                val_losses = []\n",
        "                model.eval()\n",
        "                for x, y in get_batches(val_data, batch_size, seq_length):\n",
        "                    # One-hot encode our data and make them Torch tensors\n",
        "                    x = one_hot_encode(x, n_vocab)\n",
        "                    y = y.reshape(-1)\n",
        "                    x, y = torch.from_numpy(x), torch.from_numpy(y)\n",
        "\n",
        "                    # Creating new variables for the hidden state, otherwise\n",
        "                    # we'd backprop through the entire training history\n",
        "                    val_h = tuple([each.data for each in val_h])\n",
        "\n",
        "                    inputs, targets = x, y\n",
        "                    if (train_on_gpu):\n",
        "                        inputs, targets = inputs.cuda(), targets.cuda()\n",
        "\n",
        "                    output, val_h = model(inputs, val_h)\n",
        "                    \n",
        "                    val_loss = criterion(output.reshape((len(targets), -1)), targets)\n",
        "\n",
        "                    val_losses.append(val_loss.item())\n",
        "\n",
        "                print(\"Epoch: {}/{}...\".format(e + 1, epochs),\n",
        "                      \"Step: {}...\".format(counter),\n",
        "                      \"Loss: {:.4f}...\".format(loss.item()),\n",
        "                      \"Val Loss: {:.4f}\".format(np.mean(val_losses)))\n",
        "                \n",
        "                input_eval = \"The \"\n",
        "                print(sample(model, 1000, prime=input_eval, top_k=5))\n",
        "                \n",
        "                model.train()  # reset to train mode after iterationg through validation data"
      ],
      "execution_count": 15,
      "outputs": []
    },
    {
      "cell_type": "markdown",
      "metadata": {
        "collapsed": false,
        "id": "wtlmj6sAbtC_"
      },
      "source": [
        "\n",
        "##### Defining a method to generate the next character"
      ]
    },
    {
      "cell_type": "code",
      "metadata": {
        "pycharm": {
          "name": "#%%\n",
          "is_executing": false
        },
        "id": "eTDAUosNbtC_"
      },
      "source": [
        "def predict(model, char, h=None, top_k=None):\n",
        "    ''' Given a character, predict the next character.\n",
        "        Returns the predicted character and the hidden state.\n",
        "    '''\n",
        "\n",
        "    # tensor inputs\n",
        "    x = np.array([[char2idx[char]]])\n",
        "    x = one_hot_encode(x, len(model.vocab))\n",
        "    inputs = torch.from_numpy(x)\n",
        "\n",
        "    if (train_on_gpu):\n",
        "        inputs = inputs.cuda()\n",
        "\n",
        "    # detach hidden state from history\n",
        "    h = tuple([each.data for each in h])\n",
        "    out, h = model(inputs, h)\n",
        "\n",
        "    # get the character probabilities\n",
        "    p = F.softmax(out, dim=1).data\n",
        "    if (train_on_gpu):\n",
        "        p = p.cpu()  # move to cpu\n",
        "\n",
        "    # get top characters\n",
        "    if top_k is None:\n",
        "        top_ch = np.arange(len(model.vocab))\n",
        "    else:\n",
        "        p, top_ch = p.topk(top_k)\n",
        "        top_ch = top_ch.numpy().squeeze()\n",
        "\n",
        "    # select the likely next character with some element of randomness\n",
        "    p = p.numpy().squeeze()\n",
        "    char = np.random.choice(top_ch, p=p / p.sum())\n",
        "\n",
        "    # return the encoded value of the predicted char and the hidden state\n",
        "    return idx2char[char], h\n"
      ],
      "execution_count": 16,
      "outputs": []
    },
    {
      "cell_type": "markdown",
      "metadata": {
        "collapsed": false,
        "id": "4a_I3GHqbtDB"
      },
      "source": [
        "\n",
        "#### Declaring a method to generate new text"
      ]
    },
    {
      "cell_type": "code",
      "metadata": {
        "pycharm": {
          "name": "#%%\n",
          "is_executing": false
        },
        "id": "mS9UcwBXbtDC"
      },
      "source": [
        "def sample(model, size, prime='The', top_k=None):\n",
        "    if (train_on_gpu):\n",
        "        model.cuda()\n",
        "    else:\n",
        "        model.cpu()\n",
        "\n",
        "    model.eval()  # eval mode\n",
        "\n",
        "    # First off, run through the prime characters\n",
        "    chars = [ch for ch in prime]\n",
        "    h = model.init_hidden(1)\n",
        "    for ch in prime:\n",
        "        char, h = predict(model, ch, h, top_k=top_k)\n",
        "\n",
        "    chars.append(char)\n",
        "\n",
        "    for ii in range(size):\n",
        "      '''TODO: pass in the previous character and get a new one'''\n",
        "      char, h = predict(model, ch, h, top_k=top_k)\n",
        "      chars.append(char)\n",
        "\n",
        "    model.train()\n",
        "    return ''.join(chars)"
      ],
      "execution_count": 17,
      "outputs": []
    },
    {
      "cell_type": "markdown",
      "metadata": {
        "collapsed": false,
        "id": "viwhJM9RbtDE"
      },
      "source": [
        "\n",
        "#### Generate new Text using the RNN model"
      ]
    },
    {
      "cell_type": "markdown",
      "metadata": {
        "collapsed": false,
        "id": "u7bc2y3DbtDE"
      },
      "source": [
        "###### Define and print the net"
      ]
    },
    {
      "cell_type": "code",
      "metadata": {
        "id": "OUxtqJX-7hAm"
      },
      "source": [
        "\n",
        "n_hidden = 512\n",
        "n_layers = 1"
      ],
      "execution_count": 18,
      "outputs": []
    },
    {
      "cell_type": "code",
      "metadata": {
        "pycharm": {
          "name": "#%%\n",
          "is_executing": false
        },
        "id": "mHbAsHB2btDF",
        "colab": {
          "base_uri": "https://localhost:8080/"
        },
        "outputId": "51c4b4df-8c5a-45a6-bf82-2ec0e2770225"
      },
      "source": [
        "vanilla_model = VanillaCharRNN(vocab, n_hidden, n_layers)\n",
        "print(vanilla_model)\n"
      ],
      "execution_count": 19,
      "outputs": [
        {
          "output_type": "stream",
          "text": [
            "VanillaCharRNN(\n",
            "  (body): Sequential(\n",
            "    (linear_0): Linear(in_features=585, out_features=585, bias=True)\n",
            "    (tanh): Tanh()\n",
            "  )\n",
            ")\n"
          ],
          "name": "stdout"
        }
      ]
    },
    {
      "cell_type": "code",
      "metadata": {
        "colab": {
          "base_uri": "https://localhost:8080/"
        },
        "id": "Z213fQQt7rdz",
        "outputId": "81adc248-39c8-4725-bee3-4ed709d818a4"
      },
      "source": [
        "\n",
        "lstm_model = LSTMCharRNN(vocab, n_hidden, n_layers)\n",
        "print(lstm_model)"
      ],
      "execution_count": 20,
      "outputs": [
        {
          "output_type": "stream",
          "text": [
            "LSTMCharRNN(\n",
            "  (block_c): Sequential(\n",
            "    (linear): Linear(in_features=585, out_features=585, bias=True)\n",
            "    (tanh): Tanh()\n",
            "  )\n",
            "  (block_f): Sequential(\n",
            "    (linear): Linear(in_features=585, out_features=585, bias=True)\n",
            "    (sigmoid): Sigmoid()\n",
            "  )\n",
            "  (block_i): Sequential(\n",
            "    (linear): Linear(in_features=585, out_features=585, bias=True)\n",
            "    (sigmoid): Sigmoid()\n",
            "  )\n",
            "  (block_o): Sequential(\n",
            "    (linear): Linear(in_features=585, out_features=585, bias=True)\n",
            "    (sigmoid): Sigmoid()\n",
            "  )\n",
            ")\n"
          ],
          "name": "stdout"
        }
      ]
    },
    {
      "cell_type": "markdown",
      "metadata": {
        "collapsed": false,
        "pycharm": {
          "name": "#%% md\n"
        },
        "id": "e-sU3cQIbtDI"
      },
      "source": [
        "\n",
        "###### Declaring the hyperparameters"
      ]
    },
    {
      "cell_type": "code",
      "metadata": {
        "pycharm": {
          "name": "#%%\n",
          "is_executing": false
        },
        "id": "ZJnyYkQlbtDJ"
      },
      "source": [
        "batch_size = 20\n",
        "seq_length = 100\n",
        "n_epochs = 80"
      ],
      "execution_count": 21,
      "outputs": []
    },
    {
      "cell_type": "markdown",
      "metadata": {
        "collapsed": false,
        "id": "46LJ32XHbtDM"
      },
      "source": [
        "\n",
        "##### Train the model and have fun with the generated texts"
      ]
    },
    {
      "cell_type": "code",
      "metadata": {
        "colab": {
          "base_uri": "https://localhost:8080/"
        },
        "id": "t_MeswC2tQf0",
        "outputId": "5ffd3a20-1ba2-467d-9c0a-cfef900cf982"
      },
      "source": [
        "torch.random.manual_seed(42)"
      ],
      "execution_count": 22,
      "outputs": [
        {
          "output_type": "execute_result",
          "data": {
            "text/plain": [
              "<torch._C.Generator at 0x7ff7158d6b58>"
            ]
          },
          "metadata": {
            "tags": []
          },
          "execution_count": 22
        }
      ]
    },
    {
      "cell_type": "code",
      "metadata": {
        "id": "Bzc7Dz65FOPs",
        "colab": {
          "base_uri": "https://localhost:8080/"
        },
        "outputId": "69d3fe95-0a1b-4df6-b8b3-5ac4935a3968"
      },
      "source": [
        "train(vanilla_model, text_as_int, epochs=n_epochs, batch_size=batch_size, seq_length=seq_length, lr=0.001, print_every=100)"
      ],
      "execution_count": 23,
      "outputs": [
        {
          "output_type": "stream",
          "text": [
            "Epoch: 3/80... Step: 100... Loss: 3.3774... Val Loss: 3.3813\n",
            "The dcdcZdccbaaZaZdaZcZcddbZbbaaaZZZZabbacbZZadaZZcZcaZcadZdZdaaabcaadbadZdcccdaaacZdaabacadbaabaZacacdabbcaabaZcZaacdbbdbZaacaaZbdabZbcbZccaacZabbcaccccbZbadddbbZZcbZbbcadddbbadadbadbdccccbbbZdbaZabaadcbacadacZcdbcadbbdcdbddabZdaddddcabZcZddccddcbabcbcbdbcccadcbabcadcbdbdadaZccdcaZbdcdaZaZdaacbdaaZbccdcZZZbZbadaZcZbZaccccZbcaZbZbcbdZadZcZZZbdbadccbadcddbcbaccbdbZcdbcccbddbdadaZaababbZcZcbZdadddcbbccbadbbaZbcbcccbZZaZbcdcZccdabZddccZbdaZadccabdabZZZabdcddcbbddbddZbZdbccbccbcbdaZbcdbcbccaccZaadZcaZbacdZcadZZaZbZbbZZcZZbZcaZacZabZcccbaZdbcddbadacbdZcaZZZZZbaaZdbcdbbcbdbddZaaaZccZddddbdZcccaddadddbdaZcaZcdZdadZbZabZbbdbbZdcacdbdddabacaacdZaZZaZbbdcddZZcdacdcbdcccZcdZbdcaZaaaaabbbaaacdZaaddccdZcaZdcZcdbaZaZbZcaaZadccZabcccZccZcZZZZZbZcdbcZaaZcZZZdbdbccaZacZZbcaacbcbZaZdZZdcdcccZZaaaaZaacacbbbbbcabZbZddccddZbdbZbaZadcabbcbddZdacadaZZdbabcZZcaaZddZcbZcZaZbZaZZacabdcbdadddacdbcbdaaacabZZbcdccabbcddcZcZdadadaaacZZZZacabcddbZacacaccaccabbdZbbdbZbdabaaddZcaddaacbZdaacZacacdddZdcbdZbcaababaZdZbbbaabad\n",
            "Epoch: 5/80... Step: 200... Loss: 3.3509... Val Loss: 3.3587\n",
            "The bZdadZcbdacaabbccZccbaZccdZbabZZbbacadccdbZcdZdddZbdcadZZZcdZaaaZcddaZaZZZaddbaZZaZZabcZcbZbacdcccbacaaacbcZacacdZcaZcbbccZacabcbcbccbaddbZaccbbadcZbddbdcaacZZbdbccZcacaZdcZaaaZccacZcZbbdbacZZbaaaZabdZbZcZbcbcadZcccadZaccbZaZcZdZababcacZcbddddcZcbdZZaaZabcbbZaaaccZZdcdZcZbcaaacdbdbabaZbZdcZbbcdZbZadabccZcdZacZacbccaZbbadbbdcbZccadacZdaZcabcadadbZadZaacccdcadbbccZddcbZZababadbdacbdbaZcZdZZcdZdZdcaZaadZabaZZddaabbaccbabcaabbccbadZbcbaabbbdcacZcaccdbdadcadbZZdbcdabadddacaadacabaaaZbZdZcdbaZacadcbdbZabbbbcacaZbbccZaZacdZcbaadacaZdaacbccbbbddcaZZcbcZZdcaaacacaabZadbbdadddcZdZadbabZdZaZbZcdcbZdcaddbbdbabdZZZcZabZaccZbabddddZdabaaZdZaZZZbadZZcdbbccbZcddZZbabccbaZZZbbbdcbZbabdbcadZZaaabacbbdcdZZacbaZZZcacZcaaacaaZcccccbcZddabdbbaacZcadbdZaabcdZcZbadZZadZZcdbdcadbZbcccccZbbccZabcZabZbZbaaadbccdcZZbabZZdcZaadbccdbaZdbdaZZaacZZbaZacbbZbdabcZbccdccdacbdbZcdacaddaaabbdZdcdaddbbZddcdcdZabbcadcZcbZbdaZddZbacdabdaZZbbcbdcddcZbcabZcaaZabZbabZZZZaddZdZcaZZdZdbcddccccbadZZacdbZacccZabadabZdbcdZZabacacddZc\n",
            "Epoch: 7/80... Step: 300... Loss: 3.4980... Val Loss: 3.3296\n",
            "The acccacbacddbcZZdcZadadabbZadaZbcdcZcdbZdadaadaacZabacbdbZbbcbaccdcZcdZadbbcZZccccaZaZbcacbacbcbdcbcccadddZaaZcZcbcdaZabddabbZbZdaccaaaZdZccbZbcdZZbdacZbdbabdddaZccddadcaaadaZZacddbcZdbcddbdcZbZbbZdbaadabaZadZdbcddbccbbdadZZaZdaacZdaccdbdccbbabcddbbbabdddbcdacZZaaZcdbdZdbZZdccdcZacZdZdaZdcadZaZacbZbcaZdccdadcbdZZaaddaadZZdcbabdcbbcZdbdcabbaZcdZbdacccbbadcdbdZadaaadacdcZcabddcdcbcdaddbcdcdbdaZcZaadZcZbcbcdbaabZabddcbdZdcccbccdZcbZdZabcaadbZdccadbdcdcbcdabcdaZcZZdcccabcbccZababbababccZbbccdcccdcbaaZcabaddddcbbdccadZacabcccdccZbaddacbZZacdbZccaaaddadcaZccaacaZbZZbZdZdbdaacbcaZcddaabbZaaaaZbcdcZacdaZZdabaZZbaaaaccbbZZcccdcbbaZcdcdabdbcabZZdccbbdZcccZbbaabZdZcZdZbdadaZZZcZabbcddaZbaZbZdbddccaadbdbbbcdZcZZbcdbbaabbadbdcbdZddbcabZZcZZacZdZdZaZbbccdaccZaZaaabZbZabcaZabddacaccdbdaZcbZabbcZaacbdcddcdbZaZcdZcbddaZZabZddacabbZZabaZdZddZZbabbacZddcbZdcaZdZcZZbZccZZbbcZacZadddbbcbddcdbccdccddcacbcbccabdadbZabbbdabbbZbZcZdbcbZdcdacZbbbcbZdZaZbZZddZdbddZZbZdadZZcdZabccdZcdaadcbddaddacZcddcZccbcZddZZcdda\n",
            "Epoch: 9/80... Step: 400... Loss: 3.4585... Val Loss: 3.3112\n",
            "The abbdcZdccacacdaaZdbZaZcdddacadabddZcZaZaabcbZaacZbbbbbcaZdbbcbbcaZdbaaadcabcbbdbdccZdZaZcadbZbZbcacadaadaZcaccbZabbZbdbcacbbddbZZdcbbdcaZZZdadcZbcccbZdZdaZbacbdddacdaaccaabbcadZbdddcbdaccZdcbdZacdbdZZbaZZdcabddZdZdZZbdZZccZdcaabbcbbbaabcdabZdcaaZabbZdadZccdacccZZdaadbabbcZZZcdabdaZZbabZZaZcacbbcZddacZccacddZbZZbbabcdddcZbZbZZabZZZZdZZbZdbaadZcZZadZZZdcabcdacaadccZdbcbbZZcZZccZZacaadaccdaaaZcdZcbadaacbZbbZacZZZacddacZbdcZddccdcZcbbbabbbbbZcbbaZZaZcdbZbaadcbadacaZcdbZZccZZbdaaaaccaadZabZabbbbZccacaZdZZdZadaadabdaZcbcddaaadbZZZbccabbdbaZdccccbbcbbddZdZZZZcaaZdbZababZbbccbcbdddbZZZaabdadZZddcabZdZccccadbadZcabaZcddbcbadabaadZaZbbZdZbabbZdcacZcZaccabadccZbdZbcbcdZZbacbcbadZdaddZdabbdcaaZbdbZZZbZdbcbcZaacaacddbdabcdaccZccbZZbZdZdcaZZbdadcaccdaZaaaadbcadbccadZZcdaaZacZZabaZddcaadacddbbaaZZaZbdbadZaZcabbcbdadZZZacabdZdZZcaZdcbZcadabadcZbccdccabcZbcbbcZcbacbabdZaaadbcbaZbccbbccdZZZZddbdZdcddabcdZbbcZaddZdaZZabcdcddbcdbZbdcdaZacabbabcZacdbcacaaabZcdaddaaZcZcZZabdbZbdcbbZcZbcZdcadZZddaZcdZaZcabZac\n",
            "Epoch: 12/80... Step: 500... Loss: 3.4056... Val Loss: 3.2953\n",
            "The acZZZZaZbddcZcZZZZabbadaZdadZZcZbbcdcZaZZbcZaZcacdZaddcdddaZdddZcZaZcZccddZabbdacZbZdaccZaaaaccdbaaddcZcbcZZcbbccdcdacZbZdbbcdddbadZdcadddccbdZdadabbbcZacbdccdZZZbcacbZbabcaabcaZbdbbZZZdbZcdaZZZbbabdcZZbadaabaZacZbdbaaabcbdZcabcadbadbcZbcdZdcbcccbaddbZZbdaccbcdaabcddbcdaZZdcaadZZbadcbbcbbZabbabddacZZZcdcacZZcdccZZddbcddcadaZbcadZcdbddbZbbbbZdZcbZbabadcdccbcdZcdabbbZbdabcdccdabbZcdcZcacZabaZcbZcaabaddZdaZdcbZaadZZZZdcaadcacaZacdaadbZcZacZZZaZbdZbdccccZbZacdZaccadZdbZdccadZcdbcabcZZdcZcZbbddaacbaaZbbbdcbabbdbZaZdadZZZZabbZdadbcdZacccabacbdZaZdcZbZZccacbZZcZcZaaddcadaZbcZaabdaZZadZcbbacdbcdbcadccbbZZdbabbZcZcZbccdbdcadbbbcZbZaZZZacddbcadcZcacddZdaZZccdZZbddZdZbcdcccZbddbcccacccbcbaddbabdbZcdbdbdaZbcdcdZadddZcaacdadZcdcZZZZdababbZabdbddacbccbZZaZbcZcZbaZbaZccbbbdcdaZadabbdadcZadabdccacbbbcbdcbaaddacZdcacdZdZbdbcadcZZbcbZZccZacaddcbZadddZbZccdaaaaZbaaaZcbbdcddZZabadbbZaadbZaaccaabcaZZcaaabaddabccZbdbcbZcddbZabdaadaaccbbbdZZZdaZbcccdabdacaccZdabdbZbacdabddcZZbadaZdadacdcaadaZZZbcbcZbdbcdcadca\n",
            "Epoch: 14/80... Step: 600... Loss: 3.4410... Val Loss: 3.2857\n",
            "The ZdZZZbbddaZcaZaZdacbZdZZaZdcZZbdcdaZdZZbZacbacbbbZdaccccdaaZadcdZaaabZdZacbacdadZZbbddZaadbZbbddcaZcdcdZabbZaZabbaZdcZZZabZaZadbbacbccZbccadZbbZZbcaccdadabZcdabdbcbbcdcdZdcacadZacZdddcZcbccbcddZcbZcddZaZdZadcbbcZabaZddacaddZaadadccbZdZcccacdbabdZaabbdadcabZdcbaaccbcZZcbcaadZabZbdaabdccaddabcbcZbZdaddabdbdaabZacdadacZaZaacZabcdccdZcaZbddZbZabbacZddbdaaZdZbdZbaaZdabZbddbdZaZaZZcZaadZbcabcbcdbaaacZZddbdbZccbZZcccZddccdaabcddaacZcbabddcbdaZbZbcbZZbdZcccccacbdZaZddbddbdZdadbbbZaaZcdbbZZccdcaZZZaadaZaZbdZcaZcZdcbZacdZbaaaaaZcabdZbZdcbbcabbZabacZZZdbdZcbcdabcaZdcabbZadbaadcZcddZcZZdacZdadaZdabZbdbcabdcabaadcZbabZZdbZbaaaZadbZabbZccadaZdZZZcbacdZZbbcZabbcbabcbcbZZdcbZaddZdcZbbbdZZbbdddddaabcaacaaZcdaacZZdbbadcZacdabbbZcdaddZbbddZZZadZcbbcZcbbZaZdaadcaZZZbdbbdabZbabaaaZcadZcdbbaZdacbcZadcZbZcbcZZZddaabcZaZabbcccadcbbcbbZbcdccZZZbbbbbdcZZacdcabdZcbddZZbbaZZabcdbaadbaabcZcZcbcdbccbabbccbdacbZadcbdbZZddbZcaZZbZcbdcadZdZdZZcdadabcbbbcZZccabddaZZcZZadZabdbZZaadbabbdZcZcabbcacadZbbZadcbaaaaaZbbZbZdZab\n",
            "Epoch: 16/80... Step: 700... Loss: 3.2757... Val Loss: 3.2799\n",
            "The bcbcbcZcaaaZZaabZdZddbZcZbddZbcbacdZZZccZcacbZcbcccZZcaabZbbbbbbZdbbccbcZbbdZaacdbbdaadbddacZaZbZdZbcbbaZbdcZcdadccZbcZZbccbaabcadaaZdabaaccdcdaaZbcabcadcccZcZcZdbcZcacaZZbdaadaaccaddbZcdaaadZdZbbcdZbdabdcZZcZZacbbddaZaabadcaZZZZZcbaZZacbcdccdZdZZZZcZcZcdZcbZdbbcddbcdbZbccacddbcaabZZadbcbacbZcZbccadZcdacZdZaZcdZZbdZbbbddZZbdaZZabZdbdbacbdaacbZbdcdacaZcbaZcddaZccZacZZcdZcbZcccbZcacdaacddcabZbccbccaccbdcacdZcccbZdbZabcdbbZcbZbbccdccbaacdacdaabcbdabadcccaZdacaZccdcdbZZdZbZaZZdabaaccacadZacacdZcZdbcbcbZZdZaddbZadacZdZZcZbZcdbcZdcddbaZbaccbdbcdddadcaaaddaZbabccaZZaZadccdadcdddcbaaZbZdccZbbcZZbZZdcccccbaacccaaacbacZbacdZZdabaZdacZZcbZbccZbdZbbadcbdZbcbabaZbadabZddbcdabcdddcdZcbaabZccZZdaZdcccbbcbabZcZaccZcZbadZabaZaddcbbZcbdcabddaZabcacdbbZababbcZZcddcZdaddacddacbabZacccbZccZaZbbcdccbacZbcbZabbacZZadbdaabdbddcdaZababZcZZZbaddcbcbbabdcdbZZZcdcccZZabdbaZcZdaZbccbZdcbaZdcaacbcbZaaadbccbabdcdZcbbccbaZZZdabZbdbabcZddaccdcabddabaZabcZbZdcZdadaddbbZdcdbZbbbbZbcbbbaZZaabaadZZcbdaccdbaacabacZdbbdacaZb\n",
            "Epoch: 18/80... Step: 800... Loss: 3.3884... Val Loss: 3.2736\n",
            "The ZbccbZaZdbZcbabZacbdbdZdaababcaZdbacZbdaddacZdbbddaddbadaaaaZbbdZcbZdZccbccbcZbZZaZbdZbcbbaaacdbdbdbcacaaaadaabbdcbadbZZbaZZbaadcZcbadccbaZdbbccZddccaacZdcdZccbcadcZdaacZabZaccadZZacZabccZaZbZcdccZbbbbddababbdacabbZcacZccdZbcbZaabdcaabcabZccaaZbcdcccdcZbcddabZZcdbaddcbdZdccZaadcabbcccbcbddaddcZbcbbaaddbabbbaZdZbddaZacccZcabcdaccaacddcZabdaZdbZZacabccZccZaZaZZbZabbZcaZaZbZZZacccbZdbaccdccaZaccdZbaddZZdZdcZbcZcdbcacbcbabbaZccbcZZabbabbccdcccZZaZadZbdZaZadcadcaZZbddZdaZcZdaccdZaabddabbbZabdbdbdddabcdbcdaaabcZbbZbaaZdZcddcaaacZZaddbcZZcdadcZadZdbbcbdabaZdcZddacbcabdbdbbaddZcZddaccaacadZcZdabddbaZZcZdbddaddacdacaZacaaaacacdcbadZcaacZcdaabbZcbZaZbZcbZZcbabccZZdccZcadbbdZZZbbbdZdcZbbbbccccbZccdadZadbdbbcbacdZdcbaZccdababdZccdabaaadZabcaabdbdcabdbbdZZZcZacZdcZabZZaaaccdcddadZdZbZabZcdbacbaZcbZcbcbcdZcZadZacbddZacbdaacccabcbZdZadcZZcaaZZdddbZacbbbZcddbcaZccbcZcZbdaabbaZZdaaddddZdcdZccaabacZaaZcbccabZcbacZcZbddZdccaZbbccZcZccaadbZZdZaZdccdcZdZcaaZdbdaZccadZbdZcabaZdcZdbadbbddcdZZbacbbbdZacaZcZZcZ\n",
            "Epoch: 20/80... Step: 900... Loss: 3.4033... Val Loss: 3.2650\n",
            "The cZZbZddZabadabbcZdcddcZZZbbbdbbZZccZabbZccadcccZZccddbdbdZcdbccccZaZdZddacbaadcabbbbaccbbZZcZcdZZcbadcbZbcbccaaadZZbdcbcabbdbZcbbZZadcZZbccZccaZbccbdZcdbZdbdbdaadZZcdcbbdZZbdaccZZbdabcbbZZbZdbcccdZaaabdabdcccbZdcZaZddabdZbZcdccZbddbdcaaZbbdZdadZdaZcbabddbZdddabbaZbacZZbcabZcaZcdbccdaadaaZbbbbadZbaZacdcacdZbbdbcbcadbdZababdddZcZZaaccdabbcdZZZccdadcdbacbabdcbddacZcaZdbZcZcZabcbZcdbbacdbbZbcabdbabcdbadadadadbZaZbZcdaaaZcdbbdcadbdZbbZZZbZdadaZbbaaaaZbbbcaabddccdZbdbdZcdcZbbaabdbZdadbZdcZdbaZdbZbabZdbaadbdcbddaZZZcaZccZZcZZbdZcabdbabdcacdcdcZddZacacccZbcdZaacZZbddddacZZZacaZacbbZabaadccccaabbZZaabdZdcZcbccZZccdacZcacddcbdbbbZcbbdabdZadadbdaZaabcabZcZddZcZdZbdcdacacZbdbbabbdbaddbddcabddcdbbacZaadZccdcacZdbdcabcZdcdaaZdaabZbbZdaZbcZacZcbZdZZZdbabdbcbdbbdZaacaabccddaaZbcbZadddZbabcbcZbbdaZadZccdaZbZbaabdZdZcZbZZZZdaZdcddcdbcZcbcdaaaZddcbdcbZbdaaacZcabbbdZdZdZZbZZZaaaZZbcZdbaZbbcbbbdZbdcZabaaZZababdaccadZdddabbddbdcbbbaddaaZdaadcddbcZddabddaaaadbaadbdcdadabcccZZdbacZabdZZbZaZbaZbcbZZcbaaZcZaZcZd\n",
            "Epoch: 23/80... Step: 1000... Loss: 3.2456... Val Loss: 3.2554\n",
            "The bZaaZabacZaadadacadZZbaZacZbbZdaaZcddbaccaZcbcaZZcaZZZaccZcZbccZZbZadadaZbddbabcbddbbbZacdcZcZZcbZbadcdccbcdbcdZZdbbacbadbZcbaZZcdcadbdacbZbcaZaacZbddbabbcbbbZbcZacZdcbcaaZZaacaacZdaZdcbdaaadcccbabcdbZccZZcbadcbbcdcaaadccabZZadaacdZadaabZZcZdZcZacdcadbaZdcabcZaadZbbZcZbZdZdddbabbdaZZaZZcZaadaZZdaZZbcaccbZZdZdabcbcZcaaaZaaZaZaaZdZZcZcZbdZadabZddbZcadcZbaaacadbcZbbdcabZbcbacaadaaZcaZdbbZbZbcZZddZZdaZZZcaZdacbZZaZdcdaZbZZaccdccbbbdZaacadbbbdcbaaZccdacZZcddacbcadbaddcdcacZcZbdcbdZbaaZcaZbdadZdbaccbababadbadabcccZZacdcbaadbbdcaabcbabadbZcbZbbcdabZZadZbacbbZacdcbbaZaaZcacbacdaZabbacaZdacaZcdbbabababZdcacbZbdbZZZbccbbZbabccdZcbcZbcdcaaddZacbcZZddaZZbbbdacbdccddcbabcccbbZZbbcZaZccabdcaaabaZZcdddccZaZaZZbaaZabbZdbbabZcZZZaccaaccbababZccZcdbdbcbddbcZbbacZbaZZZbdZdZcaccZdcccbZcZbbaZdcZaabaZdcccZZddcbdZaaZdZbdZbZacbbdcZZacacdcadcbcbZbcaZaacdddbbcaZZZaZcaZbZaacdddaZbcccccbcZacdbbbcbcZcbZZcabcdcZcZaddZdZabZaddbZabbccbdcZdcZbcacddcbddcaZZcaddcabZabddZcZcdddZaZbbdcZaaddbacacddZdbZacbccZbdacdbcdddZZcdac\n",
            "Epoch: 25/80... Step: 1100... Loss: 3.3234... Val Loss: 3.2422\n",
            "The bZcadcbdZbcacbadbcbbdbccZbcababacdZbdabZZcdaZdccZZddcddbcadacdbacaaZbacZcaZccZdZbcaccdabZccabcbZabddcZaaaadbZdbZddbZbdaccZcZdZbdbbaZbZdaZdadZcZdcZddcaaddbdcadcaccadbcZadadbbZZcdbabbZdddbcbddbdbddcZZZZcZcdZacdaZadddddbabdcddbcZbacaZbddcaddbccaZdadcbbcbdbZcacdddcZddbbcaddcZZbdZadcbcZbcbcZccabbaZaZdbZcbZdcdccaZabbabZcbbdZbZcbadadbbcZcZaaZZcaZaadcZZdaddccZZaddZcdabdabcZcbccZaddcZbZaaddcZacbacacbbZdbadcZddbbZcabZcZZaZadcZZdcadaacbaaZdaaZZbcccdcdaccaZbdZZZaadaZddZZcdZcabZbdabaaacbcZccZdZdadcbaaZdZbddcZZddaZcaabZbbdZcZbcdZddZcdZdacdaccccbZcabbbddbZdcZZdbZcbZaabZZZcccddZdadcddZaddccaddcdaZcbdadaabaccbadbaZdZdcZacbcaaZZbacbccdbdddcbcabaZdZdbcZdbdZbcaddZabbdcdaZccacbZcdZcdacdabacbZZacacaZbbZdddZbaZaabdcaddbZaadbaacccccccZaZZccbaZcbcbdcbZZdacZcaadbcZdbbbccccZcZccbbZcbaZZaccabZZbacabadbabbcdcbZcbdbadZabbaZcbbdbbZcbcdZaZcdZbdadbZbaaZdZcabbcbdcadZadbcaaZaddddabZZcabbadcZaZaccbZZbdaZZcbcbadddZcZacabdZbZbbabZacacZcabbacbacbdaaddbcZabdaaZcbdddbbccabadZcdbbbcddcdZdaZdZaZbddacaZdZcaZcdccccbccdbcaZZaaZdcdc\n",
            "Epoch: 27/80... Step: 1200... Loss: 3.3540... Val Loss: 3.2298\n",
            "The ZcabaabZdcZdbbdddcaZdaacbdaabdaacZdcaddbbdaacZaacdbbdZaaaaZddZdcdbZddbccccaZdcccdabdZcaZbcZZabccZZcZccccZbcbaZZZZaZbZdbddZabZcbddacbcdbdcdadZabaadabbZbcZccbbaddcZbacadabdZdccbcadbcdbcZccbbabdbbdaZbcdacdbcbcZaZZbdbdacZbdbdcdbdbccdaacccbcZaddddcdcdZcccZZadZZabbcaaZZabdbbbcZZdcccaddaaZcZaabaddZbaabZbdbddbdbdaabbdddZdddbZdacbZddcbdaadbbcabdZabcZdcdZZcZadZdcdbccdZcZcbadZdbcaaccZcdddcbdcbZcaaaZacZadacdbdcbddbbaadcdcZbaaddZcdbbZcdbbbcbdcabaabbacbadbbdZbdddbbcZZaZbcabbccZadabaccdacZcbbcZZbbadaZdbdaZcabacbdcdaacdcbZbaabccaZbaabdaaZZZdbabdbdaaaaZcaZccZdbZZddcacaZbadbacbZbdZbaZadacdZdcdZZbbZZcZccaZZbcbdZcabcddcbcZcaZaZbabbaabZbZaddaaaabddaZaZcbZZcZdZdcdaaacbaZaZdbbcbbcddZabcdZdZZabcbcZdcadcbbccaadZcddcaZbddaaaddcddaacbbaaaccZZddddcdbdbcdcdacdbZadccabdaacbadcZcdaZdcbaddZabadaaZccabdZbaaZcZbdaddccbaccababdbcbaZdabcacZZZccdddbZZdaadZdbZdZabccbZcZZdaccdbbZabdddZZdcccdcacbddZbZcZZaZZabccaZdbdZadacZZacZbZbZZcZbcadddbcdbaadcdZbbadcaadabdaacbadccdabZbZdadbZdZcZZZbbddZcZdZZdddbcZcdcccZaZcbcdZZdcZcbZZdadZZa\n",
            "Epoch: 29/80... Step: 1300... Loss: 3.3222... Val Loss: 3.2273\n",
            "The adbZZaZdcdcabbdccZZZdbbZbaabbZbbZbccdZdbZcZdZbZddbbdbddddZaaacaaaabbdddZacbaacZZcababbZaabbcZZcadcbZccbcbddadbccZZbadddbbabbacZZdZcdcbddaadabacZbaZcbaZcZbabbccbZbbcadcbacbZdddacdcbaaZabbcbdZabdcaaZcbbbZababcacdcZadbZZZbaZabccaaadaadbddacaabaZdccdZdcccbbaaZaZcZaZbcbbbbabcbabcbcadacbacZZcdbdbdbcZZaaaccZbdbcaaaZZZbccaabaadbdaadbaZcdbcdccZaaZZaacaZbabcbbZZZdcccadaabcacZbZbdadZaaaZacadabbdZZZcccdabaaaZadbbdcddbcZdadbccbdbZZabdddbcZbdccaZbacZZdbaZZcdccadZZZbdcdZbbbdcaZbcdabacZZdcbbadcbZcbcbZZcadbcddadcdZcdZdZdZZddZZcabdabbcaaZbcddcZbZdZZZaacZaaZdacZaZbbZabbZbdbbacbbadabcZdcZdcdacdaaacZaacbbdabZbbZaZcdadbcZabbbZbbcababbZZcdcaZdZZcdbbaacbZbdZccdcabdccacZZbdaaadabdabacbbabaZcZcddabdZaccZZccbabZacZaZddccabacbZZccbbdbaZZaZbacacZcdcabaZdZdZcaZcaZZccZcZdbabZbdZZabcZaabZcccdcZacacdcbdbaaaaZbZcacdcbcaaaZdZadcZZaddacdcdbZbZZbacbbabcZbbbZcabaadZcbaZbababccZZZdbaddbdaaaadbcZcccbcZabcbacZabbdacdcaaZadbbZdcbbdddZZccZcdZbZacaaZaZdaccbbZcdcbcdcdadbbcdaccZcacZcdabZZZbdddbdccdcabaZcdabdcZbZZcdbZZbZdaZcZddcZbaa\n",
            "Epoch: 32/80... Step: 1400... Loss: 3.3033... Val Loss: 3.2139\n",
            "The acdZdbccZaacadZacdbdcdcbZaaZdcaabcadbbdbdccccbcbZcddZcbZZbcaZbcbccbcbbdabZacddcZdbaaccbZacZcZdcbccZdbZZccZbcadZdZZZZbZaZZZdZdaabbaacZbdacabZZZadaZdcbddaabbcccccdaZZacaaZcaccabdbbcZZcZbZddcdcdaZbddbZcdcZcdbcZdbZabbbdddcdbZdaaddbcaaadbZZcabZdbbcZdZdaZacdZaZZaddZaaaccabaaaccZdbdZaZaZacZcZZcbdbZcbcbadddZbdcbcdZabdccbaacaZcccZbZdZbbdZdbbcaaadacbbcaccbbdZZZdcZaZaacZabbbacccZddbZdbcddcZZZcddabdZdZZaadaaZdcdbZcbbbdZaacbcaZcdcbZcZcbcccddacdcacaZcZbdcdcbbadbdbabbaZZdabcdcdbddZcZdacdaZaadccbdbcZdcaccdccbZZdcZdbdZbaZaZZabcdabcaZadccabcZZdZacbcbccbabacdaaZaacdZdcddcaaaaaddcbddcaZcbaZZdZbdZabdcbcccaZZadbacacaabaZbddZbbdccaZdaZacacbbdddbZccdcZZddcZddcdaZdbdZdcZdZacbdaZacbbZcaZcZdcZcZZcaZdbdddaZaaabaZdbaadbddabcdbabdaZaZcdbdadddacbdZcaaZZZbbcdZdbZcZZaZZcdcccadZcZcZbcacbcdZdaaaaaZZZcZcdaZaZdbbcbcabaacZZdabZbcbZcdaaccZcaZdacdddcbZaddZZdZaZbaabbccdabccZddaaZcdcbbddbbZZccZZdbaacZZcdbdbbcdbbdbbcaZcadbadbbadZZadbZcbZcadZcZbdcZcZaaZcbccdacbbbccaZdccdcdcaadabccZaaZcbcaZadcZdZZadaZbdbddddaZaZbadccbcccbacdddbaZZ\n",
            "Epoch: 34/80... Step: 1500... Loss: 3.3349... Val Loss: 3.2060\n",
            "The acdZaaabaccZdZdabaccbcZbddcdZbcdadaZacZZdcddaZbacdcbZbaZccZbbZddaaZaZbabdcbcbdbadZbbbadacabccdabaccddabddacdZZZdcaaadbadccbcdcdbccZdcddZacbbZdbabZccdZdbZdddacbZacacbZdaZZbadbcacZacZabbaZZZZZZababZaZadZadcaabdaacddccaZaadaZaaccZZZcZZbaZaaZbdcbddZbcadZccdcccZZdcabbZbcZcadacbcddZbaZZZcaZZccddbZbcZaZZcaddccbaZaadbZbcadaZdZZbZZaZabcbdccacZbdZbcabababZdbdZaabdbdaZdaZccaddacaccacdbbbdZdbdbcddZcZaacZZbccZdbbddadcaaZacddZacacaacddabdZacbacdbcbbZZbZZdabZcaabbacbabZZdddabcdbaZcdbdbbbcdcacbacdbaZbcdacbabbbacddbcZbadaZbcacdcaZccdbadbZaabbdcaabbccbddcbbdaaZccbZadZdZcdbZZZdacZbcbcacbZbabdcabcdbdZdaZdcbcbddbZZdbdcZacbadbbcbZZdZdcbbbdbbbaZbdcaZdacbccadaaadbccddZaabdbaZdZZbbbbaddcdccZZZdaZbabbddZdZaZZacddabcZaddcadbadZddddcZcadccdcZZZaZabZccaabbbbdacaZcbbababdZbZdZbZbcbbZcadcdbZccbaZcacdaZbZacZbbbbcZZadZcZbbdcdbZdccbZcddbbdZaccbZcabcbcbdZaabaZbcZcZaaZcbdZbZZdaZcadZZcdcbcaZZaacbbcZcaacccZddZbcdcZacaZddZcdcbbaZacaacbddbadZbZaccddbcabadcbZcdZcbZZbZdadabbadababbacccbacddabdbbcdcaabbZbcddZdbZdcaZZZbcbdbcdbcZc\n",
            "Epoch: 36/80... Step: 1600... Loss: 3.1907... Val Loss: 3.1918\n",
            "The baZdZbbbdbbZbcbdaaadaadcddcdZcZabadbadaZdbaadccacbZdccZddcabcabZdaccbbcdbacaZbabcdabdaaZcdbZabccabbcbdcadZdddbdbZacdZZdcadbbbcZZdacaccaadaabZaadbcdcbadZZddZaccbdcabaaccZaabaZcZZbcccdabZbcacaddcZdZccbZcdcadabbZdcZcddZbdadZadbacdbbcbcdaZadZccbabZbZcbZcaccZdZcaccaccZdcZcbdZddbZaabadZbdZZcccbaZdcdabZZbdbcZbcdacbaabaZdZbaZadcbcccddcbdZbZaZbbcZcdcadcZaddaZccdbcZZZdabbabaccZaZZaddZcdZcaaZdbacdbddabZZZdaaZaZcdcaabaabZZZacdZcZcaaaZacdabZZbcdcbbZZcZbaadaacadacdcdbbZabcdcddabddZddcZbadZcZccdacaaZZdcccadacbcccZacdbZbZcdbdaadZccccabcbZcaZcabdbdbbbdabdddcbaaZbcadcbaabbZZddcbabZZZbccbbacdbbdbZaabcZbadaZacabaadZbZdcbdacdcdbbdcacdaaabaadcdZaZZcacbabZdbaadbbddZacdbbaZaabZccadcbcccZcadZcdcdcbaadacZbbbZaadccaaccaaaccZbdaZdaabbbaddZbccZbdcadacaaaZcccadZbcbddcZbdadZZZdabbadbccdZZaaZacdccZcbacaaadaZdcdcbccccababdacbdbZddaZZZdaZcacbaZbabaZdcbbabbdbccZbadZcbbZdcdbcbbccbbdbcbZdZZaZadbacdZbdbbbbZaZcccZbacadcdaaZbcbcaZaddcdabdbcbbbaZaabadddbacZdZbZbdbdZdbdZcccadZabbdbbccddZdbdZacZdccdcbaddbcbbZabaZaacddZcbcadddZZa\n",
            "Epoch: 38/80... Step: 1700... Loss: 3.1848... Val Loss: 3.1812\n",
            "The dcZaZcaccbbcZcdcZZZZcZddbbcbadbabaaZdaccZadbbcaddbcdZcbbZcaZdddcccZdcbccbaadZZdcbccddcacabdZaZZadacdacZccabdZcabZZbZccddcdcZcaacabZdbbZdZZdZbdcbZaccZcddaaaZbbbbcdZbbcdaZZZcacZaZZZbdadZZZbcdZcdbcbdcZZadaabZabddbdcZbbZZZdcaaZaZddZbabcbbZZabaZcacbbdbbaZbbaZZcaadZcdbdbbdacdcZZZdZdaaddZcZbZdcbcbdabZccaadZbZaaZddccZccbcZcZdabccacZZbdZacZbcdbdcZdbccaacdcdcadcZbccdaaZbdcbdcababbcZbbccbaaaaabcaacdadbZZZaabadZdZabZZddcZdZaaddcbZdadcaZbddcbaZcbbccbZadaZdaabcabddcaZdabbZdcbZdaabZcdZbZZacZbcdbccZaacdcbbbZbaZZddcabZdacZZdbcbbbdccaaddZdZcbddbaaaaabcZdddcacadadbcbZcbZabZZdbZdbadaadabZZZcZbZcccZbZbbbdbbadZccZZddbdZdabaacZddddbbcdddccabcbcbbaadcbaZaadaacZbaaccbaZZaaZccZbcdcbaaZZaaZcbddcaZadZdbdbZdadZbdbadbZccbabcaaaZcdaaccdbabaZaZbbdZadacaacbbbccdZbcacadddadddZZZcabbdcaddZccZacccZaZbbaaZZZZdacccdcdZdacdZadZZcadadaaZbbbdbcbdbcZZcdbbadbccZZbbbbabbdbbbZacabbadZZbZdZbdddbcaabbaZaabddaabccZbZZcccbZabcaZZbbbZcaccccZcabbdZdaaacZbcbdadZdZZbdaadaZddZbZbcZdbbdcZcacbZdcbdZbccbZacdabZadbabbZZccabcccaZZZbbZabbaZZddcb\n",
            "Epoch: 40/80... Step: 1800... Loss: 3.2000... Val Loss: 3.1818\n",
            "The baddbbbZcdaddZddadbcZZccbZZaZZcdaaZcaZddcbaaZdcadabZdaZZdaZaabbdaZdaaadadacdaddbadbdZdabcdbcZZcabaZcabdbcaZacdbdZcZaaZdcdZcddcabbaZbddacZdacZbacbddacbbZZaadabbZcdZZacbdccZcdcdacZbcabbcdccbdacaZbZbZbdZccZdaZaZabbdZddcZddaZdcadZadZabdaZdcaZbbbbZbcZacbdaZZbdaadaaabZcbdZaadcaccacaabZcaZZZacbadccZddZacZacdccdZcbZcZdZcaZcbaZaaZcabdZcZZZabbcbdacccccbbZZacbcaZZdaZaabbaZaccaadaZddaZZccbZZccacabcadZdabcacZcabbaaZZdbZacddZbcbbcdbbabZdaZccZZdZbcZbbbcababacdadcacZaaddZcdcZadcbZabccddcbccdZadcaabadcadbdcZaabdcdcZdacbZZbbbbadaZcddZddcbcbZbdbaZadbadbdacaacadbcZbaZZcddbddcccdcbdcaacbdccbadaaZdbbcbaabZaaZZdcadccdZaaacddbadZdaabaZZcabZdabadcccdcccbbbbdZbcaZcZdZaZaadcdcdZaaZdadbcacbdbdacbbdcbbbaZccbaadcbdZZaZdaZacaaccdZadZZccdbaacabbddZadcZaZcbbbZcZaZdZdbdaabacbbdcddcbbaZadZaZbZbZddbcdbadacbZaaZacbcbZcdbdbabadbbabbaacaaadbbacdZcbaaZZZdZZcaZZccZccabcbcdZZZZcaccbcZcZaaacdbcaadacaaaZdabbZZcdbcZddaZZZdaabZZcacbaacdZZaZcadbbZbZdbZdcbdcZZdaadbdbcdbabacZZaddcZdbbcaccZdbdbbbadbdZdccbaadddabbbbabddbaadcddZccabdbdZZ\n",
            "Epoch: 43/80... Step: 1900... Loss: 3.1425... Val Loss: 3.1616\n",
            "The abbZadbdZccaabdddcZZbaadZaZbZdZcbabcaZdZZdbcaacbcbabddbaZbbdbbaaaaacbbdddaacZbZdZdaZcacbabcdabdZaabcabdadZadadZabcadacZZaabZabdcaZaZaZcbccaaZdcdcaacdddbaaaddZbdZdbcbadcdZcaZccdcZbccZdcabbacabaadaZdbcacbccddcZZdbbcabbdaaZadcbddbaccaZbbdcbZacabdbbbbaaZZZbaabdcddbdZbZdZaaadZacbdcacZcbbdaZbbbcaabbdcddcccZaaddbZbZcbbcdbZZacZZZZcccZbaZaacddbddZcdabdZabcadcdddabbbbbaddccbbbdccZdcdbaZaZbZbZccbdbcdZdbacbbaaddcabaZbaaaZddcdcZdZcddcZcdZcaZcddcaZZbabZcbccZbdcacbccZbaacdbZcZadbZacdabadZdZZZadcbbacaacZabbbcZbZddccbccadbZaZbadabcbZccZdZZZaadbdcdbbbddZddabccZacaZbZdZdaZdaadZZdZdbZcaacddbddZabbZdZacccaabccZbbZddddabbdZbZccbZbZabZccabZdcbbbabbdZcddadcaccdaZZabacZcbbbaZZcdaaZdbdaadZcdcaZacdbZZaaZddZacbZZaabbaZbdcddbcbccaddZbbZadbaacZacaaZbbbaZbabZacddbbdcddaZbZaZaccdadZbdZdZdZcZbZaZbZccacZccaZZbcccddZababcddZacdZdcbZaddabZcZcddbddcadaacdadZaadccZacdacadZacaZcaZbbcZdccddbbZaabcdddbaZdbbZccddbbbddcbZabdaacacadZZbbcbcZcacZcbabbbdacacabcdcccdccaaZbaZaZbbZZbZcdddbbddZadbacacbbacZdcZbbaZcaZbaadZabdbbZdcabccbaaZ\n",
            "Epoch: 45/80... Step: 2000... Loss: 3.1183... Val Loss: 3.1558\n",
            "The ddZbcabcdZaZdcabcbcdcZcccddabcadZZdZZcZabadcaddcaadabaZcbddbdccaZZdcabdabZcacacZZaZabZaddbZaaaZbZadZZcbdZccbabZaZZZcbbbaZbdbZZcddabdbcZcbababcaZZdZdbbZaccbZZZZdZaddcbbaaZbZacccdbacZccaZbZccacbZbdaababcdbZbadZbbaZdZacabcabaabcacbaZcdZcZZaabddZaaZddbZccadccZdaZcZZZZaZcdZbZbacdbaZbcbZbZbbbdZdacaaadaZabcacacccZbcdaaZaZddcadbaacZdbacddbaZZZZddcZcdbdZddaZZbbbdacbcdZaZdZbbdcdccbaabdacbddadcddZdcdcbddcbdaadccadcddcbabcbcdaZbcbacddbaddabaabdcbabdcZaZbababcZdZbZadadbZcbabcdbadbdaZdaadddZbZddaZcbdddadababaZdabaZdcbZbccZcZadbcbcdbcbdaaZZZcaadZbbaZddaaZaaZZccZcdZZaadZZZaaZacdbbdddcadbababdabddaZZacbbZbadabbcZZdbbbcaaZcacbaZaZaZddZadccdbbdZZZZddZbZcaddbbaZbbbabdddbbcbZcbcbdadZbdbdacbcbaaccZabbbbadabaZbZdaZcZcbZbadZaZZddddaZbdcZZcaZbdbaabcabZcZbcaZcbcbaddbbZcZZbddZaaZdbabccabcZbddcaZdcdabZcccZdcbabZdddcacabdaacbZdbbdcddbcaacZZcacbdZcdZcaZZacaaaZabZdadcbdZabbcdbdZacZdadZddaaZcbaZccbccbbZdbbZbabbZdaabZcacbZdcbabacabbcaZZZaddbcdbabcadbbZcdbcdccdZcdcaZZdZccbbdddZbcZdccdZabddbdabdZbadbddaZadcbbcZaddZZZZZba\n",
            "Epoch: 47/80... Step: 2100... Loss: 3.1627... Val Loss: 3.1617\n",
            "The dZcZbZddcdZdabdbcZbdbcZZbadbdbbabcaddcbccdacdadbdccbccacdbcabcZZdcaZcZadbcbbZcdbZZZbcbccbddacZbacZcacdZaccaadbZcdbccZZcdadZZdbbbaaZZdZZccabbZaZZbZcbbbcabbdbbbdbaccdcZZZdbZacZddaddbbcbbZcabZacbcdZbccbaZZZdbcZadadcZacabdccZZdcZbcadZZZbdcadZdcbddaddadZZccaaaaccZZbZbZdbdZbdddbdbbbbbadbZcacdbcdbZcaddcbcdbZcaadZcdcaZabbZbccZaZZaaZcadbdbZcdZacddddacacZaaaZZaabcZaZZZdZZbZbcdZbbbZccadabZcdZabZcbbZccZaZZcbbaZbZccddZcccZdcZccaaaZcbZcaZZZadbcccbZdccbZZbdbcbdcbabbcaadbacbcdccZZdddaaZabZcdaaccddbaZZbcccdZaZdbZZabccbaacZaZbZZcbbddcbadadacbccabcZcdadcZaabZZccaZabdZZZZccdZdcabbaadZbdadZZZZZdcdZddbZcadZabddZdZaZbaZdcdccdbbbcZaZdadaccbdbddbccbabZacZdbZabdabdZcddadZaZbaZdbcZZbbZbcZdZadddabaZcabdccbcbcaaZbbbcdZcddcdcZbcacabaadbdbbdaaZZccZaccdZdZZbcaabbadcbZZcdcZcdZdZdZZadbcdbcdccccddddcbbdZZZbcZabZdabaabccadabZZdaZbbaZdcadcdcbbaZabbabbZdabbadabcdcdZbaadccdcabbdaabbdcdZdacdcdZaacabacZbbabacdadbbabdbbbdZcdbZabZZZddbccbZcaabdacdZbacbdaaacaZbaZccbccdbZZbccaccZdcabacaZZacaacacbbbacadbZbZdccbdaaccacZdbbaabZbZaada\n",
            "Epoch: 49/80... Step: 2200... Loss: 3.1371... Val Loss: 3.1528\n",
            "The abZaaZcbdbacbbcZabaaZcaZccdcdcaacbccaaccbdccZdbdaZacbZaabbbaaabaaZdZddcbbZabacZdadbZacZdZaZddbbZbZaZcbbcdaZcZbZdbccbbdZcZdbaaabcdddaddZaabZbddZcZdcbZdcaaZbcacacdcacaZcdcdbcZcddaZZdZcacdcbaaacZadaZaddZbaZZadbccbdaZabcabZbZbbdcbcbZaaZbcadcdbcccbZZddcbbbZbcbbcaZcbbdZcbbaaadababbdaZaZcZZcZZZabaabddZcddcabbaaaZbZbcccbZbdcabdabadaabbccZcbcacddaZbZcabdaZacaaZZaZZZcZccadccdabcZddZbaZbccdZcZdZcbccZcbdbbdZdabZaddccbcabdccZccbcddbdZcZddbbZdadbdbddcZaZZdbcbZZZadbccZdbcbdabbbaacZZcdccddbdZcaabdaaddcabZZacabdbdbZdbbccabZZZZcbdZacdcadaccZbZdbdcdbcaZcabZacaacacbZcZcdcccccdZaZaacacdaZacbbbbbdbcbabacbcbadZbZaccZZacZaZcdaZccdbdcbaZbdaaZbaZcZcdaadcZadcZZcaabbdbcbcccZZaZcadZZdZZbbcaZcacbaddZbabbbadbbddcbabcbZdaadbZZabZbdZZadcbbbaadcZbccaddabZbbadddbbbbdbcZZZcbaccacZdZaZbbddbdbaZbabZbZaZcZdcddaccdadZddccadcZcbaabddbccddZacaZaacbZbdZaZdcbbbdaZbbcbdcZbcbaZdddbZZabdccaZZZbaZdZbccdadccbccddddaababdddaddccadbbbZbdadaadacZZZcaZZZbZZcZcZbbaZbdbdddbcaZbbdabcZdcaadadaaZabbbdccZbcZZZbZZccZbZdbbbaaZZcaaaaacZZZadacacbZb\n",
            "Epoch: 52/80... Step: 2300... Loss: 3.1190... Val Loss: 3.1394\n",
            "The ZbZdcdZdbbaZcdbbdadddacccZacdZaZbZcdaZcbdccabcZdcZbddbbaaZdbabcccdaadddZaccZZdadbZdbbdZcaadbbadaccbZZZcbabadbdcaZcdbZZZdddcZbZdcdbabbZZbaZZZcZbZdZdadbZccbccZcbbdbdZaadZdZdbcZZcbZZbbcZbbbbbcbZZZZbZdcabbccadabdbadcZaadZaccbddZaZdcabZcaZcbddcdbdbZdcadabcbdZdcccbaZZccaacccZdZZaadZddcddadbcdZcaZdcaZcdcdcbcZadccdaaccadccbacaccabcdZcabcabdbadZdbbbdZaadbZcbZcdcbbdcaZcdZcdcbbacaZbdbbcdcacaaadZbaZbbdabbaababdZZZbZZcaaccdZZdabcdbddabZdZaZdadaddacZZbcdccdcdacZZdbZbbbcacaaadbbcbddddZbZdcbdcddbdcbZcbdccbacdcZbZZbbaZcbcbZbbbdaZZbbbbaaZcabZdccaccbddcadcZcdbbcdaZbaadcZcdccabcZcZZbaZZcccbbbZdZbdcZaddZbZdbZZcbZdacddZZZbdabbccaaaZZcZbabadaccdcZcZaacacddacZaaZdbbbZdbdbZcaaddaZabZZaabZbcZaaZbdbdZcaaddabcbddcZcbadbdbddabcaaabcdabZbbdcZdZZbdaaZcbadadbddaZccbbadadddaZbdbdZddZbdbZadbcbcccdaabbbaaccccaZbcadcddZZZbcbaaZdacbZcacbdcZaZZZcZZccZaZZbbabcccbdcZccdZaZcbcdbbbcacdcaaZadbddccbccddZbbabaabddabbZZcaaZbbdaZacdbZaaacZbZadabaZbbdZdZbbZdcZdddcZdcZbbcdcddcdccbacabadcZddacaZdbddZZcababdcZbadbaabccbababccadaacaabcaZ\n",
            "Epoch: 54/80... Step: 2400... Loss: 3.1387... Val Loss: 3.1374\n",
            "The ababdZddZcbcaZcacabcZccZadcbdbdddZaZcZZaZaacdcbdaaZbddcacZcZcbccacadbZcbdaZZdbZadbadbacbaaZbdbabaadbddZZdcdZddadbZadbZbcZdZadZacdaddcZadbdZdZaaabZZZcZbbcdZdcaddbcbbacZZdZaacZdccadddabccZbcbZZZZcZZZdccdZdZdZaZaZdacbaZcZcaZaddbaaZdcbZbdaccaZbbbacaadcZbbcbZcdbabdbababcaZabdbbZcddccccbZaZbddbZcbZdccaabbZabaZcdZccddcacbbadcdZddaZaZZcddbbdbbcdaddaadacbccZbZaccaZZdadddZcdcdbbacaabaZdbadacZadddcdddbZbcZdbbdaaZabcdddZdabccadbaadbacbbcZbaddaabbdccccaZcZZbdddadcZbbbccdbbadZcbbddcZbbdZZZacZZbcaZdbbbbdbbaZcdcdZdZdZdZZbZacdbaZbdcZadbcaZabddcZdbZabbabcaadaadbabZcdZcadcabaacabcbabZaZdccabdZbdbacdaZZdcbdZcbcaaabaddZaccadZaaccZdbaccZbbZZaZadbbcdadaadcZddZcZdacbdZcdcaZdccdcZcdcZaZadddcbZccadZZdbddbZadZZZacabZaddZacddZdZbccacadacccdaZaabccbaZcZcZcabdZcdadddZddZabcbZcZbccdadbabZZabZZdbdZdadcccacaabccZacabcdcaddcZababdcabbZbabZbadZZacZcdZdbdcbccbabZcaZcdddaacdcZZaZadcaZdaZdcbZZaccZacZddadcdcbdZZbcbcbacccdacbbdaZccbcbabZcZdZcddbccbdbcZacabbcZZdZaccccdZcZdZbdZcacZdbcZbddcbcbbZacdZaZbacZbabaZcbZdcbabZbdZbdcdbbd\n",
            "Epoch: 56/80... Step: 2500... Loss: 3.1005... Val Loss: 3.1329\n",
            "The ccdcabaaababbacZbddZZZdZdbbaabdadZccdcdcZbZdabZZbZcccZaadcaZdbcdabdZaccbbcccZZccZcbdbadZbZcdaZZcbZacZaccbcdaccbcddZbbZZdZbbacbZZdbZdcacaaaddaadccddZcaZdZcZacbZcZcdaacbaZbacbbZZdbcZZbabcaadccZbZcZacadcaZcbabacabdaabZdbbcadcbdbdbcabcccbabbcbaZadcdZbcaZdZZbcbZdcadcddccacbbbccbbdbcZcbbZcaadbdcZZaZccbabaaaaZbZaZcadbbbbaaZcbcaZaaaddbcZaZadZbabcbdccZZadbdcddbZbcdcccbccacdacccdcabZccbaZZdbZaZZdbabbccdbZcdacbdcbcdZadabaZaadZZbbZddZZZaaabZdaZdcddZZcZcaaZcbddaZcdacbaZcdcdccdaadaaadbcdbZbZZbdddddZaZbacaZbcZaaZZZdbcbdacdaZZddbbbZaZddZccddZccaZcdcdbadbdaabdabdaadacadbdddZaaZbaZaZZcddccabddcaZddZZZacZdbadccdcbZcadbccdbabZbdbccZdcbddZcZZdabcdaZacZccZaZcdZdbZbbdacdbccdZabbcaacdbbcdccbdZZdbabbcbbZdZdbZZaZcZbabbbcaabbZccbcbdbdabZdccZabddZaZcdccZdcaZbbcbdcaZbbdbaadcdZcdbbbbZZaZacbZccccbaabdbabdacdZbbZbZccdaaddddaaaaacdddbcdZZccdaZZcbaaacbdccaadbabdbbZcZadcdcbcZabccZaZZZbaaccbcabbcacdababcbZcaZdacadZZaZdZccdaadaZabZcbcbbacdbbadccddZcbcbaZaZdaaaabZbaaZbZbcZbdbbadacaacZbbdddabddddddbddccbZZdZdbbZaaadbZaccbdbZ\n",
            "Epoch: 58/80... Step: 2600... Loss: 3.0837... Val Loss: 3.1235\n",
            "The aZdbbZZdcZbZdabZaZdZbdZdZbdbaadcaccacZccZcbZcZbZcbZbaaadbZadbZcbcccbcdZcbdcbacbdZbcZdaaaddbbcbccddZcdbbZccaaadcaZdZZZcZaaddcZZbdbdZdcbadddcabaZcddZZbbZacZZdaacacZdZcbdadbadaZdZbaZdaaaZdbbbcdZdaZdccdbacdcaacZcZcacaZccddbddcZbdZbbdZcabcddbbddaabZaZbcbdddZacddabZbbdcdZabddcZbZabbddZdZcaabaZaccdddddcbZaaddbZdbZbcbcacbZccbbbdcZcdcdccdaccbaabZcbaddbZddZZaZdccdadbbaaZdcccZZZZZaccdcadcaacabacZcbaZZbdZaZadZbbaZccZbZbcbcdZbaZdadbddcabcdZbaccdZccacZdbddbcaaZdZdbbdadddcccadbbdZdddcdbbbdcZaaZbcbcadadbZababcbdZcababaaacbbbcZabcZZZZbcdcdZZZbacZbcdacbZcZaZZZZaacbZbbbddbdabaabZbdcdabdacZZcdbcZdaddZcccbbbdbZcaaadbdZcddZcdZZZaabdaddaacadbdccaababbZacdcZZcZabZdbbaZbcbaccdZZbdddbdcabbbacbacZbdaZcaZZZabdaaZbdbZZcabZZbdbaZdbcccbadaZdabZZZZaadZZacaZcccbZZdbdbacddcacddZddaacddZabbZcdbcdadaaZcdcadZbacbZacacacZdcZddaacdcacdcdacbdddbbaZbZadbcZcacacbZacdZbZZbabZbadZZZddbabadadbacdbcZbbdZaabZdZbaaZadcaZababccdZcbdabcacdabcddZddbcbZZdddbZdbZZbaZcaddbZZdaccaacccbcZZccdcbZZZZaabdbdbcbbacZacdadcbcZabdcdZcdZadZZaaaabZaca\n",
            "Epoch: 60/80... Step: 2700... Loss: 3.1065... Val Loss: 3.1159\n",
            "The abcccZdbcaZcZbcdaadcbcddddcZdadcaddcacbbadccacddbZZZadddaabcZbZZbacZZZddZZdZZdZdcZcZcaZbbbcbcbcaaZZacccabcZcZacZadZaabbbdbadZacZdbbbcbdcZZbZaZccdabdaddZbddabZdaZababZaZdbbZdZZabcbddaZdbadbZZcdcdadabaaZZbdbbdbbbdbddZdacadaZaccbdadccbbbccZadaaZdcbZbZabZcZbcdcbZadcaddacaZbddababZZabbdbdcZZZabbcbZaacdcZdbaaZbZZdcbbcaaZaZZabbacadZdaccccbbbZccZZZaaZbbddbZZcadcaZZZbZcdZbZZddaZdZdadcabadaabdccacabcacccadacbZZcdZdcaZbdcbZccZZZZccbadcccbZddddbbcZcadccZdaZaadbdcdbcddbdadZccbdbcbdacbdccadZcdbdddZdbbZacZabaZZdZZaZdZZcaZcbcbddaabaZddcZbddddZcbbccZcbccbaZadccbcbaaZbbadZdbcddaacbbbbcadddcZadbbdZccdcadcddbZccaaZZacZdbZcacbaccbZZbZbdbcbcbZbbbdZcbaZdadbcdZbcaaaaZcZbaZcdabZadbZcbcZZZcbZZZdZbdZZbcZZaZabbcZcaadcZddZcZddcbbZZcZccddaacdccbZcaZbZacbcabbababcdZacdcdaadcacbbcccaabcddadddacZZdZbabcacdaaZbbZabdaaabcbbZZZbdcdZabbcbccbZdaZcZadcZdacacZdaZaaaZZdaabZddaddbbdbcbccbZZdcbaaZbcabbaaaZbdZbdZdcaZccaaabZZadcZbaaaaZdaabdcabdddcacbcbZbZZcabbdabddbZccaaaadaaaccbZZdbZdbdcbcdddddZZZcZZbadbZZddZacaZabbcadcbbddaZZbbZ\n",
            "Epoch: 63/80... Step: 2800... Loss: 3.0581... Val Loss: 3.1036\n",
            "The ZabbadcbcaadcbbadZbabdZbZbcddaddaZcZdZadbcZdbccbcbZdadZaacadZbcbdbcZbdcZZdZddZZaZZaccbacabddbZbcbaaaaZbddbabbbcbZabaccZZdaddadcdbccbcbZadbcdcbcdcaabbacZaadaabcaabaZcZcacbccbZaZcdaaZdaddbcaZbZadbbdcZcdZZcdbZbbbdbcdcdZdbZaZZZaZbbaabbadZcbdZacdZZZcddccaZaccbadacabcacdcZcZcdbZZcZbdZZddZZaadddddbZZbcaacaadZZcbaccbbbadaZZacacbdadbcbZcZZZZdbbcdaadcZdZZcZZZdZacZddbZZacdbdadZbZaZcaaZdbcZdaZbcaabdbZbZcZcddZZacbadaZbaabbadbZaZZdbZZZabZaadbdcbaZddbdbadZaZbcZZZdddcZbZbZdZdZbaZbbZcZcZaZccZZbZaZZaacadaccacdZZdbZdcacdcbccaccdaddaaZabaadZdZadZabaZddaaddcaacbcdddaadaadadcbdaZZbdZZbcZdcbdcbdcaZbdcZcaZbddbcbaacZbcccZdbdZbdbcbbccbdZdacbbaabccdddbccbZcddcbdaddccdZcbcacbbdcbbcadacZbabdaddZdZZbaaaacaabcaZdddaabZZaZddbcbacaZcbZbbZccaaadccbZcbaaadZZZdccZdbcdaaZadbZcabccabbbacZdaadbbdbZaZbbZZdadZcbcaZbccdaacaddacbbdZaabcccbddacZbaaZaadZcccccdZcZZdaZZZcdbcZcaZabcaZaZacbdababdacaabcZdcaccabbbccZbacabaabcbdadbdacbZcddbcZdZZZcabcbaccZcddbbdcccccZabZZdZcZcdacZaZbbZccaZaZbadbdabbdacZcbcdaadZZdZcccZbZdddddZZZZacZaZZdbcd\n",
            "Epoch: 65/80... Step: 2900... Loss: 3.0457... Val Loss: 3.1092\n",
            "The ZbbaaZdZdbZdddddcbdddbZZaZbcaZZZdbaaddaabbaZZaZdccadaZZaZcbaabZadccbZZbZdddbacdZdbdbbbddbcaadbbdbaZadaZbcdZcdbaZdcZdbadZZdaaZdZbacddcbZZccbddbcdabZaacaabccbddbbcbbddZaccadcdadaZbadcbdaddZdbaZaZacZbddZcbdcbcZbcbZcbdbaccdZbcabaabaZdbdabcaabcccZddcdaabaaadcbbdaZcabZacZbbdcZdbaabddcZacbbZcaZdaZZZZdbddccZbdZZaZadacdcZadaaZbZZbcZdddcdabddcdadbcdbbbaaaadabbZdbdcbabbcaZadcdcbdabZbdZZZdZacaabcdbdcbacbbZbccaZbbaadZddadbbcaccbbcccZcadcbZabbdbdabZZdaaabbZbaZdcZaZcdbZdcZabdacZcZcZZdcbadbaZbZbcbbadcbcZadcbcacbZbbZaadccbaaabZZdbdbdaaacacddZZbZcacbcZbcZcacZbZcdabZZaZdcdZabZZcZabbcdcabZcacadaaZaZbZbZdZcdZZZbZdacZabdZZZadccccdbaZaaadbbdadbabcaacZcdZZcbcaaccacdZdaZaZccZddcbaccdZcZbdbcbcccdcdZcddbZadccZcdaZdccaZZZdaaddZdcbaZacdbZcbdccaacbbbbcddbZadadbdcccdcadccabbaZdddaZdddZbdcbbdbdZdcdddcaacdaacabaddZbaaadbbbZadZbacbdZZdbdacZdbbbbbdaZaadbbbccadaaaZacbZdbZZbaacbZaacZZZacdZdababdZcbddabZbbaddabbZZcZadZcZZcZZccdcdbaZddacaddbbcaZZbabccdZacbbccddZbcdZZbccbddaZabbddadccbccadcbcbdabcbbdbcddcaccabbabaabdZbcdcZdaZ\n",
            "Epoch: 67/80... Step: 3000... Loss: 3.0684... Val Loss: 3.1061\n",
            "The bccZbaccZZaaacccZcaabbacbZZddddcbcbbZdaZbdadccdcZZcaabbbdadaacccadZZadcZcZaaZcbdcadZaadcbZdabdZZabZdabbddddbdddbdZcaabcacZcadZdccZcZbaZcZZabZacadbZcbaZbZdZZbcdbbcbdcbZbaadZaadbdZccbdZbaaZacZbdZbaaZZZbcbZcaZZdZdZbcdZZcadcbZabbdbZccbcabbddZbbZaccZdcZcabaZcdacZadabccaacbbcaaZccbbdddbbcZbaabddZZaZcbZcbaZbbbZZabaaaaadddbddddbZdaaaZdadbcacZbZbbbdaabZdZdcbZZdbcbZcZdddababaaZadZZbZZcZcacbbbbdcaaZZcbdaddadaZZccaaabZbaadZdcacbcccadZabZZcZbcabddddccbccdabbacdcZcZcaacZcZZbaZaZabbccdcdcaabaZbZdbdbdbZaaZcZbdaddbcaZdcbbbdbcbdcacbZacZcZcZadcaZccZZZZdabaaaabZbdccbccbabacZZZdcdZZcccaababbbabbaaZddZcaaaadccacZZaabbbadZabcacccZcdbcaaadbaddcabbdcbdZdZdZddbacaaddbbbZbaabZcbZZadcZbacdZabdadZaZbdZdZcdbZbbZdZdaabZddaZZdcaadZbdcabdZdbZbdZabccbbbbbbdZbaZbaabcdaaZZdacbZaaZcccZbbcbbZaZdbZdbbdbcdacZaaaZZbdZZbZbZbZZbbcZcZadZcadcabZcZbaaaZabbbbcbdcbbdZZcadbbZaccZZadabbcbbbdbbZZdacdbbdbabcZcaaZZZZZcaadacadbbcadZZdZZabcZZZZZdbccZbabZddZbbbcZccccdbbcabcacbaddZaadabbaaddcZbbaZZcbacaZaabcZabcdZddZacaddbdbabbbbZccbcabcbbddZ\n",
            "Epoch: 69/80... Step: 3100... Loss: 3.0414... Val Loss: 3.1051\n",
            "The ZadabbadcaaccZZbdacbbaaZcbaZZbaZZcZdZbbbbcZaaZbZbcaaaZaacbadaZZbZddcabcbbaZZdcbaddbbZdaZdZccbcZdaaZcZdbaZcbcacdbbdccZZZZcbaZbbbbbcccdadbZdbZZZZZcaacdZdbbbbddabaaZcaZdbdcZZcdcababcdbbcacbdbZdZcaadabaaZcZdcbdadZbdabaabaaZZbcZZdZbaabdZbZacZbaabZabcbdZdbcccbbcbZZZdababbdcddaZbbaZacdZdcbacaaZaZaZcbcbccZdZaZabZZcabaddZdaaZdbabdcbcdbbcZcdcZbbbadbbdddcbaaaZddacdbbZdbaabcZaaaZbbZZacbZaadZZbZZccdcdZaadcZadZZZabbZdbabZdcbdaZabbacdaaZddacdaZdbbddcabZcacddbcdcbabZZaccZcbZZdZbdcZbdcaZcaZdZbdZdadadabZdbdZdZaZdaccZbcbcbZbZaZaZadZadcaZcZbZddabbbcaadZacbbZaZbZbdddcddbadcccZZcbbccZabcddcdaZccZbaaccZddbcbbcaaaccbaZcddZddcdabcZcbabdZbcadZZbdZcaZbZbadddaaZZdbaZaZccZcbacZZZdcadbccZabcdabZdZcadZdZadddbZbddZdcdZbbccddbacccZZddaabZbccaZZZaddZZZabbZbccbbabZdZbbZaZbZdbdbcdaadadZacbabZdZbbdbacbcadZZZZcdbbccZcdbaaZcadaZbZacccadbdZaaadbddbdabbcdadbaadacdbZcabcbbcdbcacdaadbcbadaZcZabbbaaZcdcZbbbcZcdaZbacacbbaZddZbccddbabbcddadZZdZaabdaZaZaZcacdZbcZdbabbccdbdadZcbZZZabbbZdaZbabaZcddbaccZaacbcZZddbZcZbZaddbdaZdZdbdaaddd\n",
            "Epoch: 72/80... Step: 3200... Loss: 3.0613... Val Loss: 3.1032\n",
            "The bZdZdbabcZaccaaZaZcZcbdZacZaabZZdZdaZZccZadbbccdZacbcZdZdZZdadabbZZddbdcdcZbaaaddcddcZbdZbZZcbbcdcdaZdZcaadbZdddbcbacZbbbZdcccacdcbbdcdZdbdaaZcZdadadcdcbcdZabaZaddaacccZabdddabbccZcaddbZdabcbbZdcdbbcZddbbadZadadaZacbZcdZZdbZbdbbcbddZdaccadcdbaZbZaaccZdZbbcadbdbZcbbaZdaadcddcbcZdZadaaacddZacaZZcddZaabcbcZcZcZZabaZdaZaZaabdcbadcaZacccZbdZddZdZaaZbbacbbddZbbbdZZadbZZdcZabcdddacZZaZdddcddZdddacZcddZadbaZZbbddbccZZacdZdZddZcaZbadZcdcaZbcZacbZdddZcaccZaddbbdcdbZccbcZdZcaaaadcaadcccaccaZcbadabcdZcZaddbcZbbdcacZZZdcbZaZZbZabdbdabbdadacbdbZadacZaaacbddZddZZdbabbcbadbaaZbZbdbbbaZZcdbZaadbdadZdcdZZZcdaddbZcZbcadbaZbbcacZcZabddZbaZZcbcccabcdbdcadcacbZZZZaabaZdadZadbbZZbcbdadcaabbZacdZbcdddZbbadZccaccZdZZabZacaZcZaZbbZZZcbdbdZccZbaZcZbbaddZZbdZbbaZdcabZbcadZaaZdbaacdcaddadcadaZdbbbZbbZaZaZbZcdadcZacZcaccdaZddcaZdZZZZbcZaaccbcdadbaZdccdbZddacabZZZcdadbcbdbdadcZcZbbdaccabbacaaZcbacadbcZZcadbcadabaadaabZbddbdbZabdZbdZbaaZZaZcdZZcbacaabbcZbZdZbZbbabcdcaacZdcdZZcadcadcdaZbacddbbcdcZaddddccaacbacdddcbcaba\n",
            "Epoch: 74/80... Step: 3300... Loss: 3.0491... Val Loss: 3.1210\n",
            "The dccaccbdaaacdccddZaZZcZdcacbadddcbdbZcZcacbcdadZbabZcbbacabbZZbZdZZZdcZabacaababdcdaacbcZabZaacaZbdaadZcZcbaZdbcbZaaaZccbcadabdbZdZddcbZbbbadcdaaZddddZZccdccdadabaaadaZabZZadabaccabZaZZdccZbdaZdbZdbbZZcbcbcadbcbZadcZdZZaddcdcaacdacbdcZdZbcZbddaaZbabcbccaZZcZdZadbaccbbbadabbccdcbZccaaddZdacacaaZdbdbdddaZbbZabbbadddbaabcdaccdaZZcaccbbZbccbccbZadaZaacbccdcZdddbccZaadaddcZabaZbZcbcddccZbcdaaZcZcddZbadaZZcZbabcZcbcZZcdcZdZZdccacZabcdZcddcdZaZbdaaZaccbbcZcZbdbcdadbZZZbZbdaabdbadZZccaddbbcbbccZZZcacbZbZcbdbZZdZdZbbZZcaaaZaabcabdccdcZbbcdaaccbbdbZZaabcbbddacbZcacdZZZbdccbcdcbcbbcdbbadbZZZddcccbcaabdbdbZaaZbbZdadZddbcaacZZcababbbZbdZZZcccZdcbccaaccabZcacddcaaZaabccacabbbaZdZadcaZbdcddabbacabcacacabcZdbbaZdZdZZbbaZbcZbcbZbbZccdabZcddcZZaZbaZcbacZdddccdZbdbcaadZdabddZbbcdZdadZaZaadbcdZadbdddddbdadacbabZZcadddbcbddcZaZdZbaaabcbbccabcbcZbcdabbcadabbbcdccddbdcZabcdaZcdddZdcacbbcdccZcZaabccbdbcbddaZZabZadcdcbbcbcbZZdcdZZbcdcZZbccdZaZabadbaccaaaZdbbZddbbaZaZddbbZaaadabcbdccdZZdZZbcddaaZbbcccddddbZZddba\n",
            "Epoch: 76/80... Step: 3400... Loss: 3.0321... Val Loss: 3.0931\n",
            "The ZcccdcdZbaadZdcZcZdbcabddacaZcaZabcdaZcdZZZcbcdZbcdaccdZddabcbbbdbcdccZccdaZZbacbadcZccaaZacaZcbbZcabZdcdadbaacZcdZcabcdaddcdbcdcZcddbcccadZccabZdZdaZbZabadddccbdZabdbbZZddcabbZZbabaccaaddZZbZbccZdcZdcZZbZddaZdcbbddcZbaabccbadbZbaadZdcZccZcdcbdccacdaadZbZbZbdaaZdcZZZZdbaZbadcccaadacddacZZcdaaZadbaddacbdZddZdccacaZdZcbbZbZaZdaaZcaZccaZZZZdcaZcbbbdZZZbcZdZddccbcZdcdddabcbaZbdcddZcZZZccZcZbdZbZadcdZddabbcZZcddbbZbcZadbbadbbdaaacaZccZdadccZZabdddcbZccaZZZZZbcbdZcbbdbZadZZZadcabcZdZZZdcZbZccacZcZcccdcdZddbbbaZcdZdbbccccdabcaZZZdbdcabZaZZaaadcbdcabZbcbZdabbbZbZZabdddaZddadZcZcbccZdZZcadZbdbaaZcZdcdbdZbaZZZbbdZZZaaaZdcabbdaaaadbdbaaccadcadccaccdZabccZaabddabdcZccabcZaaZbdccaadacccddbZadcdcadbdZcZZZbacZZcZZcbdaZbaddabbdcbddabbabdbaadZZcddcZacZZdZbaZbaddaaabaZddZadccZdZdZbacccaaaadccZdcZcdbZZZbcaddaddcdcacacdbZccZdbaZcZaZdddbbZabZaaZbbaZZabbbZaddcZacZZaZdadZdZZZcZdaZbZZcZcZabZabaZdbbbabaZddcbdccabbcbZdadcZdbdcaadcbbdZaZZbabZaadadbbZaZabcdcdabccdZadZcZdacdZacaZbaZbcbbccbdaacbdccZZadcbcZdZabbcacbZ\n",
            "Epoch: 78/80... Step: 3500... Loss: 3.0134... Val Loss: 3.0962\n",
            "The aZbbZcZccadZcbbcddbaaacZbaaaddZbZZZccabbacbbbcdcdadaaddcZZccddZbbddZbZcaZcZbbdbZcdbZcaZddbcaddaddZabZZZdZaZaacbdZbbZdcaaaZadadbZbddacbcaZddccZdcacbcdccdddcbbbcZcZaadZdbZbcbbcZZdcZadcddbacdddZbbadZZddabcdaZacdddaZabbcZdZaadddcbZaadbadbaddZZadcaZZZdbcdZdZbZZcbbdbZdZdbZcddbZbZcbdacabcabbaaccaZcbdcdccabbaadZadZZaacaccbZZaadabZbbabdaZZZdccdadadbaZcdbZcZbZcaaddacdaaabZZddbabdbdaaZZaZcZcZddZabZadbbZZaZaaaZbcZdcZadaZcbccbcZcZdaaZadbZddZadbabdddcadZZcZadaabZZbdbdcabbaadcZaZcZbddacaddbbcZcZZbZcbcdbcZZbccaadZcdadcccaZcZZaabccZZadcbZdcZZcbaaacbcababcaccZbZacdbZdcddbddacdZbdaZbaZdZdbZdbccbdbcbbZcbaZZZZdddZabdcaZcZbbcZZaaddcacbdcaddbabcaddZbaaZacZZadaaadZdZZaacbZbbbZZdZZcacdccZcaZcdddcdccdadcbdcdbZbadcaacdddcacZabcdccaZZZZbacbcZZbZdcZbcbZcdcbcaaZbbZdZdcaZdaZbbdbdbccZZdaddaZdcbbdabaadcZbdcZZcdaZbaacZZbaacaaddaZdaaacadabbbcccbcbaaaaZaabbdbZZbdZdccbbcaaadbdcccbaabbddbaaZZdZddcdaaacabdbaabdddbaZabcddbbZcdcabacabddabbcbadcaZacccacZdcaZaZaZcZZaadbcbddddadaadbZabcbbdcbcacbZbdbadZcZZbcZdcZadcbddacZcbZabZadaa\n",
            "Epoch: 80/80... Step: 3600... Loss: 3.0380... Val Loss: 3.0915\n",
            "The abcccdbbdddZcbcdbdacaaZadcaZZdaddcbcdccdZddbbbcbbcbcddZccabadZabbdZaccdcZaZbcadaadcbcZaabddacZacccdZbcaddZadbbbZdaZcdadbbZbcbdcZZbabZdbbdZZbaZaZcbdbZbcZZbbZZdbacaaadabdabbdZbdZaZbaaZbZbZaaZZdZaaZZZcbbddcdbacbZbabbcZcZaccbZdbaccadaZZcaaZcZadZdcdaaZdbbZadadaZZZZcbcdZcdZdcZbddZbcZabZcacbadbZcaaZaZbcacdZZacZcdacbaaaadbcddbZdbbaZbZbZdcdbaadddbabbdaZdaadacbdbZdaZddaddbaadcbdZbaaadZaaddbcZcddbadZccadZZcZdaaccbbZbbabcZZbZcdacbbZbdZbbcbbccaaZaZbacdccbcacZZZdcddbdZacacbcacZbabbbddcadZaZabdccdZZabdaddcacbbcZbZaZZZcaZcbaadbddccbcdZdcacbddbbadbcbZdacdadZddZacbdZZbcdaZdaZdaZddZccbbdZZcdacZZdaaddcadZadaaadcZdabbbacbdaaababdbaacZbcacdaZZZccbZdcbZZdabacdddZaZacZcaabZZacbbdccZZcZbcdZaaaZaaccbZcbdcaaaccbadbZcdcdaaadZadcbdddZaadaZcZdbccdaaaddadadbacaadadcccabbZbcZZZcdccbcZaZacacbacZdcabaacbaabcZbcbdacaZcabdabZcZccbddddZcdbcccbdacZddcbadbaZbadcdabdacZZaacZdcaccdaaccaadddcbadddbbadZabaZdZabcbddZZabZcbdZccdZcdcbcaccdcbcdacaZdcaZZbcccZdabZbcabcZcaZZaZcbcdZacaddbZbbaZbaabadcbccaZZZbcZbcbcbbdabbaacbaZaadZbddZZbZ\n"
          ],
          "name": "stdout"
        }
      ]
    },
    {
      "cell_type": "code",
      "metadata": {
        "id": "cdBcUbv6FObG",
        "colab": {
          "base_uri": "https://localhost:8080/"
        },
        "outputId": "8922a260-720d-4c4b-9131-4719e6e39bc9"
      },
      "source": [
        "train(lstm_model, text_as_int, epochs=n_epochs, batch_size=batch_size, seq_length=seq_length, lr=0.001, print_every=50)"
      ],
      "execution_count": 24,
      "outputs": [
        {
          "output_type": "stream",
          "text": [
            "/usr/local/lib/python3.6/dist-packages/torch/nn/functional.py:1628: UserWarning: nn.functional.tanh is deprecated. Use torch.tanh instead.\n",
            "  warnings.warn(\"nn.functional.tanh is deprecated. Use torch.tanh instead.\")\n"
          ],
          "name": "stderr"
        },
        {
          "output_type": "stream",
          "text": [
            "Epoch: 2/80... Step: 50... Loss: 3.4129... Val Loss: 3.3970\n",
            "The aZcabcbacaaZddZZcbZabaZabddabaaZdcaaaZcaaZcZaaZacabZZdaaZabdccaZcabadcadZabcbZdcbZdZdZbaabZabcdacbacccbdaacdZdZbabaZZdccccZcbabdadbbdZZadcZZccdcbbaddbdababZcbZZbdcdacbbcbbccZcbddbabcdbcZadcaaZaZbcdbZaaZcbacZbZbbcdZZbZdZZdddccaZdaacZZadbZZdcdcbZbddddacZcdaZcZabddbbdZdabZcacaZadZZabbZadadadbdZabbbdaZcZZbZcZdcbbddbbaZbcZZdaabbabZabddadZcdacadbabaacZbcddaaabdcZdZaccdadZbcZaddZdaZbaabZabbacdacdbadZaacaaZdbbdccdZbaccabcaZdababbZbcZbcZZacZcZadZadaabZdcbbacdbZddZdZacaZbccbaaaddaZbcdbZddacdccZbddabbdbdbdcddZcabdcbaZZbcadcabadacddZdZaZccdbadZZcdccdbdadbcaZZZZZdcZddbZZaZZZcbbbdbZcddabbbccddZbcbZacacbaZcdacccZZZddacZbccZZccbdZZZbbdabZaZabdddaZdZcdZbddbcbbccZcZdcaccdbZcZddZbbdZddbZZZcdccabadcccdbbabbdZabZddZdaZZdcacZaZbbbbacdcbZZbbaZdcbdabaabbaddbbZZZbZabZdbbcacZcbcZdZZddddccacaacbcabdaZcdZcddadcZddacaddbZbadbddacbdZaZdbZdcbabZbaddZdcaZZdacbZccdZabaZZbaZdZbbdbcaZZZdZZbcbZacaadbddcbdZZaZZcdbZbZZabccbcZbaccbccaacbbbdadaZccabZbaccZdcbddZcccaabdZZbaadaZbZbbaZccddbddaZZZcadadZZZdcZZabdddaaZacacaacbdbabdb\n",
            "Epoch: 3/80... Step: 100... Loss: 3.3841... Val Loss: 3.3930\n",
            "The accadadaccabbccbcbbccZbbZabacZcbZccdbZZZddcZZZbdaaaZbbcbbccZccdcbZbZddacbdZacdZdZdadbabdbaZZbcZadZZdbdcbddbbbbcbcadddbccbaZacZcdZdaZdaZZZddbcdcaZddadZaadZdZdZccaccdZZZZcaZZaZaZZcdZbcbcbcacacccddcbccdbZaddcZaccadcadadbcaaacdacdbZdadbaabbdabaZdcdaaZcZZcaacdZabadcdbdbcacaccbbbadaZZdbcbbcZZdcZabaZddbdaacccbdaaZZbccdccabdZcZdcbadbcbcZdaacabdZZZaadcaaZbdadbZcccacaaaaZZZabcaZadaadaZcddZccddcababaddddddcddcabbbddbabdcbZccZbZccdcZbbbdZbZZddbcbdbZabccdZbbdZdbbZcdcZaaddcacbcaZdabadbbcdcdZZbbbccZZZddZZcbbZbccZcaZaacaacaccaccddZcdbZbcdaZaaadadcccaddZaZdcdaZadcbbdbaaadcbZccccZZbdaZcbbccbZcccZZbcZddZcZaZccdcbccdbbddaZZabccZabadbbbdbccZaccbddddcZaaZbcbbbbcabdaacbbbcZZadcddbbaZdbZabbaadcccZbacZZbcaaaadccacddcabZZdcbcdaZbdccacZdbZddZZaaacZcZcbdcZbdcZZZbdcZaccddbbZbZbZabaZbaabcdcdbZZZcbabaZddbaZdadadacZZZcdaZbZaaccacZbZdadadbadbaccabZdZadcabdZcdddcbccacdabbcbbdccbabaZaadZdddbdddaZdcZZZadbbcbccdZcbaaaZcZaZabcabbdaaadcZaZZcdabdbacaaaabbcbbZZbbcdadadbbZcaddbabccZbaddbbaaaacaccbZbaabZdZZcdcdcddcdcdaacaacZbZbc\n",
            "Epoch: 4/80... Step: 150... Loss: 3.4483... Val Loss: 3.3898\n",
            "The ccccaaaZdabdbZZccZdZcddZZbaabdcdZaacbbaaZZacaZaddaZZadcbbbaabZaddabbcbdbZabZadabddbdadcaZaZZbZbdcZZdbZaZdbdabaZaZbcdccZadZccbZabdacaadacbZbbcdbdcdaabbbddbdcbdZadZcdbbaZZacbddbbbcddbcacbcaaabcZcbdcccbaaccaadddZcddZZZaabbbcZbbdabZdaZZcadcZdZZddadZcaZZZbdZbdZaadZaadZZcdcZbaZccZdccbcdbZaZbadZdddacaadbcadabaddZcdacdcaadZZbcbZbadbcZaadbcbdZbcaZcbcabdaZbZdaZZZbdbccZbacZaZcZbabdaadaZcbZabbccbbZdcaZZZccZZaZbaZcbbcaddZZZdZdadZbcaaZbcZbbdcacdZbcbbZcZddcdZZddbZabbZdbZaccZccdZbZZbZcZZZadaaccdbdcaaZZZcbddZbbacabbddZcabcZZabbbZcaZccaaZcbabdacbaacZcaZaadddbaZbdcaacbabcdbbZZaZaaZbcZddccaaaZcadcaaZcbbbccccZcdZbbcbZbdacddaabdZaZZaabdbbdacccabbccZddbZbbadbdZaccbccddbaZZccZabcZZaZdaadbZdcabdZdZcbbdbcdbddaZacdddZacbdddZdaZdabbabccdbbcadcbdcZZadbbdbdccZdaZcdcddabcccaZddbZabaadbdcZdZZdcZZcbbcddZbZddZaaZaadccbbbcaZdbcbabdZdZZbcZbZZcdZbZaZbdZbbZadbadaddcacZaccZcaZdcbbdbdddaaZbZZddbbZcZcaZZaZaZdcdbcdZaaZddcdabZcadZacZbcdccdddaZbZbbadccZZZdZacbddbbcZdZbadcbZbdZdbddbZdbddZdZccZZdabdbZcZbcZaddbcaaZcZddbcccccccdbaabZ\n",
            "Epoch: 5/80... Step: 200... Loss: 3.3810... Val Loss: 3.3872\n",
            "The caccbbZZZdcdZbcbcbcdZbcbdZZaZababbZdabdadZZaadbccdccdaZcaddcaccZbcabaabccZcccbacdddabcdZZbddcbacZadZcdbZddaaaacdabcdbdaadaZcbbadcZdbZZdcZcdddbZcabZaZcabadacbbbcZdacdbdZaadcZdcabcZcaZZZbcdadcbbddaaZbcbZcbcabaZZbZcbdbZdcZccbaZddabZcaacZZaZccbdcbabbZcdbacabddbZZbcZaZcdbaaaccabadZacddaaaZacadcbcbZbaacZadbdddaacZdZdddZdZbbbaZZdbZZcddZdcZddcbdcdccbZbbcZZaaZbdZZZdddbaZdZadbZcZadcdbcacaaZZZdbdbZacbcadbdacZZacZdcadacbbZcadZcZcadcZaZccabcddbZcZbZZccdaaZZbddbdcZcZddbdZZaacZZbaaZbdaddcccZdccaZbbZdZbcbbZZdabcacadaacbbbbdacaaacddadbbcbdZdbcaaZddaadZZbZccbacacZZaZadcZcZcccaaZZacdZdcZabbbbZcZcbZZddZbdZabdddbZZZbbdZddaZbbcZcZaZbccbZZdZbccabZaacZdcZbccdZdcZdbdabbbaZdcdcaaZabZdaacadcdbbbZbcZbZcdcZadcZZbdcaZZadacZbcacaZZcbZcaccbcbZZcaabbZZbZaZaabZcdZbbZZcZZdcdadcacZddZdccabddcddcbcZZdZdabaZZdadcdZdbccbZcdaacbcdcbddcZaadbabddcaaZaaZaaaadabdadaababaabacbZZbacbacdcadZcddcbZacadaabbabaZaZbcbcddbZcZaccbdacbbZccdacccacdaZaZcaccabcdcZbdabaZbbdcbddbbabaadcccZcdacbcdZdbcbbadbZdcZdcabZccccZdbbacdZcabZZZbbbZccadZcbcb\n",
            "Epoch: 6/80... Step: 250... Loss: 3.3834... Val Loss: 3.3825\n",
            "The bdacadcZbZZddZaZZbdacbZZccbbZccacaZbdccaadddZcaZacddadddZaabZdZdbbbadbZdccdacbZddbZdccdaaZaZdZdaddcccbadaaccdadcabdZbbZdZZaccdadbccddaadZcbbcbZddZcZcccZcddZcdcZaZZaZbbcbcacZbZbbdcaddZZbadcccZbdbcbccdabZdZZZaadcbcZbZbdbbcaZZdaaccccdZacddZadddcdbcaZZbZdZcbaZcdZacdbadcbdccbcccccZbZbdaZdaZdabbbcdadZbccdaaZabbbdaZZacZdZZdbcdZbbdZbabdbbcaZZbadZbZadcdcZcbadbddZbbbadcZddZbaaccdZbacbZcbaZcccZadZZaaacaZabadcdacZacaZccZcddddZZZaaacbbZababZbaZbcdabadcdZcaadZdZcbbdZddacbcbccacZdcZbaZdcdddbcZddbaaabcaaacZcccZdcZccaZaZabZdcZaZdadZdbdabdcdcbdaabcabbaZZZabccbbZbadccZdadbbZcZcZabdccaadZcZcaaccZacdZbdbaZZacaabadbadbaZZcZacdacZZZbbZZdabbddabadabZcZZcdcbbdaaZZccdddZbZbacaaaZZdZaaddZZddacaabbcdZcdZbbaccbZcdZZaadZcbZabcdadadaccbcbbdabddbdbaadddbcdabdZdbcdZcaddccaZcacZcZbZddZccZdZcZabcddcbZcaaacbZcZZadaaZdacbdddZbcacaZdZbdbbZZddcacaaccZbbcdddbZZdcbdbZZacccZcabacbadZabbbadZaaZaZZccbadaaddZaabbZbcbZabbcZZZZcbcadZdZZdbZbccbZccZcdaZadaccababaZcbbZaaaZbbdcZbdZdcbbcZbaddbaZadZdcbcccccccbcbdabcbbaadZZbdcbaaaaaaZZbacZ\n",
            "Epoch: 7/80... Step: 300... Loss: 3.4232... Val Loss: 3.3786\n",
            "The dcbbbdbabbZZacbZcaccaZdcZcaZcaZbZZcacbZZcdacadZZbcZaabbbdccaZZabccdZbccbZacadZaaZcZbZbbaadcaddcdZbccZadZZadcbZZddbcbZZdbdZdddccZcbbbdZadacdaabZbdaddaZcabZaZccdZdaZddZdaZdZZdbbbcbZccZZadacdabbbZcZddddadcdbddaZaaaaZdcdaabbabaadadabaZdZdbZZccaccZbZbababbbbcdccacaccdZccaaZcZZddddaaabbbaaddbbZadbdZdZaaZdaacadaZdZZdadddZcZdabbdZZcdaadadZZdZZbZabccbddcaZbbacbabZZcbdcaZZbcdcbcabccaZZddddbZdbcabbaadbbccacZZcdZaaababZbdcccabZZdbdZZdadcZdddbbZbaaddZZddZddcdbddacZabbbbacaabZccaaadbdbcZcabbaddbZZbddZbccacdacacbddddZZaddaadZacaZZdccZcacdZadZdaaZacdccadbaacdbaZcbddbadaacZcabaZdZaaddddZaZcdZbZabbcdddZabbcZcZZZaZZbaZdadccccZbcZdcbbaadadbZZbbZZaadZZdcZcddcdadZbacaZZabccZaacbZaabbbcbabZZbdbadbcdZdcZcdccbacdbccbZdadcdbccbaZcbbZcaaaadZaZbbaZZdZdbaaZcbcbaabaacdccccZcZbadbddZdZZabZdcbZcdcdbccZdcZZbbacaccaaaZdcbZbdZcdddbddcbaabcbdddaZZddZdcbZcbccZbZbZaZZbcaaaacZacacddbbabdabddcdZdddcdbbadaabZbZZcdbbcZabcdddcZaabZbcbdbabaabdZdaZddcbZdZZZdddZbdccbZdccccccZaZdcZZcabZbbZacZZbaZbddbZaababbabZabccddbccaddacdabcbcZda\n",
            "Epoch: 8/80... Step: 350... Loss: 3.3780... Val Loss: 3.3693\n",
            "The bZZaacbbccabcacadaZaaZdZdZZcdZabbZdcdbdaZcbaZcbZaaZbbZZaddacdZdcadcccddacbaccaZacddZdbZbadcabZZddaadabdbdbcZZadbbZdZaZbdabbabbbZdddaZacadcdbZddZaZacbdcbZababbababacbdbbcabaZZaZZccZZdcaabddcbacZbbZZZZbcbZcbddcbbaZdcdbdZdbddacZcaaddbdaadcbbZZdddbcbcZaZcabcZddabdZbaaZdbadaadddZbdcccabadZZaaaddcabaddaZbaaZdabZddcZcabacbZZdZZadbcdZcdddcZbZbZbZZcadZcZaadbcbZadbZcZcaZbdbbdbdbcZddbadcdZZbcZddcddcZbbaZbbadbccZbabdaaabadcbcZadbbbcbddacabccZadcbdaddacbbbadZdcaaadZdcaabbccbaacbddZbZdZcbbZcabdddcbadcbaaZacadZbbZZccZaZcbadcbbZZccaZcdZcaccbcdbcbdadbbabddZdaZbccbadcbbbbbddbaaaZbabZaZcaZcZdbbdaZbcbaaabcbacdZcbacZdbccbZZbZadZZddaddcabbZZbdbdbcdcdaccacdcadZZaabcZadbbbdbabZbcadcddbZZcbdbbZZdabZZcbcbbbdcZcZaZdadbbaaZZbbbaZccabbZbbcaZdZZcZdaZddbZaZZddacZZdccadadabdbddcZabacdZbdZdadZdZZadccadZbZdbaabcdcddcaZbdbZZdZabcbcabdbZZbcbcZdZZdaadccbaZbdacbaZZdbcaZZbdbbaZadZbdZaabadZaabcbadZadZbdZbZccZaZcdcdcaZZcZaZZbaaadZbdcabbbaZZbbcddbadZcaZcbabcZbbddacabaabZbbdZbZZdbabdZaZccaabZadcdcdbcZaZabdbadcacZZcadZbbaadccaZab\n",
            "Epoch: 9/80... Step: 400... Loss: 3.3908... Val Loss: 3.3659\n",
            "The ccbaaacZabcZdcaacbddacdbbcbZbbZcdbbZZbdacddabdZcZZbZcdbcdabbcZdbbddbabaadbacaddZZZbZbcbZbbacbbaccaaddbcdZZccacbdZcddddccbbcZZcZZZbcccbdddZcZabaaaZZbbbadbccacZcaZbcbbbcbbdbZZZbcadcabacZZbaccZZddZZZZZbbbZbZcdZdddddbbcdbcddbZddaaddZZcaacZZZbaaabacaddccdabbbdabaZaddZaZacccdadaacdcZZcdZabbdZcdaZbbcddddbcZdZccdbZZZbdccabZddZccdaZZcdacbbcbcccdbbZZcaacZddbbcabdabddaadccZbcbbaddZZbdZZZcbaZadcbabdcdZaZcbacdddadbbdcZcacaZdZacabaacbbdadadZcabZZddbcbZaccaccdZcaaacbaZcdbbadZabaabcddddZcaZcbZbaZdZddbdccadbbZdaaZbccadbbZccdaacacbZabbdbabdbbacZcdbbcZbcaZaaZZcdcbdcZabbcZZabdabaZbdbaZdZaaaabbbZdbaabadcbZZabcdZdabZcbdaacZbaadabbdaZddbcaccdbbcbcZbcZZacddZaabbcacZbccbdbcacaadZaaaacbbdZdaZbZdddbcbdddZbdbbdcZZdZZbcdaZbdcbZcbZadZacabZZZccdZdbdZcbZZcaadZbbaZdadcbadcbbbZddadbacdcdaadcaZdZabddZcbbcZcZdZcbZadaadaZbbcdadcZdZbZaZdaddbaadddbcddaacbZaZZabZcZZddbbaaZbdcdaZZcabdZcZddZccaZadZZZdcbZabbbZZZdZbbdaccaaccbaaZbcaZacabcdbaadbZZccdcaddcbbZZZZbZZcbadZaZccdaccbcaaZbdZcabbcZZdbZZcZbdabZbaZcaaZabZcacZZdZcaZZdZbccbZbd\n",
            "Epoch: 10/80... Step: 450... Loss: 3.3956... Val Loss: 3.3593\n",
            "The bbZdZZcadZbbcaacZcbccdbabacZdcZcdabaZaabZddbbdabdccccbabdaZcZcdcZdcdbdZcabababbaZcccaZZdddbadbcacbddbZdbbaZbZcaabaZdadZcbddbbbdZdccbaZZddZadZdbacZZbcZZcZcbddbadcadaZdddcacdZbbZabZbbadZbbbdbcdZbcbbaZdaccZcbdcacbZcZaaaZcbbZdZaadZZaacdadcdbcdZdZcaZaZcbcaZdbbcdddZacacZaZZcZabcZabZZaaaZccZadadbbdcZadbdZddcddbdZddbabZZcdddaccbZbcabacdabbZdcdZaZZcdaZZZZcadababcZbaaacaZZbZcbdZcddZddcdbcddbZcZdaaZaZZaZbZadcddZcbdaZcZdcZaccddZbbdaZcZbbbZdZZdcaabZdcZdZacaZbdadbbdbaaZbdcdaaadbdaZZdZdbZZbccadZbcZbadaabadbddaddcZZZbbbdZdcaadccadbbZZacbdZbadcdcZdZdcdbbbbZccacZaaacadcZZZcbbadabacdcbZaddZaaabZbabcbcdZcZabcbaZbcZZbZbZadcbZbdcbcacZcdZZaacabZaadaZddcbcabbbbcbZbdZbZdddZcdbbacddddZddbdcdZZbZZZZZaaZZdbdZacZabbdZbdbdabaccbaZZcbbbcZbZbcadaccbcZbZZaacaccdcdcZdcbcbbbZacZdbdcbabZcdbcaZZcbbabddccbaZcbcadadbcaZcdZZcbbdaaZZadbcbbZdbaddadZdabdddadccddZZcdabcdaZaZZdZcZcccbadZacZccdZcdccdacacbaccaccZcbddaZadaaZcZadaZbadacaZZbbacdabdadZdZZZZZZddZZcbaZbabZdZaccdZddacbbaccbdaacZcZZdZcZZccbcacacdbZcZbcabaddcbdcbacaccZcccaZa\n",
            "Epoch: 12/80... Step: 500... Loss: 3.3626... Val Loss: 3.3521\n",
            "The dcaaadbZbdaZcacZZbaabbabdZcbbbccaZdZaZdbcaZZacZacdbaccbbcZZdddcaaZcaaadbddaZcddcacaacddcaabZabbcddcZadaacbcbabadadbddbbcaZdZcbccccadZdddcdcadddZbbcZdbaaadacaZcdbdcdabZdbbbZcccbZZcbdcZbbbddZdbdabZddbccZZaZdbccabbdbdbbbdddZdbbaZcdcZcZbZbccdcacbddZcZZdcbbbcdaacababcZZddcbdZZdZdbddcddZbbcZadZdZdcaacZbaccbdZZdZbadZacddcdbdddbcdbaaZbbacdadaaaddabZbadcbbZdddccbZadabZcdabdaacdZbbdZbabcZdddadbZcddadcbZbdbddZdbcdccZbZabZZcbbaZdcZbbbbbadZcbZcbddZZdaZabadbabcZbcbacabddcddcZadZZZZccdZdbddaadcbZddcdbcbbdabbbccdcacZaacccZbdcZcdbbbcdZcbabZabacZaZbZadcZddaZcbaabdcdccabdcZZcbbdacaacabddbZacZcaacddcbdaZdabZcdbccdaZZddcbdcaaZaccddbabdcdcZaaZbdbadbbcbbcZdbcdcaZZZcbbdaZZcbbcdaaccZdaZaZdbbbdZdbaaacdZZcZaaddcbZbaZbZcdcaaZZZZbZZcaacadbZaZccabcZcddddZaZZdaZZcbcZZZbdcddbZZdaabacababdZcbZcdccadcaZaZZacdZbdabdccbZZbbbbaccbZccZZcdcabbbbcZbaZaccZcaadZbbdcdaadbcaddddbdcccZcZabaZaccbZZZbdZbadbaddbcaZcbZZcccdZbaaacZZcbbdbbZadbaaaddbdbcdbccaZbcdcZbacZbcZcZcZaccdcbddbcZZcdbZcbbbbbdaaZcZabcaZdadZacZbbaaddbZddbZZZbadZdcbddc\n",
            "Epoch: 13/80... Step: 550... Loss: 3.3340... Val Loss: 3.3473\n",
            "The acaZaabZbadcdaZcacaadZaZcZZbacZZZcZbbZZZddcbbbdZaccaZddbZdbaadaaZadbaaZbdcdZZdbbZccadcbcacdddcbabZcaabdcadbdcdddZbabdcZbadadZZbccccaaZdaZdacbddZZdddbcdaaZcaZccdbcdbcZabZdcbcZbbddcZaaadccZaddbabZcbcbddaddbaccadaZddcaccaZcbccbcbdaacZcdccbZaZZaccaacbacbaZdadZcdZdZdbdabaZbbbaccddddbZcdacdacbdZZdZaZbddZbddcacZZZddZbddbZaZddcbbZacbaZbabZbbcdZdadZddbaZaddZcdZcdccaabaZZaZccaabbdacZZZabadaccddaZccZcaZZddcbdbZbZbcaabbdZcadbcdZcZZbdaZcaZZaZcZZcdZaadaabZZbZdcbbdcZdabZcdcZaZabbadddbZZaZcaZZdddcadcdacacaccaabbZaadddbZabacdbbdaZZdZaZaZbabZddZcbddZaadbZdddcZZbbdddaZaaZcbZacddaZZZZccacZdadaZZdZabdcdbZbcaacbZaZdccabddccdZbaaZdbaaaZbcccZbZabZcdddZZbZaaZaZZZccZdZZbacaadbbacddccdacacbbZaccdZbcbddabcZcbbcbdcdccZdZbZcadZZcdcbcbcZcdZZdZZcaaddddcaZaZcZZaacdacaZcaabbccZabbbccZdZbcaccabcabcaZbacabddZbbcbacacbZcccZcbaZdbbbZaaabbaccadcbcbbbabcbZdZZZbdaadabaZbdabbbZdcZbadcaacbbZdcbZacZZcdbdbadZadaaaabdZdccbZddadbadZbdZddbcdZZacabbZaccccbZdccZbacZaZbbcdcddbbbbbadZbcZdcZcbdcccdcaZdZZacbZaddccZbZbcdZbbZcdZZcccaaddbadcZ\n",
            "Epoch: 14/80... Step: 600... Loss: 3.3926... Val Loss: 3.3390\n",
            "The bZZcccbdbabcaZbabbcdbddbZbaaZbdcZZddcZccaZdcZabccbddZZcaabbbbabcddcaZZacZdZbbaZbZddZcaacadacaaZbbacddcbabdbaZadaaaZbbbcabadaddbdZacdcacddZabadbZbadZbbdcbcbaabZbabZZbcdaaaacbdZcbdadadddaddbcbbdZZcaccccZZZbaZZccZZddZaZcbZdaZbddaZabcZaaZbdaaddddbacadadbbcdaacbaZbdccdabbZZbbadbbbdcbdcZaabbaZacdZaccacZZccdacadbcaddcZdacdcadZdcbZbbZaabcdcaabcbacaaZaZZbccZbbbbdcdaZbccbZdbacbZbZbZbddccZcabbccbdbcZZbaabdbZbbdabdccadZddbbcccbcbadcZdcaacdbZabZcabacddZZZdbaddbdbcbaaddbabZdZZcdbaddadZbcabddadabaZZbZbZabdbaccdZdZbcZbaadaddZdddaddaZaabcaZbadZcddadcbcZaddbcdaaZddcbcdbcbbcZaZaadcaZdaZbdcdZdZbccabdbbaadZZadbbZZZcZZaZZabcdacZZcdbbaacZZddabZZbbZccadadcZaddacabbcbcccdcdZcbbacadZZdbabZddacacZcbdccdZabbZccddZcaaZcaddcadaZabcadaZcabbdabadbZccbZZabbdbZadcbcdadbdbZcdddccZaacbadbbddZZZZZbcZZdbZdbaddcZcbcdbcaZddbbcdcdZaZbdcddZZaadcbccacbaZcdcdabaZaacZcbddbcaZdddcbdcdZZaccdZddZbbbZabdcdadabadZaZdZcacdbZbbbccdccdbabcZbZabcdabcZdbccacaddZcaZZaZcZdbcccaaddbZcaZZaZbZdaZdddZaaadZaZdbZaccbaabcbZbZcacdZdcZcddZcZacZbbZZbZd\n",
            "Epoch: 15/80... Step: 650... Loss: 3.3206... Val Loss: 3.3325\n",
            "The acdZbbdZdaaacaZZccaabZcbaZZZaaadaZbaacbdbddZbcbZcbaZddbcZcZaabbcaadbcbbdadZbbZdZcaadZZcccdabbbaaaZcddccddZdabaadbcZbZbddZbdabdcbbZcaababbbcbdZZbcZZdbdZdbdbZbbcdaadddZcaZbZaacbdZccZZbbcadZbbddZZaZadaabbaaZcZcacZdbZZbZaddcZbdacdcaababZbbdZbcabdabZbZccccccdcddZddbabcbZbbZacbdaaadcdbZdbcdccbbcZadZdbbcbdZbbZccZbdbdcZbacbcbZdadddaZaZZabaacaccabcdcbcbdbbacZcdZaZZcaccZabdacccZZZbdcZcZdddddadZbdbcdbZbadddZdbdddaZcZaZZccbacacdZdcZacdcddZddcdZcZbcZbbbZcbccabadddZcacZcZabdcadaddaaZdcbZacaacdcZbdaaaaZacZdbZddcdbbabcZcaaddabadbaaabZZZabababaccbaZaacdcccccZdccdddZZZbccdZdccadabadabdbcbccZdcZaZcbZZdcZbaZadaaZbbcZaacacdddZbcdcZccbZcbZabcZcdbaaZdbZacZdbcaadddbZcdbZabbccdZcdadaaddZcbdbaZZbZabcadabZbaaacddadcdZcZabccccbbdcZdZaabbbadbbccZcbccdZZdaabccbZbbcdbbbbcZaZabcbccdbZcZdbbbbabccZcbZaZbcccdcZZZZbdddcaacbdadcadbZZbdadcZbZadZZZZbZaaZbdcbdZbaZdcZZZbbbcbdcadbdZcZbdZZacbbZcdbaaZacdbbZcbbaZbbbbccaZccadbZdZadZcdbdabbaaZabdbdZZcdbaZcabbdabbacZdZcZbccbZababaZZcdaacccbbdZbdcadZbZZaaddZbZdZcccabcbbZbdacdZaabdZdca\n",
            "Epoch: 16/80... Step: 700... Loss: 3.3294... Val Loss: 3.3286\n",
            "The adcdcddZZaddZbaaccaZddaZZbbaZZbaacbZadaZdZcZdabZdZcdcaZaaZddaZacbaacZaccdaZZdcdaaZcaZddZZbabaacbddZcaadbZaZabbZdZZabdacZdcddcbddcddaZdcccZcabcbabdZbbZbcbcdbbaZdcbaaccbZabadbcZcaacbdbdZaaZaZZdabbZdbZacabbbaZbcZdcdbddcbaZcacZZbccZbccadcZdZacZdZabbaabcdaaaZcccccccbdcbcadbabcaZaaZdddbcccZZaZdadadZadcaacbZZdadZZcZZaaZbbZZZbbdbZcacdccZaacbbcbcdcaccZccbaadbZdcdaacZddZbcadbdddZZdacccdbddabadZdaZaacbZdaadaabaZcabdaadabdccZddZbZbZcdcZdddZdbdabcabcbabacZcbbZcZdccbddaaccabdcdZbcadadaacdcdbdbacdZbdZZbacZbaZacdabZbZbaaZbcdbbbcdZdcccbcaadcbdccdddbZcbbacbcZaaZZdZZddaZacZcaZZdZbZcZZcZdaZZbabZdabacbdaddcZbacZccaccbZcaaddccZZabacZacadbdcaaadabZaZdcbbabadZddbdddcZcZdaabcacZabZadZbdZaZaZZcbaZdcacabcZaZdadaZZaZZaaccddaZdbadZdcZbbcdZZZabddacdcZaccacdZZdbcadbZaZacbbcZbadZbdZacadcZbabdaZacdaccbdcddddabaacbcaaZZcbZaccZddbaZcZZabacbcZbZbZadZaacabbacaZdcbdcbabadZadddbcbZadbadcbdcbaacccaccZZcaddZbZZdabZZdaZabcbcbaacZadcbbcdbbbdcZdabcZdZddadcaZdZccacddcZdddZbcbddaZddabdbdZdaaacbcdbcbbabZbabZdacacZZcddbcdaabbZbabcdZb\n",
            "Epoch: 17/80... Step: 750... Loss: 3.3563... Val Loss: 3.3273\n",
            "The ccbdcaaacbZaaaddbZZbbcZcacbZccdbaacaabaabaZbbdZbabccZZZbbbaZdcaabcdZZdcbadadZbadadaabdddabZZbdbccdcaadcaZcZadbdbZabbbbbdcbaaabcbdbccZbbdZdddZbcadcccbbbacabadcdbccaabaaZababcZZbacccbddacdbZdbcdbZdZccadaZbdcdbdZZdZcddbaZZcdaZcZcZdcZddZZaaZaZbZcdZZbcbaddcddZabcaaZcaZZaddZdcbdZdbadbcZcdcddcZZabdabbdZccbZZaaZdbbZaZdbbabaaZcdaddcZbbbbcdabaaZZZZZcZbcbdabddZcaaacddcdcccaZbcddcacdbcZZdcdabdbaZZZdZdbcbZZdbabbaddZdZbbbZccacaZcZbadcddbdZZdZZdcaZbZacdddcaZdZccbdabdadaabcdcbdaaccbcdcdbcbcbbbaaaacZabdZZdaZaZcbadZaaZZdcddbcaZaZdZcabbcbZdcaccbacccabcdbcZZcZZZdabbcacZbcaZcZcZaZdZcbabcZZZdZdbadaZdabdbcZdcZZbbcccdZcbZddZdcabZcbdbbccddaadacZbcaacabcadccbZaddcaccaZcZddcdcbdaZccdbaacacdbcacbbcbdZaabcdcbbcbdZcZdabZZZacZZdabacZbZddcaabaZZbZcdbdbbdcZZadbaZbbccdbcadcccbcadcabZbZacbcbZcZZdddZbcaddaZaaZabdZcccZadcdaZddbZabaccZZddaaacdZbZZaabaadcddabbZddddaacaccaadZZZbZdZaZZZdaaccZcdZZabddcbZbbaZdccccddcZZdZddbddcbZaaaZadZaaabcabccZacacbcadZddabbcdZcaacbcbaccaadcabcdbbbZcZaZaZbaZcccdaacadZcaadcdadbadaccdaacbaddabbbd\n",
            "Epoch: 18/80... Step: 800... Loss: 3.3211... Val Loss: 3.3199\n",
            "The ZabbbdaacbcbdbZcbcZZbZZdZddZbaaZZabdbZaadZbcaccdaddabaaZZbcddbcccadabaddabccbabZZZabcbaababdbaadZcacbcbbacbbabddabdcdadZaZbZZbaddZacZbZZbdabcbZadcZZbaZZdZabZcbZaZcZbdZbbdacacdZZZaabdZcZdacdaZcbcZZdacbbddcaddbZbcdcdaacZbcdccbcccaddbaZcZcccacbbbZaZdaZababcccbdadbbcaddZaZbcddddabdZdZdaccaZbdaccbdaZdbcZcbbZdZdaZZdbZdZZZZdacbdcbdccbccdbbZaddaZabZcdZcadccbadaaZdcZZaZaaddZZbaccZbZZcadcZcbdacccaZddbZbbdZdcbdZaZZZbbbcacdbdbcbcacdbbbddbbcbbbbbbZbcZdaZbdbcdcacbbcccZdcdZcbZdZabdaadZbccZdZcaacdZbacbccbbaZbdbbZadaZacbbbbZcbdcccdabcbZaZdddbbddabdacbbbZZZbdcdacaccdbaaccbbZaadaaZdcaaZdZadbddbacdabddbadaZbZcZdZcaaZcZdbZbabaaZaccdadacbaacadbdbacZaaZZZZcaZcdcZcdbbdcddcbcZZcdcbdbdabaacdcddZdZbZdZbddbdcdZZZZbacaaZabdccdcZbbadcccbccbaZcZbcZabbcaZdadZdabZadbbbcabZcddcadZdddbbcdZbcZcdadbcdbabZdZbbcadabcbZcadcZbZdbbZZZadacaacbcabZZdcabdbccaccZbadddabdccbcZaddaadaccbdabdddcZZcbddcZdZbcdZacbZZcbbZZZZcaaZbZddcccbdaZZcababZdbcbZbbZZdaccadbZZZZddddcdZcaZcbaZbabddadbaZaZcaZbZcZZbdZabbcZZabbdcadcacacaZcbaaabdddaaaabdZa\n",
            "Epoch: 19/80... Step: 850... Loss: 3.3357... Val Loss: 3.3175\n",
            "The bcbdadaddbcZbZbZbaZaZdZbcbdbddadbcdZZaacdcbccccadbZdcZdcacbbZZbZaaddbZadbcbbcbcZcdbcbcccaZbbdaaZcZdZZdZZZadcZccZZZdZZZcaaaZZcdaZacdcdbZZbcaccaaZacaacZcabcadabaadZcabbdZaZdZbdZccZcdZZZacaabccaaZZbabccaddZcbdaZcdZdZdcbddaacabbcbabdddadZcZZadbdZdbZdacbcdababcabcbcccZZZbacdcaacZdcZZadZaZbZZZZdbbdcabcbaacdZbaaaZcacacbcbcZbbbZZdabddZadadZbdcbbdacdbdbZadacaZddbcbZdabZdcbcbdabdbaaacddZZdZdacbadbbbcadcZZcacdZcbbaabZcdZaaabZZaaddbcZaZbddZddddacZbdaZbdcbZZZadcdaacbcZcaaZaaaccdcccbbaaacacdZbdaddcdZaZZcbbZdZbbbbZbZcdddaZZccadZddbZaadadadaZbbacddcbcddaacbdbdZZddbabZcdcdacabdcZacZZddbadaZbcZaZZcZddZbddZcaddcdcdZabdZaabdcZaZcdaccZcabZccaacbabacdddaaZZbZcdZbaZdaZcZcZZZZaabZZddccbaZddZZddZdcaadcZbbZccZabcabaccZbZcZcdaaZcdZcacaZaZbZZabddbcacdaZdddbcaZdbZdZadbcZadZaaabbbacaaZZaZdaZZbddcZZaaZaadbZdZbbZaZdbbcddbbZacbbabababdbcbcbcZadddbZZcacaZZdbaZZdZbddcdaZdcbaabZbbdZacZabZbbZbZaZadbbbaaccdZbccdZcZZbaZZZdZcdaZababadaZZZbabcbbdZddcZcaababdbbcbadZbacccdcdbZdbdccZabdbbZccbabbaabZbZabcdaZcacZaccccdZdddaadbcadac\n",
            "Epoch: 20/80... Step: 900... Loss: 3.3444... Val Loss: 3.3134\n",
            "The ZabaZcaaZZbccadZabcbddcadcacZbdZbcacbcZaccddabdcabccbbaddbbbababZZcaZacccbaZZccdbbdZZbaccZZZbdZdbcabZaacccdadZabcaZZZZdacbZZbacdccdaZbbadZdacbZddZdaddbccbacaadabZadbadaZZdddbaddbbcabdZcabddcbdcdbbcddaZdabdcbcZbbbdaZddcddaddbdbdaaaZZbacbaZbdbcdZacaaZbdcbcZabbcadabZZdaadZbabcdZcddcacaZdcabbZbbbdbcadZbaddcccZadbddccadbbbcdaaddddacadbdZZbbdcaccZdbbdZacbZbcZcZZZdaaaZacdbaadZaZdabbaabZaZaZbZZdcZabcdbaZddbZcabbdcZdbbdcdbcbcddZdZaZcbbbbaZaaZccZaaZccbdZdaccccadccZcZcbZbbZZZccdZcZcbdadZaZdbdbcabbdddbdaddZZZZcccaZccbddZdddZZdaaaadbdadbddcccbbcZdZacdaacaZcdZZdddadZZacacbbbcbbcbZdZcddaabZbcdZaaadaZcaZZabdZdbacaaZcbadaabaZbcZdcZabcdcaaabZZababcbaadZcZbaadbbacdbZaZdacZdacdZZaaccbabbdZddZbbcbabcZaZaZaccaZcbZaZZbbbbcZbdcbcdccbbabZdbZdacccaZabbaabaadababdbadbdaZabcdZdcabcZZcZcbadZZcdbddZZbdcdaacZbcbddcddbbZbddbZaabbccZddaadcccbcbdcZcddcZZacabbdcZZdcdbcZdbddZdZaddZcbZcdcbcbaZZbcdadcccddZdZcbcZZaZZZbacdacadcdZacaZacaaZddaaabadbbbddZdaccbbZdcZcadddbbcaaZcZbadZdabbbZaadZZbbdaZabdacaaabaZbcbaaZZdabbcacZabdZaa\n",
            "Epoch: 22/80... Step: 950... Loss: 3.3160... Val Loss: 3.3087\n",
            "The cabbbcadbZcdZdZdbdadacacZbdbcZcdZaZbZabcdZbZZbdcZadbdddbZdbccaabddbZdccZbcabdbaddacdaccbZcZbadaaaaabbbabZcdbacaccccbdbaccaadZbdbdbZcZcZZdcadbcdbbcZaabdddcdcababaaadZcaZbZabZdacZbdZcZZaaaZcbabcdcddaZbZadZdabbdcaccZaaadddaZbbdcbZddZdaZcZbacdacbcabZdbaccdbZbadaadaabaZdcdcdZbcbZZaaadZcddcZcbccaaZcZcdbbcbZbcbZbbacccbZbddacadbcaZaccacaZZaZbaadaaZaccdadbcbZdabdZZcbZcbcbaccccdabbcZddZcZaddccZabbbbacdccadZdbaZZaaZccdbZZdaZdaaabdcdaZbcbZbbcaZcdZbadadbZaZZZZacdcbbZZdZbdcddZcabdaZadZabZZaaZcbZdabcdbbacbZcZcbbccadZbcccdaaabcdcddcZcZdZbdddccdbcbdbbdaacddbcbabdZabdcZdbcaaaacbdccZaZdZbbaadcdccZZZdaaadZbadbbZabaddaabbacaZbbdcabadZcadadZcadcddcbaZZZcZbddacadaaZadbcbdbcbcdbcZbZdaZZddadZZaadabbdcccdbdddababaccdZdaacbdcbZbcZcacZZaZbabcdZacaZbZZZbcdZdaccZadZZddcZbabccbZZbaZcbZdZZbaadbabbbdZcdZacccbaZccddZcZZdbdbabadadZaacbbZbaZbbdcccdabbcacbZbZbdZddcacaZaadbbdZbdabacZaababZcbdbcaaZdacabbccbZddddcZdbbacZZdZbaccZdabdbZZddcadaZdZaZbdcZZZZcdbcccZZdcbbdaaabZcZaZddaZbaZZcbZcdbbdZZcaZbbZbaadbddbaZdcbdZabacZcacaddaa\n",
            "Epoch: 23/80... Step: 1000... Loss: 3.2906... Val Loss: 3.3048\n",
            "The bbZcdaddccbcaZbcbbbdddZcaccbcZcbdZdcaabdbcdcdcbdZZZbZbZZaZcccbbcbZcbdabZbZcZabdcZdbbbZcdcaccabZabZZZcbdZdcZacdbZbaZbZbaaaacbacadZZaadZdZabZdZbaaaZZcZZZbccZdbadZacbZcZadZcZZccacdaaddbbcdabdcdabcbdZbabZcadbbdaZcabacbabaccZddZcbdbabbZddcZZdZbabddaccZbZZZdbdaaaaZcdbdZZZcZacacbZbZZacbdaddbbZcddabZcadbbdbZcZdbZdccaccZaZabZaZadbZdaabbcddZZcbZcZaZcadabddcdZaZdcaacdZbaZbbZZdaZbbadddZdaabacZcbccdabadbdZaZadcZadadcZcdadcZZcdZbZbZccacddbaaaaaadabbZddcZcdZZbdadddcccZbcdZaZZcbbddadaZcZadadbZcbbbaaZcacabdaZZaadZbacbbZcbcdbacbdZbdZabadbcbaZadbZbddZccaccacZZbdbZZbaZcbZdZccacdbbbcaacddacbaaadabZadddbaZZbZZbbcacabbadbZabcZbZbbbbcbdbaZZbadbbZbddadcaZcaZZcbdcacdacbccaadcabbdddacbcdbaabbbddbdbZZcdZaZcbdcabZZcZZcZabaZZZbaaZZcadddbdcbZdcbadbbadaZbbcaaZZddcbbbdbZZbbabZbZaccZZdZcdcZZbZbbZbcdZcZcZZadcaZcZZbZZacabbdcdddaaZcaadcdaadaaZcddbbZZZdbcabbccadbZdcddZbcbbaddadaZccadZZZadbbcadaadbcdaaadddcbbdaZZcbbaacZcdcZZcdddaddacdaddZdZcbdaZdacbbdaaZaZaaccdZaZZddcbcaaaccbbaadbZacbacZaZZadbccZcaabbZcbZabcbbddcZZZbZbddddZb\n",
            "Epoch: 24/80... Step: 1050... Loss: 3.3477... Val Loss: 3.2985\n",
            "The caZdaabcacZZcZcccacbcdZZZcbdadbZbcbdbZbabcdcZbZdbacbcdbcZdcZcZbZccZbdcccaZZZcabZbdZcZcZdZdddcadZZbabcaZcacbdabacdbbbbZZdccZZcZacddadaabbaabadcdcbacZbZZaccadcaZZdaaZddbcbcbcZZadbdZbcZZaccZZbaccbcZaaabcddcddbacaZacZaZddcddabbZccccbabddabcdcbaZdcdbZbbcZbbbabZabZZaadZZZdadZcaccddadZbacZbdadccbZdddZZcZZaaZcdddaaccbZbaadaaaZcbdacaddZbdZbacZdbaccbcabdacZZbcbbcZcdcdZdcbcZdaZaZcbcababZbdabbbZdcaZcbbZdadabacabZdZaadcacbaZbadbbaaZddbbccaZZccccZZZcdccaZbbaddZcdaaZcddbbZaZZcbcdZZZdZZZZbbZZbabbbbbZZdcbZdddZadddZbbbacbdZcaZcacabZZZabcbbdZdcadZZZZbZZZZZZbZbcabZcddZabbcabZcZZbbacbadabZbacZZZcccZbcZddacaaabcbabaabcadccdbabddbdZdbZaaddbdbdcbbZdcdbbZadcaacadbcZdbdZdcZbbcZbccdbbaaaadcaZZbacZbdadabbcZZaadaaZdZacdadZbaZbbcdacZZbdcZbcccZcdaZbbdcddaabcZbZbbaZddbZacdcbddacbacZadZbdZdcadccZbbcabcabZcacZdaccddcZabdZacZdccZdacbbZaaZabZbbabZddZbdbcddddcZbddbabZdcZadccbcddZbccZccbdbZZZZcddbZccZacbcdbZbbcddbZbbcZZcZZZaZabccZbZbbZbbababbddbbcbcdZabadbbZaZbZaaddbdaaZZcabbbbdcbdZbbcZbbcacdddbdcbddcddbcdbcaaabcZacbbbbdZdZ\n",
            "Epoch: 25/80... Step: 1100... Loss: 3.2791... Val Loss: 3.2924\n",
            "The aZdcbZZdaZbdZdabbccaadbcadadZcadbccddZdbaZacacZZacdccZdZZdaZaZdaZZccZbZaZdbZcZbbZdcbaZacZbcdZcabddaZcddZccZadbdaZZaaabdcZacbdbbcbbccaadbaacZZabaaZadcbcdZabZcZbddcZaZbbcaccacZddbadZcadccZadadZbZZdbdcdcbZadZdbZbacddbcZZadaZacZdbbbabaaZdaabbaZdZbcdadZZdZbdadbcddbcdaZZcabadbacbaZZdcbcaZbdcdZZddZZabaabbZcZZZbddbdbaZacdbabccddbaZZccZbccdZdbaacZacdbaabbccabZcdabbacdddcabdbcbdcaaddbZZccccZdcdZcaZccZdaZbdbccdbbbabcaaaaadbbccZabZaZadadcaabaaZZcdddbZdbbZdacdbbdcbabbZddZdZcbcaZdZacadcacbZdacbcadddaZbaaabZaZadddcbdaZZadbZcdZcdZcdacbdabbbZadbdbbaddbcbabcadccddbdcZaZdZcdZdZZaadabZddccabZdccZZcaccZaddaZddZabbbacZbbabZdbbcaccdZcZcadbbcZdZbcZaZcZbdcdbbdbaZcdbbcdZdZbbcdabZbadZZZaZZdZaadbaZccaZaZdZcacabaacacZbddZaZddacaZZZbZdabddbbbZaZdZdcdbbbZbZcadabadadbabbdcZdZcaZcbcccbZccdaaZZbcbdcccZcZZaZaZZbdadabdcbaZbZbZdccacbbbZZbacbdddcZccdZdadddbZabcZbbZbZcdbbdZbbcabcbbadbcZbabcbbbacdZbZaZZaZcaaacbZcZacbadaabZbabdcccbcZabaccZZZZbZdZcaccdaaacZcdacddcaaZacbZddbbacZbdbddaaccbdZddacabaaddbbdcaZacZcaddbbdbZddZZabZcbZd\n",
            "Epoch: 26/80... Step: 1150... Loss: 3.2906... Val Loss: 3.2856\n",
            "The adcZdbacccdZccZacbadabacccZdbadZccZdZbddcabbdabaccabddcacdaccZbcdbbcacddcddZcZZabbabddbcdbccaZcZaZbcbZcaZacbdZZZZdaZbdabcZaaacabbdZccZZabdcZZdabaaZabZZdcbabbZabdacbabcdcaddbaccabbacdccdbbacdaadbccccbbbZdcbZcZcddbaccdZbacbcZddabbdcddccdaabbdZabcbaZcdadcbdZcZcZdcacZbadabbaZZbbdabcZdaZZdadZZbbZcZdabbbadaacacZdccbdZcZacdabcbaacdbcZZZcZccabdadbccdZaadcddbbaacbbaacdddbdbZaZZadcbccddaZabcZdZbcabcdccabdZZbddZbZaacbdbdZdcabaadccbZZddaZcaZaddZadbZcZdZcbcbbZdbdZbZZcaZdbabdbZcZZbcdaZadacdZdbddaddZZabbbcdccbdaabZZbcZbcbbZcdbbZbaadadbbZcacZcaabbadZabacZcddaaZddccZbZbZdaZaddZaaZcdcaccbbZdacbdbadbdbdbdabcdbbbcZbdZdacaZZdbZbZZdcZcbbcbZbdZbacddbddcZbbcadabZZbdccaZZdZbbaccaaZdabbdbababcZcbbbcacbabdbcbcZZadcaZbZZabbZZbccdZZdcZZdcbdZaZZbbbcdcZaZbbZdbacZbZacccaadcZcabbbaddaZbbcZdaabZdabZdZbddbccaacZcbdZbdZacZbZacbZZdbbdbdcdadZZbaZacbbacdccZcbabccaacZcdbdcadZbZZdcaadZbddccadccZZcZcadZcbZaZbabdabaabZbZcbZabaZddccZbdacZZZccbbcdbdaZcZbbadbZabdcdcbacaacZddddcZdaZZcddddaddaadcbdddcbabaaZdZdbZaabcccacaabcdbZaaaadba\n",
            "Epoch: 27/80... Step: 1200... Loss: 3.3121... Val Loss: 3.2825\n",
            "The aaaadcZcabccaacacdddZcdZacZZbccacZZaZcaZZdZdZdcaZbaZcZaaZcZddbbaaZadbcZZdbZcbbabZZadcZdZdbdcdbZZcacaZdbZaaacZacaZZZcbcbZcdZaaZaaZdZadaabZddbbacZcdcabbbZdcZZbcdcZcdbdcaabddaZccacZcaccacbaadbaZdZddcdbdZZbddZbabcbbZbZbbcbcdZbcacbbabbddbdZcZddacabdacdaaaZddacaZZacZaaabdbZbdddbcaZcdbddZZaZaabaadZbabdcbbdbbbccbZabZcabZZabccbbbcdbZZcdaZbdbdccccacZbcadcZabbbcbbcZbcdccddcZZadadccdaaZZbZbcdaaZacdbccZcbdbZdaacbcabZacZaddddaadZcZbaaZbcdbZaddbcaZbabbcdaZaddcddbcbccdbccbaabaZcddcdacZacaaabZZccbcbcbcaccdbdZbdcadZccbdZccaabdbZcdZabcdabcaacZcbZddbZcZdcdbabZbZaddbddZdcbZZdcdbZabZcadZddccbZdcdZcdcdcbdcbZaZZaacdcdZZZZccbadZZaZcdddbZZZZcbbbcabZbddccbbbdbcdadbdbcaZcZaccZcZaadccZbbcZacddaZcZaaabbcdacaadZbbdabcZZdacacdbcacZaaZcadaZZZZaaZZdcZZdaZadbaZccaaaZbddbZcdcZZcdZZbddbabbZbZccacaabZbcdZZZaZZZcbbccabaaacccdZadZbdcdbcaaZabZcabZZddddbccdaZdbdacZaccbcbcacddcdcbbcdZZaabdcdZZcbacdZbZbccdZbbaabacadZcZbccaZbddaZaZbabaZabbdZZdaZaaadcccdbZbaaZZaZcdcabaabdacbdbZcabaacacbbZcbdZaaabaacZdcbbdaccaaZaZddddcacabZcbbZaaZcd\n",
            "Epoch: 28/80... Step: 1250... Loss: 3.2703... Val Loss: 3.2783\n",
            "The bdbZcaZcaadadZZZbcddZdZbcccaaZZZZacbbdZZddZbZcacbZdcbcbadaddacbaaaabaZccacaZcbaddZaZbdcZdddbcabbadbdZaaaZZaacbccaaZZbcbdaZdZZdaaZabcaddaacbcdddbdbdZZZbbbdacbZZcdaabbcdbdZddbaddbcacbZcadZabZdcacZbbcaaaabcbdZdccbcacbZbZZadddcdbdddacdddbddddbbcdbdcbcbabbaaaaZZZZZbdZcZadcZZacbadadadZdaccabcZbdacZcdaacdcbdbZcZZdZdbbcdccbcaZaZdacZbZZbZdZdadababadccbcddddaacabacabdccZccbZabcbdbaZcbdddabbacadZcZbbZbdbbZcabaZbbbZZdbcdcaadZaZdcadbcdaZaaddabcccdddcZcaZcadadcdZacaadcddacadaZccaabbcbcdcbabacbdaadbcbaZdcbcbddbbZcaZZZcaddacbcccacdcdcccaccZbaabacZZZZdbZaacdacZZaaacbaccacddbZZacZcccaadadbadbZbdabbcaZbZZcZZabbaZbccbcabdcabadZZacddcZcZbZaabcccbbcbcadaacZdZbbdbbdccaacbdZddccZcZdcbdcbddbZbccbaaccaZabcddddcbcaabaZcababcaadbdbdaZcaacZZdZZaaZZbacbbZZZbcbcadZbddcZaaacZddZZZbZbbdbdcdccaaaabddaddbaabZZaaZdcaddaZbaZaZbdbZdZaZbZcZZbdcdddadabZZabbbbacZddZcZcdaZadaacZbdZcaacabcZacdaZZdZbcccZbZcacdcZcbdZabaddbcbccbZbdddbZaaZcddcdbbdZaZZZaZdbccacaabbdZcdcdZbdZZbbdcbaZcZdbZZbZddcaacbdbZbadbZdZabbabZaadcabbZZZbcdabbZabdZ\n",
            "Epoch: 29/80... Step: 1300... Loss: 3.2843... Val Loss: 3.2725\n",
            "The dcdaZZbZbdcaZcdcddZcabbZZZbbaddcbaabbabcaccdbZZZbbcbadbcbcdbaZacadbcabbabdZaaZacbdcZbabbddbacaZcbabdaZdbZcacbbaaaZdZbadZcabbcabaaZZZcZcbacccbadZZddaZbaabbdZbbaacbaZbaccbbcdZZbZaabcacdbbdZabZZbZZabdbaadbZcaZdbdcZcbdcbbdadZaZcadbZbbZbZZbcZcadacbbbadZabcbccdZZaZaccZcbZbcacacZddZaZcZbZccbbdZbabdcbZcaZZcddabdddbcaZddaZcbdZdbaddbZbdadbZZZcccddabccdddZaadbZZbbccdbccbZaadZZdadZaabcbaadddcadacacbaccddddabcaddcbcbZdZbaZZbcccbcdZaZacccdcccdaaaaZdZZaZaaZcZdZacZaaccccZcacaZccbbZacZbdddcbddaadZZcdbZddcdcaZZabZbacZcabcaabbddbaaZbdaddcaddbZbdbbbZccdcacZacaZddZZbcbdZdbacacbccddZbZbaZbbZcaZcbabaccccZcbcbbdadZdZdbaccacdZcadZdaacZddbddbbZcadZacdcbacdaZdbaZbcbdbdbdbdacbaadadbdZcabZZbaZbaZdddaZddbadZcdcZcbaccbaaZccZbccZdcdaababaacadZcZdbacZccdZZZcaZcddddZdcadbZdacZabdbZcZZaacacdbcdccbbbacccabcbcbZZcZZcbcbZbbZdaZdZbabbbbdbdZaZdcadZaaaZZbbaZdcbddbZZZddaaccbcaacaaabZdaZadZcddbcbZcbdccdcaaZbdabZabaaZaZZacdcZaZcdcbbdaaZdddadacbbZcbcabbaZaZbcabbcdadccbabdcaadZbabZaZacZacbdZadaabaaZZcabdacbacddbcZdZcbccddZbdZbbZccb\n",
            "Epoch: 30/80... Step: 1350... Loss: 3.2951... Val Loss: 3.2650\n",
            "The dbaZZZdccaccbcdbcadZdddZZbbbbZdcaZbZcZZbddadcdcdbbaaaaabbbdZccZcdababdZabdZbZabZddZZcbabdbcbdcdZZccZabcadZacdZbbcZaZabaddcdabZZbbbadbccabcbadaZZcadZacZZZdbZbbdcdabadadccddaadbddbacdabaacaadbaZdcacbZZcccdcZaZdZZabZZZabdadZbZcbcbdZcZcddaZZabdddcaZZcbZZbacbabcdZbcddadcbbddZcbbcZZbcbdcdbcZZbbbadZZZdacaZcdacadbbcbZcddZbcabaaaZaZbbZcdcdcZadadbcZabcbbcacadbddbdcbcZZZbdZdcbcZdaaaddcbaZabZccaaacZZdabdZcdbZcbdbccdccdcZdcabaddbZdbdbZbbaababcaZcadZcZZZdbbbZabcadZacaadbdabcabdbcdadbcacadbbddcbbddcZaacbbadacdcabdaZadadbdZccbbZdacccZZaZbZcbbcbdZZdZcZZddcZbcZaccZcZddZZcbZcdZcbcbaaaddacccdccaaabaZZddaadcaadadaaZdbbaZZaZZadbcZcZcdabZcZdZbbdZbbbabbaccZdcbcZcdbbZdcccbdcaaZacZcdaZbZacbZbZZabcaaddddZcaabdddcaaZZdacaddcaccabaabZadaadabbZadZbbdbcccdZcacccbcbZbbbdcZdacacacaZbbZacbdaZacZaZZZabcZZaaZbZabZddcbadZZccZcabcdaaabcddccccaZaccZaaZbcbddadaaaabZdbddabdZdZdaZaadacZbaadbdbcZadccZadbacadbcdbbdaaZZcdcccccdbbbbbabZacbZZabbdccdddZZZbdccbdadccddbdZZZbaabbcdaZbdadddbbdcdcdbcdccbbbccddaZdcdZZdZcdccbdZcdddcZadZaZbc\n",
            "Epoch: 32/80... Step: 1400... Loss: 3.2596... Val Loss: 3.2591\n",
            "The cbaZbZdcaZdZdadcZadddadbbcddcdaabZacZZacccaZdcbcbccZZacZZZbccZdacbbdbbccZaZcbaabZcadcZcacccdadcbZdbZdacbddabZdacddabZbadZZabbZcZdacdZbccZbdZaZZdbcZdccZZabaaZcddZbdcbbabddcabZaccdcbaZaZdbbZZZcbcaabaccacbadcbdZaZbZdbZZdddZZZZabbcbabacdaaacbZbdddbcddaddZdcZabbcbdacadcZdbdaaZZcaZcbabbaZabbacabZaacdcZZcZaZZZaacZabcbccaZabdaaaZdcaZadaaaaacdbZZbabcaccbcdcbdaZbaaZdcZZddZbcaccddadZadacbadadcabdbbccadabacbbccbdbbaaddZaabZbZaacddcaZddbbbaccaccZcZdbabdcZaaZbZZaZZaZbcdZaZbadbadZbaddcZcaZcdZcZbZZaZabbddZcbdcbcabccadcbccadcacaaZZacbacZdbdddbZddcddacccaddbcdZcZadaZbZaadZaZbcZZaZdabdcZacdcZcacZabZbdcZdZdZbcabdbaZcbdZddZbbZddcdcbdZbZabaaZaZbcaaZZZabcbZdcabZZcZbbaZZdcZadcdcbbZbacZadcdaZacdZcaaZdbZbZaaddacbcdacdccbcZcbZZbcdZddZaZaZZaaccadZcdbZcaaccdbbbdacbbbZdcbZcZbaacZddbZbccZbcdaadacacdcZabcZdZabZaZdcbcadbdcabdZbcbdaZabdZaabdbZbbbbZdaZZZadcabZbdcZdbbZdcZccddbcZadZadaZbbcbccZZbaZbZdcZbabcccdZbaabZadbbZcZZdcbZZbbZcbZadcZcdbcZdacZZcadcdcZcbcbbdbdaaccZbdZZcZZccbadZcZcdbbZdddZbadZdZbZcabbbdaZbbadcadcbaZZbabdb\n",
            "Epoch: 33/80... Step: 1450... Loss: 3.2413... Val Loss: 3.2550\n",
            "The ZacdbadZZZadbbaccbadZcbZabbabbZbdadcbaZZabcZcdadaaabbcZbZabcdabcbcaacZZZaZbZdbaaccZbcZaZaZZaZZaabdcZcZccaZZddcZZdbadaabbcdZZacZdccbcadbacabaZZcbdcdbZbbZadZabacdbdddbZZcbdZbZZZdccdcZbZZbcbcZcZcaZccadadbcadbbacZaZabcbZaZabZbccaacabbbccaZZcdaadcaacbbZbbdbbccadbdcabZaddacaZaZZabZcdcdadbZdZdZdccaZdZdcdcbabcddcaaadbZbcbZZdcZdbdcZdbZdZbZZdcccdaaacZbZZcbaaacdbddbbdabddcbadbdbccccabaZaZdcdZZccacabaddZZcbdadcbaZaZaZddbcdccZZcbacZaccbbaabdbZbaZbacaZaZZabbccddZdabdcdacdacaabZacdaaacbZabacddbdaZbdZacZabZZabZdbcdcaZddbaZdbdaaccdbabbZZadddbcbdcbbaaddcddZababZdbaZadaZdZaadbdcaZZZdZZbcbcZdadcaabZZZdZddbbcccZZadbccZcadZcbZccbdabZaZcdZacbZbZdcccacccbadddbabdZZdZddZccaaZcdZdacdccddabZcdbdacbbcaaZaZadZZbdbdbbZZZaacaZZacadadaddcddabbaabZZZaccbbcZabZdZZaabZbcaaZbdZZbcdbZbbcccbbbbacccccdbbZZZZdbaddZccabdcdccddbdbdZZZZaZbbbbdbZaacccaaZbacbZacaddZbcZZcdaZbabcbdbbcbdZabcabZbabdcdcdddccacZcddcZddbbaaZaZZaaZbbZdbdZacaZcdZabbdccdZdZdZbdZbccdbabZccbddcbacZabaZcdcZaZZbcabcbbacbbacZdZbdcbcdcbdZdcbdbbbbbdZadcaaadbddddbb\n",
            "Epoch: 34/80... Step: 1500... Loss: 3.2946... Val Loss: 3.2501\n",
            "The adZcZaadbZZaabbddcaabadadddcbabbdadcdadaZbZacabZZZacZdcdcaaadbdaZZccbddbcdacaccddZdZbZcabaadZdbZbdccdadacbcZabZdcadcbdaaabbdZZbddbZbaababbccadcabdadZbccZbddcaZcbbcdbcZcbbcbZacZabZZdaccdZdZcdZabcZZcZbcadaZbZaZdbadZaaaddaadbccbccabdcbadacdcaadddZcZZcddZaaZcdabcdbZabZdaaZadddcbZdbbdddaddcaZaZbZaZcdddcbdbZcdcbaaabZabbcZdccZcadcbZaZbcZaabbcbZccaddbbbZadcbdadcZbcabZcaddaabZcbacbZZdaaaadcdZZdcaabdZacZdbZcdcdccZZddZacdaZbbacZZcbacbdaZZccadcbcdcaZaccaaZdacZdcbbbcaabbddbbacaZdZdacccdbdbbaccaZZZdabZZbdbZZddaabdaabZdaacddddbbacdaZddcaacbZcabacbcdcZdbdaZcdcaacdbdbccbacZcdcbdcadccbZadaaabdaaaabcdddadbcbbdddbZZbdddbdbaZbZaZcZbabcZbbcbZdZbZbdZbZdacdcaZbaddcdZaaZbaZbaaZdZbddddZZZcdbZbZadabdbZdZccabbabbZZbZbcacdabZZbbbddZaabbaZZbcccZZdacZZacdbbZZdZaabZZaaZcdbbdcdacbbccdaabaaccZdbcaaZdabZcddbbccdaddZadZcZabacdbbZZZdcddbbZaccabcadZbZbdbZadddZZdccZbbbcdbddaaabddaZbZbcacZdbbZZZZbcddaccZbcdZdcdcZabbcdbdaZaZababZbccabcdaadadcddbbZdacdbdZbbccbdbabdcbcZZbabZZacdbccadZdcZZdabccacZbZddZabadacaZbdccbabbcacdcZbbbaZd\n",
            "Epoch: 35/80... Step: 1550... Loss: 3.2261... Val Loss: 3.2450\n",
            "The ZcdaaadbZcbccaZaaZbdadabccddcadZacZabZcZacZcaZcbccdZdaaZccZdZdccdZbbcZcbcZddbdadbdZacbacZccZdcdacdZcZcdadcdadZccbcZdacacZZZZZcZdbdcZdabacdddadaZddZccaacacZbbcdbbcbccZZdaaZacbdccadddZcZZccZddZcbaadabaccZbcaZacdZcbZcZZddabdabcddZZZbbbccZdZZccdbdacbZbacddcddaZbZZabZbbZdacbdbcdaZdZZcdZcZaZcdcZbbcdddZdaaZdbaabdaZacbdcddcdcbabZcZaadaZccacaacacadcdadcbbbbZaZdbbbddaZccdbcZZZbbdaccabdbdddccaaaadabdbZbbcbadccccaadadZaZbZddaaaadccbaacZdcdcdbcZcaaccbZZcaacZcbdcbbdZabbZcbdabdabZbbadcZabdZaaZcdbaacaaZcbcbabaZZccbdaabacacbdcbddZabdcZZcaaZbabadcZcZcZdbbacadccdbacbcbdabZZdcccccaacbbbddcbaaaZbddZZdcaacadcZdZZbdccadaddZZbdZbZbdccddabcZZZadbZbbZZdZcbbZcbZaaZaZddZbZbcZdcbddZbdcdddbZabZdabcZcZZacdcZcaZcZZcZbZabZcZaadZccabcZcZcacdZcaZZadcadZbabaccbZcddcbadZbdZaZZbbbcdadcccdbZcZadacdbdZbcZZcaZdcZbbdZZccaZbZccbZbbbbcacZadZZdbdcdbZdbcbbaabbdZdcZdcbabbbcbbdZZadabdbcccddabZZbaddbddbbbcaccdbdacdbdddaZbacbddcccababbbabccccdbabcdaZcdddbbacdbdacbbaZacZdbddcdccdbbaaZZdacccabadZdZabdZZZZddaabddZdcadcZcddcbbcacZabdadZcbc\n",
            "Epoch: 36/80... Step: 1600... Loss: 3.2478... Val Loss: 3.2421\n",
            "The bZdbcZZdbbZaZaddcdbdacaacdbZbZdabdZbdcZZbbZbcaZddadabbaZbcdbcddbZacbaZdZaZadZdcZcZdZZbddZbacZbdZZZccddbbbZadabcddaabbddacbccZcbdaaZZbZZbZbaZbbccbcZcZdbbZdcbZdcbddabadbcccbbZccZcacdcdaZaabcZZZaZbdccbccbaZbaZccdddbabcbabdcadbaZaZcZdcaZcbcZZdbdbdZcaddbdadZbdcdadbcZcZZZbZcdZcbdcadbdcdZcdbdaccddcaccaZccdbcadbdbZZddZddcZdacaaabcadbbZbZZcZdaacdbccaabZZZZZdcadadcbaaabdaZbZbbZdabZdZadZdbadcaZbZdZdcbadacdZcaaaZbddaaZdaZZaZddZbbccZdcaabdbdZZcddbccZcacbdccbdabadbddacacaZdbaccZZadbcbaaZZdacZZZcZdcZcdcbdZZaZcccbabcZcbbbcdacZaZbccacbcbbadZZacccZcabaacabZZbcZdcabddZabdaaaadacZcdZZbaadccZZcadaaZcaccbbbZdcabZabZabbZdcZbcadbcadcadbcacZdbZdZaZbacbbddZbZbZbabcbacddbccabdbaadZZcZZabbdcdcbZZacZZZaddbZZcZcaZabddcadacdZbccZbbcbcaabZbcZccZZZbadbadZbaacabZZbdccbddZZccZadbZcZccaabdcbaddaZcaadaadadbcdbdbZadZddaadcZcdZZbbbaZcaZccccddadccZccdcabbZbbdaZZdabZZZcZcZbdbdccadabcabZbccccccbZbdaZbdZZbaaadcdccbZdcaabcZacaZccdaddcbcZZcbaddZacZcbbbZdcdZbababcaabcacaccaZZZZabdZbcdacdaZZdbdbabZcababZdZcbaadZcbZbdbabdddcZbcZcZZdc\n",
            "Epoch: 37/80... Step: 1650... Loss: 3.2611... Val Loss: 3.2390\n",
            "The ZaaccaadabddZZZcZbZdbbcbcbZabcbdcZcdbZcZbaddabaadbaaaZaabcbbcdabbbbadbdZdabccadbbbaZZaddadbbZbadcbZbZdZdbZZZbbbcaZcabZZdaaZadcaZaZacaddZZdcdcadZdaZaZbZcaZaaddbbZddbacdZcccdbacZZcZdabccbcZbcZbcaZcddacdaZaZadacZcZadbbacabacabacZcdadZcbddccdZaaaZaZbcaZZZZddbZdaZadZaaZdadcbbaaccdbcZdbaabZcZbaabcaZcdabbZZddbcZddcZcdZdaZaccccZcdbZdbbaabbdZdacZZdcaadadZcZbccbcZZabcZaaZcbdbdZacabaZdaZbaZbadbZabcZZZZacdaZcbabZZcbbZccaZcZbZbbbadbdacddbccdbdccdcdcdZaZaadaadbZddddZcabbbbZcccdZdbdadbbcdZbdZbabdZbdccadZbacabdZbbbddbdZcaccacZdcZaaZdddcZaaccadcZabZZaacabcbdcbZZZZdbaadZcddcaadbbaacZbcdZaacdcaddbbZbcddacZbbZddbbacZbdbddZcZadccbcabZabccdbZbcdZccdaZdcbZdcbdaadZacdcbcbcZbZadcdbdabcabdbdddccZbZdcabZadZccdadccddbZbZababZcbbZcbaabaccdcbbZZdcbaZaccZacbcdcaddZbaZcbcadcdddaaZZdcbbZabccbcZbcadaZcccbcdbbabadZbacaddZdaaaaaZdadacdabbbZabcbcZZbdZadcabZZadZZaZaadacacaZZZddZabacbZbbbcadZdabZbaabZcdbaccZabaaccadbZbaadcaZcbddZacdbbZdddabccZccZdacdcaddbZcZbcdZabcbdcZdcabcbadZddZaZaddbbcdaabcZZdZcabcdZcaZbZddZbdddbdZbdaZabb\n",
            "Epoch: 38/80... Step: 1700... Loss: 3.2283... Val Loss: 3.2379\n",
            "The acaZbbccZbacdbadbcddaaaZaZbaaccdbdcbZddbcdZbcaZdZdZcdabaZcdZbbdacaZcZdbdbbbbbbZcaZabadcbccccZcZadbbadbbcadZadddZcdbaZcdcbabZdbaacbcbdcaabccddbZbaZddZbbaZccadaZZcadaadZcadcdcabccacZcdbZZdbZcdddacbddZZabddbabZbbcbbcZabdaZZdcdcabbdcdddbbcbZbdaaZcdbaaZbbaadaZcacdZdbaZaddaabadbdbbaZZbdbcadabZcZabcbccdcbaacaabbcaacbabdbaaadbZbbcdbbcaZaZZadcZbcddbZaZdcdZZaaadcdacabaZZaddZZZaZcbdbZZZcadZddaddaZZdZddbdZaccZbZaZZdbbcccbaZcbdcccZaccZacacadddbdbdddadbbdccdZbZbZdaaZZcZbcbbZZZZbZbdZabccacacZZdcbdcZddZddZdZZcaZdcbcacZdcdbaaadZcbdbaacbcbZZbadcbdacZcZZdZdadbccbccZcabdbZbaddZZZcdcbbadcdbZbaZdadcbadadbccdZdcdcbacdZaabdbcbbZZaZdcbdadbaccZcdZbabdbbadadbZadZbaZZccccZdadZdacbbbZcZcZbbbbbZdZccZZcaccbccbZbZddabcdbZZdZZadbddabaddbZcbZccdbcaabcacZdbdZaddacabdddddbacdZaabbcccacacabcabZbaadZdZZaadbbdddbaZdZdcaaZZacZaddcdZZcaacaZdddbdaZadaZbbbdbdZdcadacaZadZdbbbccaZcabZabaZdcZZdcbaZcaZacZdaZcbcbZZacdcdcbccbcbccZcacadZcbaaaadcacacZabdcdcacdbZZabaZbZdbadcZcbcZcdbZaaZcdadcaacacZZdddabZaccabbcdZaZdbacadcbdbZdZdacZdbbcba\n",
            "Epoch: 39/80... Step: 1750... Loss: 3.2432... Val Loss: 3.2364\n",
            "The adaZbZaacabdcZdbdaZabaacacdabdcdcacddbcZbbbcaaabZdcccabZacbdcddbZadcZbdcccZaaacZaZbdccabbacbcdbdddcddZcdccdZZZaacbZacccabZabbaZdbbZaZdbZaZZadZabdbcZadbbZacabZdacbZaZbbdZZddbZcadadZaabbcbbcbcbccZdZccbZbcccbacddadadZcccdcdZbaZZacbcbdccbccdcbaZZcaacabbcbcZcaccdaZZcadcZbZccZZZZabadacbaZdZZZccbabdcbdZbcbZZZZddbbdbZbdZdccaadbZbbcbbZdaccaababbaddbcadaZddZZdbcaZcZbbbbdbbZabdccdcZbcdZZdaZbddccZdcabcccZZZddabbcbbdcdcdbZcaZddddabcbaZZcZdcadbbbcabcccbZcbcZbbcbcbcbccZZZbZabadcdddaddZdcdabcdcZcdcaZdaabaZaaZdZcbacaZcbdbcbdcacaZdacbdcZZaaadaZabbadacdbZbaaZabZdbdZbdacZacdZZbbadcabbdaddabZZZdbbdabZbacadbbbdcdcdcdccbcdbcaZcadabZcZcbcbbacZdabbacaZcdZbcZcccbabddaZdccdabaZZacacZdbdZdccaccZdcbbbddZadbbcddcaddbacdcbZcbcdbdcbdcddbZcbaaZdabcddcdcddabadZaZdZdbddZacdaaZbacZdbZdbaadcbbadaacaddbaccbbcbdabdZacdZZabaZdddcddZdZdadbbcbbZaZccdcZacadcZbZbdZZbadbbcbacdbZbdbbZZcaZdbZbcaZacdadcacdbZcbcZZZdaaZcZbaaabbcabdZaZadabbZddcdZcdbddZbZbdbZZabZcbccdbcaacaZZaddaabZZbadZcabcdccccbdcbcacadZZZabbZZZdZbZaZbZZaZbaabdccaZZcdd\n",
            "Epoch: 40/80... Step: 1800... Loss: 3.2572... Val Loss: 3.2307\n",
            "The daZbZcadZcbddadcZZdZZcdcZaaabbabcddbabbdbZcZZabdddbcacddbcbdZdccbacaZaZbbbcbZbZcbbdadbdcaaabaaccbacbbdZaZccbZZbZabbcbdadacccbbdcdcaaccbabcZcdbbbbbZcbbdaccbdbbbadZcbbZaaabbccabZabccaddZbcaaaZaZdabdbaccbaabacbZaadcZZZZaaaadaZcaZZdabcbZZZcccZccaaZZcbZdcaZccabbdbacdcaaaZdcbZbZbbadcdcZdcZbbadZadbacdbcbdcdbdcdcdZbadbcaddbaZaccbbbaZccZbbbdZacZdZadZbbbdabdbcZddZcaZbbbZZcZbbZcccacZaZaabcbZddbbZdddcbccdbadacZbZbccbcbbdZbZacabdcZbbddcbZabaZabaZZabZbbadZadcccZcadcacabcZaaZbbaZabccZaccdcabbZddaabcdbZdcabdaaabbbZZdaZcdcZbdbZcZaabZaadaaaZZbaZZabcdcbdbbbZdcdbcZcdabddcbcbbcadacdZaZbcadZaddbbddZZcZabbbcddbddbZbddaccaaaaZcbbccddadcdbacdacdbdZcbadbcadcZdZcZZbZcZbZZacdababaZdddcdacZZcdccbaZbcZbaZabdcdcddbaZdZdZaabadddcccdacacbZabbcbcadcaccdaabbZacZabdabaZacadddaZaZcbacZZaacabdcZaZadbccdbbacdbdZZcaabaZccaddabbbaZacbcdabbZbcZadcbdaZadaccZdZZabZZcZcdcaZdZcdcbcaZabddZbaZZadcdZbZbbaacZdbaccdaacbZddZbdZcabZccbaacbbcddZZbcabZaZbdadZZaaaaZcdddZbccbcZacZaZaacbcZddddcbZcZacdbZbbZabZZdbbZcZdaZcdadaacdZdabbccdddbZaadbd\n",
            "Epoch: 42/80... Step: 1850... Loss: 3.2282... Val Loss: 3.2269\n",
            "The cbbdZddcbadZacdZaddZaZbabadacdZZdadZZccdbZaZabcZcZZdcbbababcdddbcccabadaZbcdZZabcZbcbddcccabaZZZbdabbbdaaZZcaZdcccdddbddZabbdbadaZacaZZdZcabZbZcbcdadZddaaZbcbdcbcdZabacbaaaadabZdZdZdZbZcZdaZdcZbdZZZcaacZccZcadbcdZbbZadZdcZbcdccbddZccZdbZacZcbZbZadababaZZdZcbaacbdadZbbdcZZcZbdabbccZdbddaababbadddZdddbcZdaadddcZdcbdcadcbbacZbcccdabcaaabbZZZZcaababcbbccabZZcZZdabZZccZZZabaZbaabadcZcaacadbcccZZccaZZcabdbZZbZcZcaacbadaZbZdaabaZcdbbbdcbddcddZZbbbZbaccbbcbcccZZabZcbZZdZbcaaZdaZaddZZdccZbbadbddbaabdZdbZacZcZbdacdbbabbbcdZbbaddcaacbaZcddZcacZcdaZdbaabbaddbdbZZcdcbadbaabdZdbbbadcaZdaddZbcdcbdaZccbccZZcaZccZZddcbbdccadbZcbdZbbdccbcdddcaZddbdbbZdddbZcbbdcZadacdadcZZaZacbZZdZdZdabcZbbdadcdacZbddZaccbdbbaZaaZcbdZZacccZacaaddbabZbdabaacbbdbdaadcbcbddcZZcddZcZadacZdZbcbdcZbddacdaZabccccdaZbbZcbZccaddabbccaaacdddZdZcdbcacdZbaZccbaccbcdccdaZZZadccdZZbbcZZdccccZdaabdaZcbbadbddcacaZadcZbcZaaZcbcZdbdcddbZbZaZbZcccZdaZaccZadcbZaaZZdbbddaccZZdZcaZdaaadadddcbZbZbbadZdaaZcaaaacbadbbadaccaccabdadcaZcaaaddbcdZaca\n",
            "Epoch: 43/80... Step: 1900... Loss: 3.2113... Val Loss: 3.2258\n",
            "The bbdZbbZabcZbZaaZdcccdcdcaZccZZZZcabbcbbdaccdadZdaabacabbaabddZaZabbZbcacacZbadZbdcdcabdacZZaZbdZZZdcaZZdcbaZccZcacdcdZZcccdccbZZdcdbcdaabadacdbcZbZaZZdcbdZdaadZcZcbcaZbbbbdcbdadcZcdaZdZcZaZbbbdadccdccZdZcbZabcZbcddacaddaacddaaZZcbdbabZbdddZadcdbZZbZadbaccdacacZaccacZddcZaaddacZcccddbdZccZdcZaabbcbbdZbdccbcZZbZZacadZZddbcaZdZZcddbadccbdddZdbcabbddbbZadbcaddacbaZaZaaZacbbddbcbaZbcbZacZdZZcadacbbcZcbaacdZcccbZaZccZadZaaadcbbbcbZZZdccbbZcbacadZdadZcccdcdbacZddbddbddZadZdZZZacdcaaaZZZbccacdZabcadaZbccbdZbZZacZcbZZcZcZZaZZZbbcZbadcdcdaZbZbZaZaaadacbdZaadZaZaZddZdccdZdbacacbcdZbaZbaZZbdcbddcabaaZcbadcdabbcbdbbaZaZbdddcdccbbdZcaaccbbccZcdaZZbbZbZddcaddaZZZbZZabbabdddacZdZbZadccbbdcabdcdZbbZcabbdbZdZcbadaddacaZaZcbZbZbZacdZdddbZZcdadacdaadaabdacZdacdadcdbZbcbcabcdbcZdcZbZcadZaccbZcdZbbacZaZdcdabdcdabbbaaaabcdcbdaZccacbadbcdcaccdadaZabbcbcddadaZdcbZbadbbccaZacadcdcccdaZZaaZZZcZcaacaZcdbcZdaZdZcabcadadccdccbaadbbbbdbdcbbdZddbdZdbZdZbdcaabcbabcdaaacZaZdZZbbbdbdadZZbbadaaabbbdZbdddcZdddcbZcadabZdaZd\n",
            "Epoch: 44/80... Step: 1950... Loss: 3.2645... Val Loss: 3.2254\n",
            "The dcZZaddcbabbadbZdbbddaZadZZccbcZcaZbcbZcZaZZZcaZZdcacZcbcddabZccZbdcabcZZdbabcbacbbaZbcdZabdacddadaabdcbbdadbcdcbabcaacdZbbcdZcdccabbbaZcZbZcZcbaacdcZcdacZZabaaZZdbbZbcaabcdcabdddZcdbcabaaaZbcbdZZZaZcZcccdaZbdbaZZZbcaZdbcdcbdZcbZbdZbZZdbZZccdbdcadccZbbbZbbaacadaccdcadZabZbcddaaZacaacdcbdcadababbZdZcdabcdbddbZaaabdabcadadbbcZbZbdddcZZZdaccbbcccbaZaaaccZbbcZaZbZdcdbcdZdabcbbcdabZdaabdcdZdbdabcaZaZZdZdbZcaZcZcbbZbcZbZZbZdZbddccbbZZZcZbZcddcdZbaZcabaacZabbZccddbZcaZbcZdcacdaadbZcdbaddaddZZaZbdcccZaabdcZbcZddccdZZbbZaZcbZddabdcZaccbddacdbcacddabccdaaZdZabZZadZaaabbbacdbbcdZbbddcZZZaccdacbddabcbdZdZbcZbdZccadcabcbcdZdcaabcccZabacacbZadcZacddacbabaZbZaacaaabbbcdddabaaddccdbdaZZbcaddZdddcdcbdcaZaccbcZdbcdcdbcdZbZdZcdcbdaZdaacdbcbbadcbadddbdcaaaccZdaaZbcZcbaZcZddbdcdabbabbdbadbZZabaZdbcccZbadbcabZadcdZcbbZcbZbcdZbdbcbbZddbcZdcZZdbccbZdccZadcccdacbZdbbccbdabaZcbaZadbaZaZcdaabZdccdaZbdbZdZdZbZdcZadddddadaabZdcaZaacdbZadbZdZZZZaddddZabacccccdddaZbZcaZacccZaccZcZaacZdcccaZbcdbabZZZbdcccddddbbZbdbbZd\n",
            "Epoch: 45/80... Step: 2000... Loss: 3.1984... Val Loss: 3.2221\n",
            "The acZdbcbcZdZcZdZdddccZaaaccaZddZbcabaabcddZdZbaZcadccbdaZccccbaabaZZbZZcbdadcaaZZccbdbadaccccdddZaZbbadbZacaZabcbaaZcZbddZZdacdZbddcbdcZcbbabcadbdaZZbdbabZcdbcZdddbddZcaaaaadbZZdcabaZbcbbcadZZdZadbZZdZbcdcZaZccZbZdZbbZbZccbZcacddaaZZdccccbacbabZddZddbdZcZddZacadZaZccbccdbZabdbZZbdbcdcZaZaacddbdZacbdbcbdcdcaadcZZbbdabbbcbcdadbaddbZZZdbacacccZdabcZcdbbZdbbZdbZbbbccabZbdbcaaabZaaZdacaccbbdbccbcdZZbdZZbdbadddZbZdZbccZdaZdbbbZbZcaccdabZZacbcadccZcddacbZbdddcacacdbbZdbcaaZZdbdbbcdaZacadZccabZddZbZbbcddbZacZaadZdbZccacZbaccbadadcddbcaccababZdZZbaaadadZdaaZdZcdZcdbcacdZbdZaZaZdZadZbacaabZdbZbddcZdddZdZacbZccacacdaacddZZbZcadcdZcccbcZcbbbZdabZZabdZbbbbabdaZcbdadaabZaaZZbbbZbaZadddbbZbdbccdZdbbcZZcdadZbaabcaZZZdZZZacbdZaadadbZdbbccacdccbaZZccdacacZbdccdadaadbcaZccbdcababaabZcaZZdZbddZccZadabcbcZaadcZdZbbbaabaZbdcdcaZbbdccZbbcaZZddabcbaaabdddddZdaaacaZbbcZaaaZabbdZbZZcdcabddZbbaadbbZaddbaabaZdZZdabZbZcbaZZcbdcaaZcbZaZdZZacaZaZbbacbcbaaaccbccbZbdabdbaZabZbccbdZacdbaaZadddbZcabaZcbbdbbZbdbcdcZZcZdaad\n",
            "Epoch: 46/80... Step: 2050... Loss: 3.2224... Val Loss: 3.2195\n",
            "The addZabZcacdccdccbccbbbacadcaZZacZcdZdbaZaZbaabaccbcZdbadaabZcaZdddccaadZbccabcZbbZbdZadZabcZbdZbcZbcbcddbbdabbZcbdaddbabaabcaacZcddZdbcbccZbbdZdZbddbbabbcbdaabZcZdZcadZcdZdcaZcaabZccbZbccbcbcdbbabZcZZacZbZcdccZaddacdZdaZcdZZdaaZccadZdZZcaacccaZaZccbdZcbdbdbacdcacZdZZaZZbadaabdacbaZcdZacdZdcaZbacbZabbcaddZccabcabaZcdacababZabZZacZcZadabbcdZcccbbcdaadcaZZZZbZdbZaZadZacbZaZacZdZabZZdbZdacZZcaaZZZaaZbcbcacdZdcdadaZcZbbadbaZZacddcccdZZaadbabaZZdacdbaZadaZcZaZbcdabbcaaZZabbcdaZddZZcZcZZcdbcZcZadbZbcbcbdZbcdabdcbcZbadddbbbbZcdZbbabbaabdZabbZbbdbabbZcaddZadadcadccbZZZdZcaacbbcZZZdcdZZcddZbZadZcdabbbdbdcZddcdZbaadbbadaacaabaZdbdacZcZddbbdadddabdaacddbaZdbZcZbdbbZZcaZbbZbZbcdcdaZdZdbdadbbcbbZZZcaZZdabbdaZabcZcdacddabcadZZbcacdcbdddaaaccddaZZbZbdZbaZZdZdZccacaccadabdaabZbZbacZdccZZZbcbdddbbcddaaZbabaadabdabcaaddZbZbcdZcdcZdZcZbdcddcZacZccZabccaacbadZdadZZcddacddbaaddacZZbadZcbZaaccdbcdcaZdcaZbZZbabbccZbZZZZdacZZbaaZZcdbaZdcddaZcbaadZbcbdZdbdcccdbaZdadcacdaddabccabbdaZbdcdbccaccccdcadbabadZZddbdacZ\n",
            "Epoch: 47/80... Step: 2100... Loss: 3.2345... Val Loss: 3.2177\n",
            "The abbdaaabcaaabdZabbdbcbdbdbcadZbdaZabdadcdadbdccbcbZZdbccdbcbddcaZcbdcabccaabdbccdZcdZccddaccZbbacZdaaddZdbbbdZbZdcbbdbZddbbabbbbaddbddZbbdaabZadddaZbbdbdbacZdbZZdZbbZcdcbdbcdZdddbZacbcddcZZbadcdabbbddddaadZdZcacbbdacccdbcbcccacbbcZcbZaZZZZbaZZccdbaZaZccbaccddaaZZcZdadcZaadZdcaaddcacbcdbbdZcZcZacadZacZabbZaZdZdZbdcdabacbacdbZaaZcaadZccaaacZbaZdZcadbdddbdcccdZaccdaaZcdaadZbZZbddbddZaccdZbbdabbbaacdZcaZdcabdZdbacbbZcbadaaZacZZdabZcabbdZcbdacaddbacacZadZbdcddaZbdddZZccZZdbddcdbbcZZZacZddZcZadccacZdbZdbZbcaZdbbdccddaZdbZZcZddaddZdcZdZbdcZbaaZbcadbbdaddcdbccbaZaZZaZdadZZccZddbdZcdaabdbdacadcaacZdbddbcddacbddbaZadcZdZccacbadZcdcbZcddcacZZdacdbZdZcaZdcaadcZdabdaZbcabbcbcZZcbcZbZcbaZaaZcdaZdbdcaZbaZcaacaZcbcZbcbaaddadaZddabdcdZdddbaaaddZabaZbcZacadZaddbdZZdbbcadbdbcccbbZddbZbZdZadaZZdbcZbbbbabdadZdcZaZcabcacaaZaccbbdbaZdbdbabddcdbdacdabdadcdZaZccZccaaZbaacdZcadcZdadZacdZbZdZdZacaZcacbbZcdaaZbZdZddZbcZcdZaZabbdaZddbbcdZZbcaZdZadaddbaddbbdbcbdcdcddaaZadaZcZZZbbdcZaabdccaaaZbZabacdaZbbddbadZZaddadc\n",
            "Epoch: 48/80... Step: 2150... Loss: 3.2049... Val Loss: 3.2176\n",
            "The bddZcZaddbZZZadabadZbbacZabZaaZaaaZZcacdccdcZcbacddabZZZcZabbbaaZZdZdbadbaZZdZddaZcZcZdccbdbdbZacadZdcdacaddcdcdddZbaddddaacZaZbbbbadbbZZdaaZaabZbaZcZdZccdZbbcZbZabZcbaaaZdbZbaccZdcbbababdadaaddcZZadbbaaZdcZbdZcdbZZccaabZbZbZadcdabaddZcZaZacadbacZZdccaZbbZZccddddaacaZdbZdaaddcaZZbZZbdZZdbcaZZabZbdcZccacdZZaccadcbbccZZZZZbbaZbcdbbacddbdaZcabZbZaddZaddcbbcacbccabbbdddbaddadZdabbZZdbabbZdZaaadZaZdcdbaccZdbbccdccZZbabZabbbcbdbZcdbZdZacdZZbccaZadZcddZcZbbdcdbbaZbbdddbacacbaZbZcdZdadabcZbdbacaadddcbcbZZdcdbZbaabbcccdZdZaacabdZcZddZbbcadbaabdaacZadccbcabbbabZabcdZZacaacbbddadZbaZaZdZddbZdbddcdZcdbddadZcbabbbcZadZddZaaacdadcdaaZaccaaZadbcdZZdbdZdcZabbdccaccdaZZaZadbbabbadbcZabbZbdZcaabdZcdaacaccbbbbdbadbcZbcabdbbZcdcZaadaZZbaabbbadddbZcabbacbZbbZaaddaacaccdZacbZdbbdbdbZccZZbacdZZdbbdZdcZbaZddcbcabZZaaZddadcdZccaaddacbbbZbdaabddZdbdZcZaccZcZaabbcbaacdadacZdZdZbZZZcdadccdaddabadaccdcZZddcZbaddaadcZcadZbcadZabZdaabbZaZdabdbZZbdZZbcaddccdddccZZadabZbcabbcZbdcZbccddacaddaadbZacdcaZccZabZdZdaadcabZbb\n",
            "Epoch: 49/80... Step: 2200... Loss: 3.2179... Val Loss: 3.2146\n",
            "The aZbbdbZaZbddZbdZccbZcZdZdccbdaacaddZabZaZcZcdaccccddZddadcadZadZccdbcbabaZcdaabZbbcadccdbdadZccdZdababacaZcacccddcdaaZddZbZddcbbcZcaaadacZZdccbbabacbcZcZbcadZZbbacbbabcZccdcbZcbdcbZZcdcadadZdbbbdabbdZabbZZbcZccZccZdcdcdcdbZbddbZZcZcccbddcbZdaZZaabdddZdddcdZZdcZadcdccbbbcbaaacccabcbacbdZbaZZcddbZcbdZcZaZbaZdbdZZaadcbaaccaabadZbbabbaccaaZacacZccccccbaddZdZdaaababZbZZZcacbdZZadcZccdZdabbddccdcZcaZZabccZdbZbcZcccdbccZabZbbZdZbdaadbbdaccbZbaZZdadZcZZacZaZbZZcZZabbbZbbdddaZabbdcddbdacZdZcccbcZbdbdbZddcbbbbbZZZbdZdabZcddZZZddcZcbccccdbddcZdaccZaddZcbabccaaZcbZZaZbddcdZcdbdZbbZddZbbbZZdcdcdcddbbbZaddccccdbadbabaacbbdadbacbbcbcbddZcbbdccacbdddbZcacbbcdabZcdZbbbddadcdccZbabacZZbbZZdcdadcdacccZdZbadcbcbZaaabcZbaZdcbbccdcbZcZZdaccbbcbbcZaZcbccaaaabbdcZacZdZZbcadZZcbZacddaZdZdabcZdddZacbdadbacdbdccZaZdZdZZbZbddZZcdadaZdZZZbZadccZbacbZcbcZbbbaZbdcabaabcdbbbcZbababZdbZZacbabZZabdbcbZbbZZaZbdcZdZdbbaccZddbZddZcbcdZZZcbZcadbZZaZdcbbadcbZdcdacbZdcaZcdbZcaZbZacZacbZcddcbZddbdbZdZacZcbdaZaZcZbacaabacabbccZ\n",
            "Epoch: 50/80... Step: 2250... Loss: 3.2317... Val Loss: 3.2111\n",
            "The bcbcbdcbbdbacZadddZZZZdaaZaacbbcdcabcZZbaaaabcbbcdcbZbZZdcddcZaccaabcdccabcZcbZbZZdbZbcdadZbZdcacadbcZaZdacZbdbZdddcacccbabadcZcZbZabbbZaaaZZdZbadZZZbbdaddabZbcdZbbZbdaacdbZZZcZbbabbZdaacbaadaZbbbbddZcbdadbddccadcbbcdcZZabaZZbaZcbaZcdbddbbcZcZcbaaZcaaddadcbdZZcbcbcbcaabccdbZaZbccacaZZbabcZZdaabbdddbcbdaadbaccacZbdbZbbZZddbccZdZcbabZadadadZZddcZZdZdcZdZdbbdaZaZZddcZaacbbZcbccZabcaZbdaZcabbcbccbdaabZcbaZdcdccabaccabadZddZZcabdbacbdaZaabbZaabbdccZZZabbbbZaZccZddbadacddadcacZZdbbbaZbcbcbbZdadaddbZZbdZZccdbdcdbbcdaZcaccdacbcaaaZbZZcaZbZZdZabababcddZbacccaabbZcZdZdbaccbaaZbZcaZbccdZZddadbcbadbaabZZaZaaZdadcdacZbdZZbaadaddcbZabccdZZdbcdabdbcbZcdcZdadZcaZZZZaZcaadbacZaabccZabaabcaaZbdacbdcdabZdacbaaZccacacaaZZZaZbZZabZcZaadacZbbccbbZcbbZaaddacdcabadZcadaabaaabaaccdbZdbZbadbcZcbdZcacZaaaZddddcbaZZdZccaadZddZacZZadbZcbcZZbdddcbbbacZcdbcbabbZcdaZZdZcbdabcZcbbaaaaZZbadbdadZbbZcaddZcZbdZcadZabbcbdbdbccdddZZZcdZZcdZcZdZbcdaZbcbdabZaaddabcadacbbcccbdbbZbcZaaZbZaZdbZbbZZZcdbdZZdcZaaaZaabdZacZcaZZZabZdc\n",
            "Epoch: 52/80... Step: 2300... Loss: 3.2047... Val Loss: 3.2082\n",
            "The ZcdZZccbaabaZdcZaZdZaccZacZZcaaacdbaZZbcacZaZddabcbZcZdbbdZacdbaccbddccacZbdacccZZaZccbccaZcbacdabZcZbbdZdcZaZabbZcabZabbZdbcadccddbadaddcccZcccabbaZacbbbdbadbcZZbZbbaaZcababZcaZcZdbbdddcabZabZcdacZbZcbcccdddaaZdbcabcZabdcdabZcacaZadZaacbcZaaZcdZdcZaZaddabcadcbZZcZccaaccZaaddaZacdZaZabbdZdcdZZbdbcZdZaddccbbcbbccZZccddbdabZdbacZZdcZbbcbcdbabZaadacZbdddaacaacdaZZaZcbabdcZbcZdZccbZaddZdcZbcdZdZdbddbbbZbZZcccadbbZcadcbZbdZaadaacacbaacZbdcZcabZccaabcdacaZbddacbadcaaadbbbcdbbZdcZcdabddcdccZbcabZdbbacbcbZdbdcbaaZZddZdZcbZdcZbcaadaadddcadZccdZddabacZaZabaaZbaddZbZdcdbdZZaccbZZccdadbbZZZcdcbbdaaZabaaaZddbababcaZabZbZbbdaaccdcbddccadcadZbcbcbbbaZbaZdcabdbcdaZdbcdcddacbbcbZabdcbdbaaacbadcdaaZdZcdddZbacccZbbbdbZaabdbcaZaZZbadaccaabcdddaddbbbbZZZdadbbddZdcZccbadcdcabadcabdZbbdbcZbadbbZaZaZcccZaZZdbcddacaaabddZZZZcbbadZaacbcbdbadZcZdcddZZZZbabcZcbccaaacdZZZbdZaZdcddZdccbabbdadabZZcaccbbZbdZcdadbZbbcadbaabcaacdaaZZccbadddZcZadcadaaZabcaccZadcdbbbZbdZcZbcZbZbcZdaadZaZaaabbacbdaZcdZabdZaZdZabaacbbdZcccZ\n",
            "Epoch: 53/80... Step: 2350... Loss: 3.1875... Val Loss: 3.2067\n",
            "The aabZcddbZdaaaabZddcddbZZZcZdZbaZaccZdbcZaddZZdbacccbdadaZZcccbZbddZddbZdbdZddcZbbZZcbaZabaabbcdcbaZdcZcbZbaddZZabaZcdZbccdccZZZdZaZcaccaacZZZcabdbcZcadbdZaddaccccZZdccbccddbbbZbcZZcZbaZaabddZadaadZacZZaabaccdZcZdbbZdadaZZZcbcbZZdbcccZZdZdccbdZddZdbaZdaZZaabcbdbdZZbdZdaddcbbZbacacaacbababZbcbcdaaaaccaZZdbaacbadccaaaddbdccadacdcZbbbbZccZdcbbcddcbbcdcZZZZZcaZabZbacacbdcbdccZcZbbbbbZZdccbaZcZbZdcZcbdbZddZcdcdaaZcZcbadZdZbbdccdaZddaacZcZaZdadcZcacddaZcZaZadbZcdZbddcccddaZaZcbcaaZdbZaaZadcdabbacadabaaZdbadcdaZabdbbbddZdaadaZbZZacbZabbbacbZddbccddbdaZcZcaabZccbaZcdZcdbaadcbdbdadaZcabZZadbdacdbZdZbadbaZbdcccbcZZbcbdZbdddddZdddbZZdcbccZZbbdcaababdadbcaddacdcZdbccaZcbcccacZaZaaadadabacaccZZcZddcdacbZcbZbZdacabdbZaacdcdadZdddZddacZaddcadcaccZZdbbabbdacccabbaaZdbbccZadadZZacbZcadZddcacbcabZZZZcdcZZacdZZcaadcbZadZdcZdbccdcaababZdbbZZZZdZaZcbaacbccdcccccdbddcZdccdcbcabbcddaaZacdaaddadcZdZZdccdabZbdadccbZZZadZaaccZbZcZZccadcZbcddddacZcbaZbcbZdZbcabadZZcZbcaddbZbbcbccddZcZcdbcdZZdcbdZdZddbdadbaZaccbbcc\n",
            "Epoch: 54/80... Step: 2400... Loss: 3.2371... Val Loss: 3.2054\n",
            "The bZabaZcbaZcZdabacddbcZbdddbcZcZaaZdaaZcdaaZdbdbaZbbdadaacZZbZcZZaccbbaadcbcZacbaZbbbaZZbZZabaaZcadZccbZZcZaadbaabcdZcdaabZZZZZaacZcZdcddZccdaZbbbdbcddZbabZacdaacbZZdbZbdaadZdaaaaZcbcabbadZddddbcZZZZZdabbcdcadddaZbccdZbZaaZaZaZbbaZccZZbZZabdbadaZcZZcddZcaddaddaZccddaccZcZacaZZaaccbcddZaZcZcaccacbdbdZbdadcabZZZaZaZdZbabccbdZadcbZcZadbabbcdZabaaabbabddZcadbdZaccdaaZcbaaZcddbdZZdddcadZccbZcbdaccbbbdZdaddZaddcaacacZdacdcbdZccaccbcbcbZdZadZcdaZdcdcaZacZdaddaZZbadacdbccaabdadaabZbdZbbcbdZcbcdZdZZcbdcbaadccaccbabbcaabaZdadZZbccbccbZabddZcbaababaddaadZbZdcZdcaZZbbdZbdaaZbcbbZZbccbcabccddaaabZcaacZZdcbdZdcaadcZaZdZcbaccZZbaababcbbZZdacZaccaddZbZcZccZZddcdcdddbcaacdaaadadacaZcZaZdZaaccddaaadacdcadZccbbbZZcbbacbbdcZcdadaccccZcdbadbZdbbZdcccdbdZdZZaZbaZbZbZcbZcZZdcaZdadadccZbZbZZcbbcZbdcbcbcZaacZZbZbZZbdccccdaadddbcZbdbdcbbbabZdbabZcZbcacbbcdbdZacadbdZbdadaaZcdadbaZcZbcbcacdbbaadddaaZcddcacbdbabZacbZZcbZdddcaaaccdbaadaZbZcdbZZcbdcZabccZcdcZaaZaabZcdbaZbZcdddZZaadacaZcaccdbcaababcbdZabbZbaZZdbbZaadaZ\n",
            "Epoch: 55/80... Step: 2450... Loss: 3.1772... Val Loss: 3.2036\n",
            "The ZbcaabdabbdZbbdacacacbbZbddZaaZcbbdaabcaabbcabbdccdcZccbbcZZacbaZaaZbbZZdcbaZaabcddZadccbdabbcbbcdadacZbZbcabadacdddbdddZaZacbbZZdbcbccaaadbbbZadZZdcZcdZccdadZaZZbbaZZcacdcabdbaZdZcZdZaaZZabcZbZcabZdbZadaddZcZZcZbaaccabaZdccZZcaZcbZdZbccbbcZccdacdbcccbdcbZbbbbbaccdaddddZddZacabZbcZdbZccZabcbddcZbacbdaddZZcZdacdbadZaZcdcbaadddbbcccdaZaZcacbabbZcbdZbbZbcZaddaacdaacdbdacZbbZabadaccZcZZccZbababZbcacccbaZZZdbaZddbddcbZZdcddaddbdaaaabcdddbaacaZaaaabdaacaZaZZabdbdaZbdcZcZdcbacadddZZZbaacZZZabaaddacbZdcdccdacZbdddacdabdZcdZZcbadcZZcaccZdddaadaZZcbdabcdaaZZbbZZZbbZcbccZdacaaaZcccdZdabdZddcZaZaccZZdZdcZbaZdbbZaccddcbaaZZbadbccaZadZdcbbbZcaZZZdZcdcZcdZabaacbdZZabcZbacbccZZcZbZcbcbdbadddbbbdcadcbdabcbacZZdaddadaaZdcZZacZacZZdcdaZZcZadaabcZcacaaaddadcabaddZaZccZddbdZaaadbadbZZddccbZZbZabaZZcbdZZdZacaababbdbZacZaabccZcacZcZccabcacdcabccdcddaabZddadcbdcaZddcZcZZZacbdaacZcZcacaZdadcadbdcbadcZcbZacacbZdZaaZcccbZabcabZaaaacbZcacbcabZaacdadabcbbZaddddbddcddcdcbbccbcaddZZaZZdbZbdcdaddabddabbadbZdZcZZZdaZab\n",
            "Epoch: 56/80... Step: 2500... Loss: 3.1985... Val Loss: 3.2016\n",
            "The abcaZZabaaaabZbaabccacdbbabddZbZaZabbadZbZZbdabbdabaadaaacccdbccZbZbcbcdadZbZadbcZZZdbZcccdcdcdbcZcabdZababZbZccZaccZcddZZZZacaZaZddaabdZZZbZcZcdZbcdddbadcdcdbdZcbccdabbcaabdcdZcdccacbdcZcZbaZcdbababaadbbaZcadaaZZabdcbZdabZZaaaZcdabccdaddacbbbbbdZdZZcdZdddcZZZadccdabbaccabbdcbaaddabdZbcaZZdcZccZddZbcccbZadZdaccbcadZbcZZZbZdZabcabbZbbaabadaaZZddaaZabZccaaaZZacbZdZabbbaaccdcabdZddbcZZcaaabcZZadZZabdccdaaZdZadbddZcbcZccaZadaccabadaabadababcZacdbacccdadbbadZaZddcbaaaddcbZbcZdcdbZbZZaaacbbZacZaadZacbbZZbcdZbacabcZcdcbbdZaZaZadcaaZbcabccZdbdbcbdcZdZcbccZbdZbZbdddacZcccZdaZZdZcZZbbcZcdZdcadcdZddbZcddaZbZacadcdZcbbdacacbbZdZaaaccbZdbaadaadccaZbcbaZaZbbdcbdddcacdaZdccbabdacdbdadcbcbabbdZddaaZZZaababddcbZcZdcZZcbZabZZadcZcZabadadcbdcbbbcbbcacbZZdacaZZaZcabcbacabcddZaaaaddZadabaacacaZdbaZdbacdbddZZZaaZZdZcadddcbbcZbacZdacbbdadacbcbZcdbaZZZadZadadabcacZbdaaabZZcdadZadbacdbdcZbbddZZddZZbaddZacdbddZccaZcbadZbZdbcdbaZddabdbabbbZZbbabaZcadbZZZZZdbaZabadaZdabacabdbdbbcaZcZabZZZcadbbbbbZaZZdZZcZbbZdZdcba\n",
            "Epoch: 57/80... Step: 2550... Loss: 3.2124... Val Loss: 3.1992\n",
            "The bbdbbbabZZaadZaZbbbZcacbbbdZcbZdadaabcccbcdcZbaddZdadcbcbaZdZaaadbbabZbddacdcadaZadcabacbbabcZZcabbaadbbZddbcaZbdaabdbZdcaabcdZZbddcbcdacdZdaZcZbcdZdddaZcbddZbZZbdbcadbddcaaZdcZZbdbddZcZbZbccbaZaadcZadZbdZZZZcadZccZZdabdbcdabbcabcbbacdadaaZbaddcccadcaccZddccdbbabbZZaZccaaZbZbZdZcZbcbbcZdbZZadadabccdbZbbadddZZbddadccbaZZdbcbaZbbddabaddaZbZbadbZZccadbccZdbcbcccdbbabaccbdcdabcbcccdZcddZbZcaZddccdaZdZadaccaZcccbbcdbcZaccdabbdcdbcddcccacbdZZaZacddZbcaadbbbZadadZabcaZccZbdZdabbZZdZcZdccdZadccZcdZccbddbaZbcdbbbcbbbabbabcZdadbcZacccabacddabbadaZaZZaadbaddcbcZabdccbccadabaacccZcZcZaZbbbZdcbdcZcdababaadaZbZcdZbZdaddbZZbZaZdZZdZbbabZZadadacaZbcabZcZZadddccababdZcadZZbbddadabcacZZbbcZadadbZbZcabaZbcdcaZZdZcadbdZbadcZdbdZcdcddcdcaaZdbacdZcaaaZbcZaZbZcaaZbdabaZZaddadddcZcddbbccccaZbbaaZZZcbddacdaaddZdcZccbacdaddabdccdbZaccdacaZZbZacdbZZdcbbccaabbbcdZddcbdadbbZccbaaaddcZdZcdacZcadacdcZcbZaZcaZcadZZddacacbaZcaZacZZZdZcacdcabbbaabcbacabZddcZbaacbabdZcZbcaadaZZZbbbbacdcdbcZacZZdcZcacbdZccZZbZaaddaaZbcbbc\n",
            "Epoch: 58/80... Step: 2600... Loss: 3.1824... Val Loss: 3.1970\n",
            "The ccZZdabbdaccZZZbadcaadbdccacZdZdaabaZccZacZZaaZadabbabbZbbdZcZaacdZbddbbdaacaaZacaZabZbZcdaabdddZbZcbdbcabbcbddZcadabZbdcacacZcbZdbacaZdccZcdZbcbcZbbdbadcbdcZbZaZcabcdcZbadcZZcadadcbaabadcZcdbcbcbdZdadZZZdZdcbbcZaccabcdZcababZcZcabcbdcbZaadcdZdZbabddcZcadccbbZacZdcZdadZcbcbaaaZddbccbcddccddcdaccadZadbcabdZabddabcadacZbddZabccaZZaZbbabbaZdbadabZaacccaZdcbdadcbbdaabdcaacdbadcZbZadaZcdbZbdddcdZddaabdcadcbdZbdZddcaZcZbdZZdadZdaabbadaZaZZbcZbcdbdccbacaacaZadZbcadbbdZZccbaddadZaZabcdZZcddZZadcbccddbbddaZccZaZabccZdacacZbdcddcbccdbddZcaadaaZbbccbdZabaZdaaaaccacZbaacZbdZccZcaabdZZdbaabdbaZdZaZaZZadcdcabZZbZcdZdbdbdbbacZdcbZaZcbccbadddbdcaZaZbaZadbdccbZdaZZaccbdccaddbdccdaddadbcZbZdabZccZZcaddbZdbcdaZbaZZaadZaddZZabZdbZddcaabdbcbcZcdZbbbaadbbaZcddaaZdbdZccZabdbZbabbcdccacdadbcdcbbdccaZdZbbaZdcZcdbbZaZZbdacdadcaddbbacaaaacbbadcaabccdbZZaaaZbacbcddabcbbZddaZbZdaccbZZcdaZbbZZZbdbcdZbdddbbadcdacZbbZcaZZZaaadcddbdabdcabbbdaddbZcZZcZZZaaacdbcaZbcaacccadZZbZdcdacbdadbcbaabZZbabccbdddcZdacdZZdZcZaaZdacb\n",
            "Epoch: 59/80... Step: 2650... Loss: 3.1967... Val Loss: 3.1967\n",
            "The aZcbZcddZZcdcabbadbdZbbbZZcdZbdaccccbZZZZdZbcdaZabZaaZbacZabcbabbdZbZcbabZcabbbddbZaZcddZdZbcZbdZbZZcccbacbdbcZbbZbabZccccbaacZcccadbdZcdccbbZcZccZZdbdabcbcaddZdbcZZbdacZcbdabcZacdcZcdbdcdacZdbaccdcbbcZZcbdbZdbdbcbcZcZcbZacbZZZZaaacccadcbdZddaZabdaaadaddZZaaccdcdZbbcdbZbcbdZZcZZadbdcaaZcaccdbabcbdccbZdZddZZbZacaZbbadZZdbcdcZdZbbabdbZdacaZZcaZZZdabbcbaZZacZdaZbbcbccdbbcacdZaZdddZZdcabbdaabaccacbbdcaZdcZaacaaacdddZZaddcbdZdbcZdZcaabZdbaZZZaaZZbbZbZcacdaZaZZbZZabddbcdZadbbcdcdadZbbaacbdcZZbbaZadcdbacdZdcZZdZcabbcZdacdaZaacacdbdbaZbbbcbbcZaccZacadcdabaZaZdZZZabcadZadbbcZacZcZbbccdZZdaaZdaadccZabZZcdZcZdZbbZcadbcddbcZcZaZZacacZbbbddcdacabbcZdZbaZbbadZdddcZdZdddbZcaaZZbaZZZaadcZcZbccbbddadcabbcdZbdZbddaaZaacbaZZZbbZdacdabcadZbbcacbdbadccZZZZddbccacZcddcdddcdccZddcdZcaccZZbdaadcbcZabbZcZdZZZbdcdbdcddZcdcbbZbadcZdZZZcdZcdbcbZdZbcZZdZZaaccZcbbabZbaZZaabZaZZbdabdbbdZZcccdabZbcdcdZaZbZddddbcabaccdacbbdcbZZZcdaZZddZbZbadbcacccZZadaaaddcadbZabZdZZZdaabbZcabaaadcbdZddZaaZZZaacbdZbababbZZddZcZZddZbacb\n",
            "Epoch: 60/80... Step: 2700... Loss: 3.2112... Val Loss: 3.1951\n",
            "The bbaZadcbdbccbZcbdbadcbZadZcZabZcaZZcaaZccbdZabZbZaaacZZZcdcdccbdcdZdaZdbbZZbcabZdZZabZdcdacdabbabdbbZZZZaaZZcbadbbaZaccabZddZbbZbcZcacdbZdddbcddcacbaadZabZaZZacZcaabbaZdabcdZcaaaZZcdbbZbcZdcaabbccbbcacbacbZcbccdbZabcccbabdddacdddZZddZcdbbbcZZacbdbcaabZadaZccdcccZdaZbadZdZabccbbZbdZbZbbaaZacdZZbacZbdZaddacbZbdbcdcZZbbdaZddbZZZbZbacZbdZdcdZadbZZZZZZbbbacZZccbZbcdZZcddccZcbbacbbcbcaZaacccbcaabZbadaZcbbccbZdaZcdbacdaZabcdZbabbccaccZdZddZadZdcdaaacZacdaadcdbbadaacbdZbaaZdcddcaaaaacdbbdbabZcZdZbcZaaZabacacdbbZbbcZcdcbddZacadcdZabbbZZbZdZccZbcdbbaddccZacaccZbbZbadbcdbabcdaddbZbZaadaadaddbZcZccabbcZabdbZaabZbZZaaZZcbaZcZZdZZZbbdacaabdacZddZZZbZbZddbccbabbZbZdbbadZZcaddZbabaabccacbddZcaddZcbdbbbZZcbadZadaZcacZaacdbaacabaaddbZcZdaZdZbcbZZaZcdbaadZcbZcbadddZZdbdcZcbdaZaZcZbcdbbbbadZabZaZdZaZbdcZacadbbdbdZcaccZacdbZdZbcbbdZZadcbcbZddaadbcbZbbbaaaddZdZabdbbdaZaccdbbabdbbcddbdbdcbdbcaZbabaZabdaZbdbabaccbbcaZddacaZZadZdacdddacaaddacbZbZZcbdcccadZbcddadbdbZcaZdZddcbcbacdacbdaccbcZacZZdZaadcadbcZabcdaZa\n",
            "Epoch: 62/80... Step: 2750... Loss: 3.1826... Val Loss: 3.1962\n",
            "The dcZaZZZacbbddccadbdaaZdbZdccaaZZaadbaabaabbZbbccaaabcdadaadadbbaZbacacbaacbadbZZbdZZdadZZacabZcaabbZcaZcdZaaabbZZZddcZccZabZdaZcddddcccaccbdZdcadcccccbcbccZZbacdabZbaccdbZcccZbcacZccbZaZZccbaZcZZbZbadZdbaddadbdbdcadcddadbbcdbZbaadZddcbaZaZacdbZdbbbaacbcadbZdaccabacaddcbdaacdaZZaaaZcaZbcdbZdadaZbZbdZbaabaaaZcabddccaZbddZaacddacZaZZdZadccaccaZZbcZdZbZaZcbbdcbcddcdZddbabZZbdaZccddbaaZccdbacZabccZbadaabcZdZdbaabadacdcbbbaacabdZZacZdbcbbZZbacddZcaaadcdcbcdbacZcbbbbbabdcdZcdaZZbaddcddaadbabZaacadccbdcZbdccbZdccZbabaZdcZdcabZcZadbdddddZZZcabcbZccccbbcZcbaccaadcdbZZcbbcdcdZbbccZcZcaaaaacbZdZadaadbbZacZdbaadbaZdacdabZdcbdccabdadcccbcZdZcabadZaacacccabaZbaaaddZacdcbZcbcbcddccbcddaadacbbbbdbaZdadZZcabaaaZccZdaZcbaadbaacadZbbaccdbZZbZaddZbdcdZdcabbbbcaacdcZbZaccdbaaddZdabdbabcbZcbddbaabcbadaacadcbabbdabdbZdcdZabdbZccdbbddZbaaZZZaZZaadbZbbddZcacbbacbdabadcacdcbabccZabcZadacdcZbZbabddccdabZZZZbbbZaZbdbcbcacZaacccbaZcaaZbZabcbcaaaZdbccdadZddZZcZbbZdZcbZdbdabddZbZbbcbacabcbcccbdcaZddccbbababZZddacaZcZc\n",
            "Epoch: 63/80... Step: 2800... Loss: 3.1669... Val Loss: 3.1917\n",
            "The ZadbabZaddaacddadbdaccbbaccZbddcbZbZZbabdaabbZccZdaZccacadbddabdbadbZdabacadcbadZZZZccbcZZdcacbcZbbabdbdccbZabbccbcdcZZddbccaacdZZaaZZZbcZddbdZdabdabZbZZbZdbdadbaddZcbddcacadbaZdaabdaZZacbcdcdbdZdbbbaZacdbbbbbcdabaadaZddaaabadacdZaZbZdcdaZdbbdaccdccbdccbbdccbZbbbZdaZcZaZcabadaZZcacbaaabZbccccZdddbbZcZacbaddZacbZdcZZZcdbddZddacZcbZdcdbcZZZZbaZcdcZZZbZabadbbbbbcbddabdbZdcaZaZZaabaaZabZdbaaZZcbdbbdcbZcaaZaZZcZabbaZaacZcZadacbZabdadbdcdbdaabZZdZZcdcbddcccdabbcbZaZcbZaZZaacbddZbZZacZdbdccdcZdccbcdbZdbbcbcccbZcaccZdbZcaaZZdZcaaccbccZdZdaZcaZddZcaZbadcZabaZaZcbddZccbdZbacaZdZadZadcdccdcddZZdbdbcZbcbccccabcddZZccbZbbcbcaadcbcbbdcbbZddcZaaZcbaaadcacddccbccZcdaaaZddaZdZZZdaacbaZbZbaZbZbdacaZabcbZZZcdaZbZZcdbZZZabbZbcdZaZZcZadddZZZccadcdbcdbcbddaaZcZbbdabcdbacaadadZcZZacbZaZccbZdbacbbbadabZcbaacZdccdcdbbZabZbacaccbbaadZccdZZcZaZdadcadcdbcdaZdcdZbabZbdaacbZbdZcbbdbaZcZbdaZdaZbaaaccabZdcdcZacZdZddbcZacdbdZaddZaZdacdcZaZccbaZZbZabdbbcbddacbZabdZbZcadbbadaaaadZcaaadaZZZZdZZdcbdcdaZaccacccccZZdadabZddb\n",
            "Epoch: 64/80... Step: 2850... Loss: 3.2177... Val Loss: 3.1913\n",
            "The bZcbZcbbcbddcbdZcbccZbdZdZZabZaZcZbddZZZbaZdcZababbccadaabcbZZdbdcaZcZbaadZacZdZdbccZccdbcbdZddcaZaZdZdcbbbbdcaaZcZaZdaddZZZacZbadcdcbaZZbcdaZbadZacacZdadcbbbbabZddaabbZZddZacdZadbbZbbccZcbadZaZabbbadbcZddZacabccabcccadcacZZacbaZddadddZabadcZbbaZcdadbabZdcaZZbZddZZaacdabbaZcbdZdbbacbcZZZacddabZZcbdbdddZbcaZddZbcdacZZbdbbbcZcdbZbZaddaaaZbZaZZdbbacaZbZbbbbZccddbcZZaZdabZcddcdcdadcbZdZZdbcdcddZacadZaZbZbccabZadZccZacZcdbbadZcdbcZbbZabbaccZaZcccZabZbbZdaZbcabcZcddcbacdcdcdZZdbaZdZZabcbZbdcZbcaddbZbbZZcZcacdbdbcZZdbbcZbZdadbcdbbZbaadZZacacdbcZadccdaaZbbZbZbZadZabdbcZbcZaZbZbdbacZabZaZcdcZaadbdbZaabaZZadbcZaacbbdccdcdcdbZZcaZbaacdaddcbcdbZbdZZdbdcaacdZZacZcdcbddbcaZdcbcdbcZcdZdaZccddbcdZabbZZbaZcbabdbZdbacZcbaZbaccacbbbZdbZcddbabZZZZZdaaabaadabbbZabbbZaZZdddcccbdaZbcZZddcddZaZdbZaaadadZbZaabddaaZZdbZabZcZbbZZZZdbcaZaaZbacdcdZabbbcbddabdbbcacadaZZcababddcZcdacaacadZbZbdZbabcabdZdcbZcZbbddZdbddbcZcdaccZZbZccbababcacdabcbaZcdccdbabZcZccbabZbbadacddcabbcaabadacaZdaadZZdaZaZaabZbZcbbZaaacabcbcabdb\n",
            "Epoch: 65/80... Step: 2900... Loss: 3.1561... Val Loss: 3.1903\n",
            "The aZddaddaZdacdZdZdddaacZbaZbaZbacdaZZbabaZZbddacccbaZcZcdbaacZZdcbbaddacZcbZcZZccccbcbdcaabbZddcZacbcZadbbZacddcbdZbaZcdZcbcbZccdcdcdaZdbdacZbaaabccaddbcacaZcdabcccbaabbbaaaaddabZbcaZabdbcdaZadZacZbZdcdZZdZccacddZadaaacbcccadZbbZZbZadaZdbaZcdabbdabadccdZbdabadZaaaabacccZbZZdacZZacaddcdaZdbcdcbbcZdcdbcbZdZZdbdbccacbccaZbadaabbdZbbZdcbadbacZZZZabdbZbdbZbdabZZZZcaccaZZacaaZadaZcZbbZbdabadbbdcccZaZZcbabbbdcdbdZZZZcZbdbaaddadabbZdaZdZccZbbaddacccddcbdadZbddaZbbaccbccaabbababddcdcddabbcaZZZcbZddbdbbaZbbcZcZaZcddcdaZcdadZbZZaZddbbZbcbcZcaaZabcZbdZddcbZbcbZbZdZZbadddcZbacbdbbZdbcaadcaZccdZbbbadaccabadbdcbdacbbbcZcdZZdZacdacabcZbZbdcbcaZdcaZcbadbddbcZdZbdaacbZadZabbdZbabddcZdZdaZaZbZcZdadccZZZbaaZcabdbaabacdcdabdaadcdaZabdbdcbddbcbabZccZdacdabZdbaZdacbcdcaZdcZbcbdcZddaacaZdZccZdaZdbcccddaacaZZbccddZdddcZdbdbbZZadbcdbcabbZZZcaccacZaZddZcZbddZdcZZZdZabcadbdbaaabZbZaaZcZZdadbbcbbbcbbcacdcdcacZZabdbdaZZcbbdddcdbbZcZcbbadbdZZZcZbdaacbbdZZcZadddZZZZadacZbZZdcbZdZbdZabdaZaZdacaZbdddZccbbZbcZdcaccZcbbbab\n",
            "Epoch: 66/80... Step: 2950... Loss: 3.1749... Val Loss: 3.1879\n",
            "The ZbbbbbZddaccbacbcbaadZcbZZbaZZdcaZabZcZddbdcZdbbadabcdcccZbbZaaddaabcZabcaZdbccbcZddacdababadcdcZbaZZZbaZdbdadZdaZZZdZabdZccaaaaZbdZcdbZZdbacaZaZdbZZZdaZaZdcabaacccZdadcccZcbaacbdbabacdcZddacaadcbcZZacdZcddcbZdcZcZcbcaZabZcZbaZbabbbZZbcZccaZacacZcZcabZadacZZcababddadaccaaZbcZabZacccZcdZZabbbacaZdadcadccacZZcacdZZbaZZacccaaddbabdbbcaaccbdZcZccZcdZccabadcdcZcdaZbZZcaaZacabdcbcdcaadZZZbdbZacbcaadbZbabcZZdbbZacbcZdZZbcZaZZcZZbbZZaZbcZcZcbaaccdaacZaacccZcZbcZcdcZaabbcdZcbcdZdbZbZcdZbbdccadZccdZZabdZdaccdbcdbbbdbdaZaabZcbZadadZaacbcdaddZcbccbbcdZbZZcaabZdaddaZaadZbZdcZdcdcbddbbabdbbdcbddZccaaaadbadbaZdZaZZbcabdadbcddcddZbbZbZcabcbbdZZccaZabZbbaadZdbdcaZdaabdbccdbZZadacaaddZabZbZbdabaZZcaZdccbdZbZcccdccbdbZZZdbadcZdbbacZaZabbcbZddaZdbdcacaZbcZZccZdZZdZdZbdadcacdcZbbZbacZccZbcZccZbbacbacZdcaaccbZbdcbaadZZdcZdZcZcbcbbbddbcabacbbaZcZcbbbbaccbadZbbaaZZabdcdcbZZcZcbdddddZcdbcZaaacddZZcdbcbZccbcaccbbbddcaabaccaZbaaZbdZabdbaZdcdcZcbcdbadZZcbabbdZdbbZbaadbZbbdcacccdaZbcccZaZcbcZZaaacdcZaaccdccaadddbbd\n",
            "Epoch: 67/80... Step: 3000... Loss: 3.1912... Val Loss: 3.1880\n",
            "The ddcZcacaZcacbZaZbbbcZcdcZbZbdZbacbdaZdddbZZbabZZbaadadcddacdZbaaaZZbbbabccaZacdZbdacbdacddbdaddaadaZacbcadbabbadcaadcaaddZbaZdcbdadcZbddZbbZZdZaadacbbZabdZZcZcZZbadaZadcZZaZZcZbbZZcaacbZbababZcdbdadcacbdZcZadbZdabddbbaZbcbZbbbdcadZaacbdbddaddaacdZacZbabcZcbbZadcaZcaaacdZbbcZbdcdZaddddcadaaZbdabacccZZcbdacacaZZZbbbaacddadbdbdaZbdZZaacdZcdccddcaZZbcbdabdbZdbddZcddacaacacbbdcbbZaaaZbdZZZadacaZbZdZabdaadZZaaacZbcbZdddZdcbaZdcabbZddbdadbdcabbbbdabdZbbZZZdabZdaacbaZZcZaaaaZcZdZbdcddbcZbbZdbacbaaccabccbacZccacdZdaZccdaZZccbbZaacadZZZaddaaccdcZcaZdZdabZcbaadbdddZZbaZZcbaZcdaadcaZbZZaZccbdcZacZaaZbZZdbaccdZbbbabbdacbddabdaabaZcaZZZaZbdbdcabbaaaZccaZdZadadddbaabcaaZbdZadccZacabbbcaadcdcbbaZbabZcZbdbabZdcbadZbadcbaaZZZZdacbaaZddZZddZZdZacbadabddaacadcacbdcbZdddddcaZccdbbZcdcbbdZbccaadcbaZbbbcaabdbcZbZddbccbdcaZcbdZddadbdcdacZZZcdZZadbccbZcbdaaddZcZadaZdcddddddZZbcadZcbdaaacacZacZacbbZcbcdcdbbdcdbbZdbZcadacZZcaZaaZcZcbccdaZabacZbZaZabbadZZdbcbaZcdcdZcbZacdbaZdabZdacbaZZbcabbbZbacabbdaZcacaaaZdZZdcd\n",
            "Epoch: 68/80... Step: 3050... Loss: 3.1632... Val Loss: 3.1855\n",
            "The ZbdacddccbccZZZcZcabZaadZadZZddadZcacadZcZZcbZbbcaZcaZdbaddbbaZabccadddbZZZZZZbZZdaccZabdZaZZcaabdbacaccaZZbbaZbcaddddbccccbaZcZZdcddadcacZccbdbdZabZbdcaadbddcccaccdcbbZZZdccbdbcacacaZaZddZdabccbbbaZZbdaccadaadbbaZadcdaZcddZcdbcdZcadcbdacbdaZZbbcbacdcabddaccbaccZcaccbZcdbbabcbZZbddZddbcababcbZaccadccZbddbZbZbacdababdcbbcZadbbZdadZZcbZbcbdbcZdaadcaaadaacbaabbcaZdbccZZbZZcZbaaZaZdaZddabbadZdadabcdZadbZabbdcaddZccZdbddbZdcdbZdccbcbdZdZccbbbbbcacadZbbZaabZddaabadacdZddcZcbdbbabadbcadbaaZZddadZcbacdaZdcbcbbcaZZcZccdZdbadcZcaddbadaaaadbZdbadZaadbbacbZccbdaZccdbdbZccdcabZcZZZaZdcZaZbcbdcaZcZbccacaZcdaabcaZacZZdZcZacdbcdZdZdbdacZdZcbbcddbbcbdcbZccZdcbacbdddbddbZcdcbaZccbZabadZdbdZddZcbddZaZcddbZabdZadacbZdbbdbbZcZaZcZaccbZdadcdZaccbcbaZbbcdaacZcdddZdbcZbdZZcbbbbcbcZcbaZbbZdcddabaacbcadccaZdZcacZZZcbcZZcZdbcbdaaZdZadccbbdZabccacacaZZabZZcdZbcdZacZbddZdbZZZcdbdaaaZdbZZcZaZacdbZcabcZcZcadbabaZcZaddadcbaZccZaZcbaZcaabaacdbZbbZdbaabaZdZZbddbdacZbcdZbZZbZccbabcZZcbabdZZbdbdaaddcZdZaadabcbZcaaadcbcbba\n",
            "Epoch: 69/80... Step: 3100... Loss: 3.1735... Val Loss: 3.1865\n",
            "The abddaZadcbdbcbZbdbbadbcadbcabcZZaZaaaadcZcccdbdbZabccdcabdcbcaZadZZZddcdbdcbdZbZaabcadZabcbcdZZbZdbbbdccdcdcbbddcdaddacdddccdaaZbZdcbZdadcbdZZcZdbccbabcZbcZbcacbZdcbdbdabZaZabZadccbbbdacbdacdbacbZabadabbdcaZcZbZcZaabaZcZcdacdZZbccaZbdaZcbbaZbbZbdZbdaccdZbacdabddccacZbdcdadbcbdbdbZZbZcbaaZbZZdaaabddbZdcaddaacccacacacdadcZdZaccddbZaZbdaabdZbcZbZbbaZZZdbZaZbaaZbabcccdZdadaadbbadccbccdccaZcdZdcacddZaaZdbdbcZZdcabdcZdbaadbabcZaababacZcZadZZccbcdZadddZcZabcddabZbcbcZcaZZcbdZacZcZdbaaZcdbcZacbadabcccaadZbZZZbcZacbcZZcZbdZbZadbZZacbZcZcZccdacbcZbbcZbbZbcZaZdaabaZbccccbcabddaZcZaZcaadcadcccbdbZabdccZbadcdbZaZdcadZcdbZabZaZZaccccbddcZdaZadcddcaZccddcbaaZZdccccdcbdbcdddbbZbcZZcdZabcZdbZdccdZaaaccadaadbZabZaccbbaZcdbcbdZadZacdZZadaZZbbbcdcdbdZddddcddbbbZadccdbadaZabdabbcaabdbZaaZcbZbddZaccbZdZbZbbdddcddZZccZbaZbccZacbcccbaZbbcddbddbbbaadaZbZadaZcdZcccZbZdabZdcbcacdZbdaabaadddaadcdcabZdabacbbccdbacbbdZZacccadcabZZcdaabbddbcbcadddabZaccdaabadabcaZbcZaZcadccZdbZZdddZcZaZZcZacZacaZaZbbZabddaddcaaaZdZZd\n",
            "Epoch: 70/80... Step: 3150... Loss: 3.1917... Val Loss: 3.1854\n",
            "The bbcadccacbdbZaZdZcaZbcZdaZccacdbbZaZabbcddbbacbcdZddcacbddZZabaabaZbaaZccccdbZabadaZcaaaadddcZZcZZcdcddbabdcbcbZdaZbdccbZccZaZZZbdcddadbacdddZddaZZdZbZZdcbZdddZaacZabbccdZadZacabZZdccaZdddadbbcdcacbcdaaZbdcdccccdcZbacaccaZcaZZcdccZcbadbdZbZdacbZbaZaccdddbabcZccZbZcZccZaZZcbdbdZaaaZdbbbdccbZbcdaaadcbZcdZbZdccccacdcbZdaaadcZaacccbadcaccddcdZbbbcddbccaZdcaaddabZdaaZdcbcccddacbdcaacadbddbZaZacbcaaZZbacbbaabaaaddddadbZaaddadcabcZbZbZcabZbbbbcaadbcdZdaacdZaabZaaZdbaZdbcZZZbaZacZdaddcaaabaZZcddbcbadbabZcdbacddabaaadcccbdccbdbcadbccbZbadZdcdZbddbZdbdZbZaaaccZcaZZZacdbZaZdZadbbbdbcccdcZZacdbdZZaabddddddadbcbcaaZcccdaadZbbbaccZbcdcaZacZdaZdadcbddZcaddacbcdZbdaZZccdccadaaddbbacacadZbcZaacdcdbbadbadbabbddZZZbdZcZdZadacaZdadddcbbaZaaacacbZaZddZdZadbdZcccdZZddcacbZdbZZdddddbbbbcbcZabcccacdadbZcbZaZcccbdZdbbabZcddZdcaacbbabbdZcaaZcabcaZcZbcbaZZcdacaaaZadbbZZZbdcaZdddZbdaZaddabdbcdacbcaacddbZZbbadbbacbadbadZcbbaZcbdaZdbZdccaabcdacacZZdZZZbbZbadbbZaccabdccadcbbadcbcZdccadbcddZaddcZdZadccdcdcccZcdcZcdcbb\n",
            "Epoch: 72/80... Step: 3200... Loss: 3.1642... Val Loss: 3.1860\n",
            "The bbabbbbcdcbccZdcaaadZcdadcaaZddddZabbcbbcacbcdcbZdcadaccdZddaccccbZcZcdcbaZcdZbZcbZdacaddcddacbdcdbcdadZZZcccdcaZZbdZaZdcbZdcaZbZcaddddacZdacbcZZddaabbcbbdZddZadbZaaaaabddddddcbdcadbbZcbZZabaddaccbZccdZZdZZbbZdZZbZabcbaacbbaZbabZadadaabbcabcZbddbdbZbbbccaabbdbbcZdbacccddcbccdZbdcbbccZdadadZbdZadbbcdZdbZcccZbZcaadbbcbdcadbdddZbZccdbcbcZZccdbZadbbadbabZZdcZdbccabaZdZaZdbZZacdcZcaZddaaccaZddcbbcbbadcddaZdZZcZZdccdbdZZcZcadZcacbcZZZbbbaZbaaabZddacdabaaabbcbcZcdadadcdZcbddcdbZcaZZZaZcZcdZZZbcbbdcZdZcZcdcZdbbZbccbbbcdcZdaaacccbbadZZddbddccbbdZZcccbcbacbdadbaacbbZaZadadbddaZcdZZcccZZbdbbbabacZZbcccabbdbccbcacZacadbaZZbbadddZbbZbZdbcZbdddaZZddaadbabaZddbdZbddaZbccbZacbccbbddcaaZcZZdbccdddccZdacZcZabZcaZabcbdbZccabbbbaaccZZcbZdcdZdccZbbddddcdbaaaadZacZaZddZZacZdbbbcdacdZcZcZbbacddZccaZbaddcZcbZdddZZaaZabcZaacadabbcaadbdcdcdcdZdcbbcZaadZdccaZcZcdbZZZbacadcbbbcZddZcZcabdbcdccdcZadZabZdZbadbZdbdbcacbadZdcaZbacbbbaadccacZZcaadbcbaZbcZdZdabbadcaZadacbddbdZcaZcdccaZZbcbZbbaZdbZdbbcdbccbaZZccbZdZdcabcb\n",
            "Epoch: 73/80... Step: 3250... Loss: 3.1468... Val Loss: 3.1840\n",
            "The dbbbZcdZadccbcbacZcbdZccdbdabacbdcadcbbdZaddaaaZcZZabaZZbcabaaddbaZcbacaababccZbbaabbcdabcabdZbdcadadZcbcbddZcbbccZdadcbcaZaabccZaddbdccccdaccaZZZabdaZcabZcZbZabdadbZbZZdbZaZbbcbaZabdcaZddcZcbbZdcZaZbdcbZZbaZdabcdddcadaaZbbZcdZZcdacdbaadcacccdaZZZbcdZddcbdZZaZacZbbcadaaddbbabbZdbdZcdcdcaZacbdacdaaZaaacZcdcbbbdcZcdadccaZZadaabcdbacbcccccbbaZcdaaaZddcbabddbbdadZbZbbZZacacdZabbacZbadbbdcabbZdaaaZcdcbacccdbdbbbaddcZacddcZZdccZdZcdZbZbcbcZbbddZcbbccZcbbcbbaaZabccbcZZaZbdbaddbbdbbdZdddaZdadbZbbcbdZabdbdaaadZdZacabbbbZaacddZcccccaadbZdabdbabZZbdcbZZZbbbcacZabaabdddaabdbZccZcdcbbcacdcZZZdcdcadZddbbZZaZbbZbcaZdaddbabccdcdcaddddcdaabaacdZbadbbdbbZbddZbaaaZddacZccZcbcbcaZcbZcdaZbcZZabcZdbacbcacZacaacadcdZZbaZcabZZabZbcbdadabaaZaZcbbbaZdcZaaadddcdaaaddaZcaacabbcdZbcdcZdZaaZadddabdacdcbaZcadcdcdaabcdddcdaccadbccdabddcbddbbcZcaaadZccbcbcabdaZabacbccdbbbddacaacdaacdZbaZacccaaZabbaadZZcZaacaaZcadbcdbZZZcZZadZZbZZadcaadadcbcaddaZZcdcabdcZbcadZbZZcccaadbZddZcaaZadZcbdbabadbbdbdcZZaddadccZaacbbcaZacacbbdb\n",
            "Epoch: 74/80... Step: 3300... Loss: 3.1998... Val Loss: 3.1825\n",
            "The ZcZbZdZZbdaabcZddabbbadbccZZcZacdZcaacacabadZacaabbZcbcaZcbcacZbbbbdZabZdbZZZdbdbdbacZbcbcaZZZcZadccaZZccaadcZcccdabbdbbZZZccbdbcbZbZdbcbcabacdcdddcdbcbZacadcZacdbZbddddZbcdbccZcbbddbZbZZabZaaadaZacaccdcbaadbaZdaZccdadddbbdZcbZZdaccZZaadZZcZbbZdZZdbaabdacaccZbadabacabddddddacZcbbZZbaaZcZabdaabcccbdbcbbZaddbZcbZZdabccbZdbcbaZbbZaZcbcaZbdccbcbZacdcaaddbddbdddbacacbbcdcZdbbdaccdcdcbbbdbdZdZbbdZZdZaaZdZddZbbddbcaZbcdccbdcdcZdacaZbdddaZdcdbbcbcbacdZccadZcdbcbZbbZbbaZbZbdbbdZZcbdcacdabdcddabZaZZdcccZdabbcdcdabbcbbZZadcZcccZadaZZdbcabaZdbaZbcbbbccbcddZcccbcbbdadaZdbcbddZZadbcbacZbcZcdZcZbcbcccZdZZdbdZZbacadcbdZdcadaaZdbaaabZZdadZdaZacbddbcddaadZdabcaZaZaZcbZcbZbZZdccZccZadbaZdccbZdZadbabbZdbZaaddZaccdZdbacbZdcbbaababdaZbbddbbcddbddZbbabcbbbbcaaZZadcZZcbaaZZbabcZdddcbcabccaaZZdcbddZccZdcdcZdaZabcZdcdcZcacZbbdcbcbcadbdbbZbbacacZcbdbbZccZZbbdaccdcabbbbacaaZabadZccdadadcZbZccacabdZZdddaaaccZaccddbZZZZZaccadcadabaZaddbdadabZbbdZdbcaacbaadaddcbdZbccdZbdbccdbddbdadacbaZbbadabcaaZbbdbZbcccacbccZaZadZa\n",
            "Epoch: 75/80... Step: 3350... Loss: 3.1408... Val Loss: 3.1837\n",
            "The bdcZdbbaabbdbZbZbbdcaccZZZaZbdbdbZdZcccbbbcddcZdbddddbbaaZabddcabccdadbdddabccadacZbdcZbZZdddaZaacacaabZcbbddZcbbdbbacdaZcaabdbdccdZadbbZZcccbcaZccdcaddcbZZcZdZdaZbccZbZcaZabdbbbdcddccdZZcZbdacaaccbcbdacacaacdZadbcacbaZdcbccZcadZaadacdZacddacdbaZcZdZdZZZaacZbbadadbbdZadZccdadZdbZaZaaabZZZcabZZccdbaaccaadbZbddZacacZbadccbbdadadbbZdcdZdbZacdcZccbbacdZbbccbacbdaadbdZabcbddddbccccdbdccZbdbdcbabZdacadaZaZcbbdcaccbaaZabcZdccbccZddcbadZdbcaZbbZbcbcdcbaddcbddZbbcabdZbabZbcbZaZaZccbaZbaZZZccbbbddZZdcddccdaccZcbcbZacZaaabdZcdZacbccZabbbaZaZcdbabbZdaaZbaZccadcZcbadacZZbabcdddaadZcZacbcdcbcbcaccbdddZbaaadaadbdacadZbcccaaZbbdabZdbbZddbadZbbcaZdacdaZdcbdZcddcdbdZbZcdccdcbcbacaZacbddbabddaZcacZadZdcbZcZcZbaZdbdZZdccZcbZbZadcccZZZZZbbbZZbbccbbbccdZcZbbdbcbZccabcdccdcZbbZabbdddbccdZdaaaaaZdZaZZcbaccddZaZabZdbaddbddddZaccZZZbZdddZZbdZcdbbZddcZZaaaaaZcdbabdacbaZcbcbabbbdbcdbdbcacabbbcZccadadZadaaabdbacbaaddZddZZbabadZccZaaZcacaacZbbdbdZddbbcaaaadcZaaaadZZbbdZbaZbZbabbdacZdcZacZacZZbddcbcZcaaacbdcbabdcccZd\n",
            "Epoch: 76/80... Step: 3400... Loss: 3.1584... Val Loss: 3.1825\n",
            "The bbbbaZcacbacZbcabdZZcccdZaddabadbcbddababddZaZbcbbZdccZbbcabacacbcdcdZZbdbbZddbaddaZcbddcZacbcaabZZadbZdadZZZZbdZcbbbZaabdbZacacZadcbbdZcbbcbZccaZcccZdabZddcbcZadZadbabdaZbbcadbaccZccaZZcdcdcdbabdcdbcabZZbbddcadbaaadbbcbdaadcbaabZbZZdZdcdZddZcadbZabZcdZdcZdcdZacabbbabdbZdcdabcacacZZZcZZdaaaacaZabddaaccdaccZaZdccZbbaZbZaabcabZZbddcdZbbbadcbdcaccccddbZddbcacdddbZbddadabZZcdbZdcZbcabZdbabbcabddcbcccadabdbcccaaZZdZbcdZbabZbZZaabacZcbccdbZcaaZbcabZccZZaadcaaadbZadadcdZbcZaabcaacacaddabacdabbZdddccaadababbccbaaabdbZcccabdZcaabdZbZddcZaZdbdddcZabaZbdcZcabZZcbabaabdabZdbZbcaacadZdddabccdddbabcZZcbcabcZacZadabcZZcaZbaZabZZabdddcdcacdZddaZaZbddcacdadZcZdccZabcababZdZdabcbZZZcddccbZaacbZacadaacZcadcabbZcZZZcbbbdccdZabcdcaZcdbbcadabZabdccZcaZZZdcaaZcdZZcZbZdbcdbcbaZccddcaZcZadcaaaacaZbbdccbdbdbabbddZddZbcdadZdcaabZbddcZadcbcZdZaZbacbabbbdZbbZdcZZdbZbabZcbcZabadaaZZZddacaabZcbdZcZcaddcdbccdaZdZcbaZcZZaddZcccaaadbddaZabdcabadcadcdaZaZbbbZdcZcbcddcbaaZccbdZdbcccacccbdbcZbcbbbdbcddaaaZZddbcbZaaccddcadZ\n",
            "Epoch: 77/80... Step: 3450... Loss: 3.1774... Val Loss: 3.1818\n",
            "The ddbccbdaadZbZdbbZdZaZbddcbabaaddbcadbaZbcddddbdcZaZdZcbaZZcbdZZbcccdZdbabacdZbcbbcbdbbZbdbZabdcdbdabZbbdbdZaabadZdbZZdcaaaZdbbbaZadcZccbZacZaZbZZbZbcZZcadcdddcbdadbdbZbbZbbbdbddadZbacZZaaZdcZZdZdZbdbbZadadbcdZZdbdZZcZcZdcccZbccbbbdZcadZbaabdZZdcbZcddadacddZadaacbcbbaaabaddcabadadbddbbcdcbZadbabZZabacbbbZabZdbdZcbcbaabbbcbbcbZaZddcbbcdbbZZbaaaZdcdbbaaabadaZddacZZbbacaddcZadZdcbbdZZababcaZcaZZZcaddbddZddZdcbadbbdbbaZaddZZddZbdZcadbccZdaadcccZdbddaZadbddcbcbacZabdZabcZZdacacbddaccbdaZbZadcbZbaacdcccdaabZZddccdbccbbcdabdbaadbZddacZacabbcaZdbdZbbZdZcZbbbdZbadddZdbaZcccacddababdcaabaccdZdbbbadZcabZdacaaaaZZZccadcacabZaabbcbcZZbcdZZabZZdZcZcddbdbbcaaZZbcaZcdZcZaddZdZZZZbbcdZZdaZdaaabZaZdccbbbaacZcaddcdcZZabZddccdaabZaccbddZdZdacbaadcZZbbbcaZbZbcbbddZZbdbcbbZcaadaccbacbaddZbdbdacdbaabacZdcdZZcdabcdacabadabacabaZaacZabcdcadcccZadZcbccbadaadZdZacadaacaZbaaaabbaZZccbZdaZddZabZZddadadcbZcdbdbaZdZacdcacadZdbdbaZZaZbbbbddadaZZabaZbbbbdbbbaZZbcZabdddbabadbbcbbaZZZaadZZcbZZdZZaZcbZcddbZZbZccdbbZZbaacac\n",
            "Epoch: 78/80... Step: 3500... Loss: 3.1504... Val Loss: 3.1810\n",
            "The adZdbcdZcZbadcacacbbcaddbbZccbZacbZZcZabZdbbcZdZcaddcZZcdbcZZcabadZbdaZbZaaaabddabZZcZabadaZcdZabcccdbaabddabZacZZZdaZbbacddbZdcbcbZbdcdZddZacZcbababZcZbbbbdZZcZaaZaZZdaacccadbbaZZdbaZcZZadbcdZaaaaZZaaadZdZcacacbbZdaaccaabdZbaZZbbabdabddZZZdabcZZdddZadacdcbdbacaaZdbcbbabbcacdcZbdabaccbabbbcadcacbcbbdcdbbdacbZacZacaZZddccadccabacaadcZZaaZabddaaZdcacdZaacbZZZbcbbbddcdaccaadaacddaaaZdcdcZbddZdZccbddcdZdabdacccdaacZZcdbZbZdcdZdddcbabdZZcZcZZcbZaZaabbbbbbcZbZaadbdbbbZZabZaacabdacZcdddZcbbabdZZaZbZcdaaaZdZbddaZZdbbcZaadabcbddadZcabdcZadbZbaccdZbabbbZbbdcaZadZcbcdcZdcadcdZddZbccaaZacbbdacddbbZZcdcaZdcabbbaZcacbdbbaZcaccaaadbaZcacabdcadZdZaZaddabdcdbbdZcadZbbbdcZdcdbbabdcccbbdccdcZaccbbcbbcadbdddZZbbadacdacacacabaZbcZabZZZccacbcddbbaaaZcadcZddcZZccdaZcaaaddacdZZddbdZZZacabbabadadacaaadbZdaZabZdZdZZZbZacaZdccbcbZcabZbbbaaadddbcdaaZadZZbcbdbcbZdZdZcbdabacaZdbdcdZaddZZdcZcabaabccdZcaddcdZdbZadcdZababcdcabcaccZZadbcbaccaaacbZZbddabZcZZbdcaaZcbacZZZcaZbbcaaaZcabcabdbacaZddZbbcZZbbdadacaabaaZadcacdda\n",
            "Epoch: 79/80... Step: 3550... Loss: 3.1561... Val Loss: 3.1827\n",
            "The caZaaccbZZccdcaadZbdabbdaZdbbbZbbcdddabcZbZabZbbdacadbdbbdcbabacaZbZabZZcbadZccZacddacbccbbabZcadbaZZddbbaabcddbaZZddcbaabddacbadbcdcZbcdcbbdcZbbbadbdcdbaZZbZbdZadadcdbcdbZbZbcdadaZdaabaZbacbcbacbZZabbZdccccZaZcZZZbZccababdaZcabdacabbbZdZdaaZadccdbccbbdccZcZdaabbZcaZbbZdcZdbZadcbadaabaZbddccdZdZaZadccabcaaaccZbadZbbcZdcacadabZZcZZcZdbaZcbZaacbcdbadcdccabddZZZaZadcccadaaaaZccbacabaacadcdcadZadZdadcZbddaZaZbbdZaabccbacadZadacddaaaabcZbdccadZccbcbdcbZdacZcdZabdaZbabbbcbadcdddcabZcZdbdbdcbcaZcZcbdaabcacabbdZcabdZdcaZcdbZaadcbZcdccccaaZccZcaZcaabbcZZabbcccdbccbdcZacdcacZbcabaZbdZaZdZacbbcZcbcadabaZZccddddbadZcbZbdccbabaacZacZacdcZcbcZdadbcbadcbabbbdabddZcbZaZaaZaZdbcabbbacZZbdbZacaaddbcddbcacZcccdadbcadZddacZcbabddcbcddddcdZbaccddbZdccdccaddcaabcacdbccadcaZZabaZaccZdbbZZdZbdZbbdZaZbZaZbbZbdbcaabaZdZdacdacadZbbZcdZddcbZZZdcdcZdbaacbZdaacbabdaZbbdaccacbdddcZdbcdZbcZdacdZdcaZaaddcZddaaZcacadddabbcZadabcbcaddZdaZaZcbcaccabdZZdZadabZcccabZZdZdcaZddcaabcaZbbcZbaZaZZcaadcbZaZcbacZcZZcaZdccccadbacab\n",
            "Epoch: 80/80... Step: 3600... Loss: 3.1785... Val Loss: 3.1802\n",
            "The cbdZdZbbZdaaaaadcbacdbbbZbcaZZbbaaZabaaZacZbdZacbcZcZZdZZdccdddacdZZbcbadbabddcbddcZaZdcadabccaacbcdaabdbdZaaadZdbcaddabbbcabaZccZZcabdcZcbacaZcccaZabbaddabbcbdaZdaaZZZbdcdZbZZZbaZbdcacZacbbZacabZZbdZddccZZcZbcdcbdaZZZZZacZdabdaadZcdbZZaabaaZbcbZZdbdddcZaababZabccaZcdccddaZbaadaadcbZZcacbaadbdaZadaaccZaabacbbbdcdaaaZbcbddZcbbccZdddbadbcdbaZbabdcbbcccbZacddcdbaccdadbbbaZdaZaacddaaZdddbZZbZZZaacaabcZcdbbZcdabdaaaddZabdcbaadZcdcdcdcdadddZcdZabdbddccbdbddZcdbZdbbZccabdbaZZdaaZcZcccacdbZbZdaabdZaddZdbbbcaaccbbdcccbZZddabccZbdabZZbddZbcbccbZaccddZcdaZZddaddabdbccdZdZaccZbcbbaZZbaZZZabaccZabcdaZcadZccbabdcaadbcdZZcaZaccdZaZdbcZdaZdcZdcbcdZabdcacaadaabdZcZacacZZdadcdcZZbZadaaadcZbcabdcdZccbdbcdddZZddcdaZabdZbbdadccabcdbZZbaZaaaZacabZZadZdccaacadZaZZcbacbZZaaaabaacbbcacZZbcbaadddbbbdZdbZbcdcbcdZZbZbcddbcacbZZaabZacZabcZdaZcaZZadaZabdbbbdZZbcaZbbbZccdZcdbcaaacccadacbadZcaZacbZbaaadcbaddabbdcZcZabbaaZZcZcdcaZaZZZaabbbbaZbbabaZddbZcZcdcZZZbZcdabdcccaZdZdccbbcadcaZcddadZabZZadadZcacaaccZZaacZbdadZcd\n"
          ],
          "name": "stdout"
        }
      ]
    },
    {
      "cell_type": "markdown",
      "metadata": {
        "id": "fnI-lDmFFcpd"
      },
      "source": [
        "Both model's didn't give any reasonable output, vanilla RNN had smaller validation loss."
      ]
    }
  ]
}