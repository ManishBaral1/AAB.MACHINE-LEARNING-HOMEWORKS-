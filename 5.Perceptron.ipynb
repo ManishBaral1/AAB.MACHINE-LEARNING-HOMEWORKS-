{
 "cells": [
  {
   "cell_type": "markdown",
   "metadata": {
    "id": "y3cWwlbatGdm"
   },
   "source": [
    "# Mustererkennung/Machine Learning - Assignment 8\n",
    "\n"
   ]
  },
  {
   "cell_type": "code",
   "execution_count": 81,
   "metadata": {},
   "outputs": [
    {
     "name": "stdout",
     "output_type": "stream",
     "text": [
      "--2021-01-18 03:10:49--  https://web.stanford.edu/~hastie/ElemStatLearn/datasets/zip.train.gz\n",
      "Resolving web.stanford.edu (web.stanford.edu)... 171.67.215.200, 2607:f6d0:0:925a::ab43:d7c8\n",
      "Connecting to web.stanford.edu (web.stanford.edu)|171.67.215.200|:443... connected.\n",
      "HTTP request sent, awaiting response... 200 OK\n",
      "Length: 1829071 (1,7M) [application/x-gzip]\n",
      "Saving to: ‘zip.train.gz’\n",
      "\n",
      "zip.train.gz        100%[===================>]   1,74M   294KB/s    in 8,6s    \n",
      "\n",
      "2021-01-18 03:10:58 (208 KB/s) - ‘zip.train.gz’ saved [1829071/1829071]\n",
      "\n",
      "--2021-01-18 03:10:59--  https://web.stanford.edu/~hastie/ElemStatLearn/datasets/zip.test.gz\n",
      "Resolving web.stanford.edu (web.stanford.edu)... 171.67.215.200, 2607:f6d0:0:925a::ab43:d7c8\n",
      "Connecting to web.stanford.edu (web.stanford.edu)|171.67.215.200|:443... connected.\n",
      "HTTP request sent, awaiting response... 200 OK\n",
      "Length: 439208 (429K) [application/x-gzip]\n",
      "Saving to: ‘zip.test.gz’\n",
      "\n",
      "zip.test.gz         100%[===================>] 428,91K   190KB/s    in 2,3s    \n",
      "\n",
      "2021-01-18 03:11:02 (190 KB/s) - ‘zip.test.gz’ saved [439208/439208]\n",
      "\n"
     ]
    }
   ],
   "source": [
    "![ -e 'iris.data' ] || wget 'https://archive.ics.uci.edu/ml/machine-learning-databases/iris/iris.data'\n",
    "![ -e 'zip.train' ] || ( wget https://web.stanford.edu/~hastie/ElemStatLearn/datasets/zip.train.gz && gzip -d zip.train.gz )\n",
    "![ -e 'zip.test' ] || ( wget https://web.stanford.edu/~hastie/ElemStatLearn/datasets/zip.test.gz && gzip -d zip.test.gz )"
   ]
  },
  {
   "cell_type": "code",
   "execution_count": 3,
   "metadata": {
    "ExecuteTime": {
     "end_time": "2018-12-11T12:46:51.443420Z",
     "start_time": "2018-12-11T12:46:50.570749Z"
    },
    "id": "luPsF5SptGdt"
   },
   "outputs": [],
   "source": [
    "import numpy as np\n",
    "import pandas as pd\n",
    "from sklearn.model_selection import train_test_split\n",
    "from sklearn.utils import shuffle\n",
    "import matplotlib.pyplot as plt\n",
    "import seaborn as sns\n",
    "%matplotlib inline"
   ]
  },
  {
   "cell_type": "code",
   "execution_count": 4,
   "metadata": {
    "ExecuteTime": {
     "end_time": "2018-12-11T12:46:51.501147Z",
     "start_time": "2018-12-11T12:46:51.445163Z"
    },
    "colab": {
     "base_uri": "https://localhost:8080/",
     "height": 206
    },
    "id": "CpeeFeXKtGdu",
    "outputId": "cf860553-0831-4606-e3ca-81959af4ee2c"
   },
   "outputs": [
    {
     "data": {
      "text/html": [
       "<div>\n",
       "<style scoped>\n",
       "    .dataframe tbody tr th:only-of-type {\n",
       "        vertical-align: middle;\n",
       "    }\n",
       "\n",
       "    .dataframe tbody tr th {\n",
       "        vertical-align: top;\n",
       "    }\n",
       "\n",
       "    .dataframe thead th {\n",
       "        text-align: right;\n",
       "    }\n",
       "</style>\n",
       "<table border=\"1\" class=\"dataframe\">\n",
       "  <thead>\n",
       "    <tr style=\"text-align: right;\">\n",
       "      <th></th>\n",
       "      <th>0</th>\n",
       "      <th>1</th>\n",
       "      <th>2</th>\n",
       "      <th>3</th>\n",
       "      <th>4</th>\n",
       "    </tr>\n",
       "  </thead>\n",
       "  <tbody>\n",
       "    <tr>\n",
       "      <th>0</th>\n",
       "      <td>5.1</td>\n",
       "      <td>3.5</td>\n",
       "      <td>1.4</td>\n",
       "      <td>0.2</td>\n",
       "      <td>Iris-setosa</td>\n",
       "    </tr>\n",
       "    <tr>\n",
       "      <th>1</th>\n",
       "      <td>4.9</td>\n",
       "      <td>3.0</td>\n",
       "      <td>1.4</td>\n",
       "      <td>0.2</td>\n",
       "      <td>Iris-setosa</td>\n",
       "    </tr>\n",
       "    <tr>\n",
       "      <th>2</th>\n",
       "      <td>4.7</td>\n",
       "      <td>3.2</td>\n",
       "      <td>1.3</td>\n",
       "      <td>0.2</td>\n",
       "      <td>Iris-setosa</td>\n",
       "    </tr>\n",
       "    <tr>\n",
       "      <th>3</th>\n",
       "      <td>4.6</td>\n",
       "      <td>3.1</td>\n",
       "      <td>1.5</td>\n",
       "      <td>0.2</td>\n",
       "      <td>Iris-setosa</td>\n",
       "    </tr>\n",
       "    <tr>\n",
       "      <th>4</th>\n",
       "      <td>5.0</td>\n",
       "      <td>3.6</td>\n",
       "      <td>1.4</td>\n",
       "      <td>0.2</td>\n",
       "      <td>Iris-setosa</td>\n",
       "    </tr>\n",
       "  </tbody>\n",
       "</table>\n",
       "</div>"
      ],
      "text/plain": [
       "     0    1    2    3            4\n",
       "0  5.1  3.5  1.4  0.2  Iris-setosa\n",
       "1  4.9  3.0  1.4  0.2  Iris-setosa\n",
       "2  4.7  3.2  1.3  0.2  Iris-setosa\n",
       "3  4.6  3.1  1.5  0.2  Iris-setosa\n",
       "4  5.0  3.6  1.4  0.2  Iris-setosa"
      ]
     },
     "execution_count": 4,
     "metadata": {},
     "output_type": "execute_result"
    }
   ],
   "source": [
    "class Classifier:\n",
    "    \n",
    "    def accuracy(self, labels, predictions):\n",
    "        return np.mean(labels == predictions)\n",
    "\n",
    "\n",
    "data = pd.read_csv(\"iris.data\", header=None)\n",
    "data.head(n=5)"
   ]
  },
  {
   "cell_type": "markdown",
   "metadata": {
    "id": "8WaByN8YtGdx"
   },
   "source": [
    "#### Splitting the data into training/test and according to their class memberships"
   ]
  },
  {
   "cell_type": "code",
   "execution_count": 5,
   "metadata": {
    "ExecuteTime": {
     "end_time": "2018-12-11T12:46:51.517929Z",
     "start_time": "2018-12-11T12:46:51.502925Z"
    },
    "id": "E2-w2GzqtGdy"
   },
   "outputs": [],
   "source": [
    "X_train, X_test, y_train, y_test = train_test_split(data[list(range(4))], data[4], test_size=0.2, random_state=None, stratify=data[4])\n",
    "\n",
    "X_train_setosa = X_train[y_train=='Iris-setosa'].to_numpy()\n",
    "X_train_versicolor = X_train[y_train=='Iris-versicolor'].to_numpy()\n",
    "X_train_virginica = X_train[y_train=='Iris-virginica'].to_numpy()\n",
    "\n",
    "X_test_setosa_v_v = X_test.to_numpy()\n",
    "y_test_setosa_v_v = (y_test == 'Iris-setosa').astype(int).to_numpy()\n",
    "\n",
    "X_test_versicolor_virginica = X_test[y_test!='Iris-setosa'].to_numpy()\n",
    "y_test_versicolor_virginica = (y_test[y_test!='Iris-setosa'] == 'Iris-versicolor').astype(int).to_numpy()"
   ]
  },
  {
   "cell_type": "code",
   "execution_count": 74,
   "metadata": {},
   "outputs": [],
   "source": [
    "y_train1 = (y_train == 'Iris-setosa').astype(int).to_numpy()\n",
    "X_train2 = X_train.to_numpy()[~y_train1.astype(bool)]\n",
    "y_train2 = (y_train[~y_train1.astype(bool)] == 'Iris-versicolor').astype(int).to_numpy()"
   ]
  },
  {
   "cell_type": "code",
   "execution_count": 7,
   "metadata": {},
   "outputs": [],
   "source": [
    "class PerceptronClassifier(Classifier):\n",
    "    def __init__(self, learning_rate=0.5, max_iters=100):\n",
    "        self.learning_rate = learning_rate\n",
    "        self.max_iters = max_iters\n",
    "        self.errors = []\n",
    "        self.weights = None\n",
    "    \n",
    "    def fit(self, X, y):\n",
    "        X = np.hstack([X, np.ones((X.shape[0], 1))])\n",
    "        self.weights = np.zeros(X.shape[1])\n",
    "        for i in range(self.max_iters):\n",
    "            error = 0\n",
    "            for xj, yj in zip(X, y):\n",
    "                dw = self.learning_rate * (yj - self.predict(xj[:-1].reshape(1, -1)))\n",
    "                self.weights += dw * xj\n",
    "                error += int(dw != 0)\n",
    "            self.errors.append(error)\n",
    "            if error == 0:\n",
    "                break\n",
    "        return self\n",
    "    \n",
    "    def predict_z(self, X):\n",
    "        return X @ self.weights[:-1] + self.weights[-1]\n",
    "    \n",
    "    def predict(self, X):\n",
    "        return (self.predict_z(X) >= 0.0).astype(int)"
   ]
  },
  {
   "cell_type": "code",
   "execution_count": 8,
   "metadata": {},
   "outputs": [
    {
     "name": "stdout",
     "output_type": "stream",
     "text": [
      "CPU times: user 7.55 ms, sys: 523 µs, total: 8.07 ms\n",
      "Wall time: 6.32 ms\n"
     ]
    }
   ],
   "source": [
    "%%time\n",
    "model = PerceptronClassifier()\n",
    "model.fit(X_train, y_train1)\n",
    "y_hat_train1 = model.predict(X_train.to_numpy())\n",
    "y_hat_test1 = model.predict(X_test_setosa_v_v)"
   ]
  },
  {
   "cell_type": "code",
   "execution_count": 9,
   "metadata": {},
   "outputs": [
    {
     "name": "stdout",
     "output_type": "stream",
     "text": [
      "Train accuracy: 1.0\n",
      "Test accuracy: 1.0\n"
     ]
    }
   ],
   "source": [
    "print(f\"Train accuracy: {model.accuracy(y_train1, y_hat_train1)}\")\n",
    "print(f\"Test accuracy: {model.accuracy(y_test_setosa_v_v, y_hat_test1)}\")"
   ]
  },
  {
   "cell_type": "code",
   "execution_count": 63,
   "metadata": {},
   "outputs": [],
   "source": [
    "plot_axis = [1, 2]\n",
    "cmap = 'plasma'\n",
    "X_center = np.mean(X_train.to_numpy(), axis=0)\n",
    "X_min = np.min(X_train.to_numpy(), axis=0)\n",
    "X_max = np.max(X_train.to_numpy(), axis=0)\n",
    "X_mesh = np.meshgrid(*([np.arange(X_min[i], X_max[i], 0.02) if i in plot_axis else X_center[i] for i in range(len(X_min))]), indexing='ij')\n",
    "X_mesh = [i.reshape((i.shape[plot_axis[0]], i.shape[plot_axis[1]])) for i in X_mesh]\n",
    "y_mesh1 = model.predict(np.array([X_mesh[i].ravel() for i in range(len(X_mesh))]).T).reshape(X_mesh[0].shape)"
   ]
  },
  {
   "cell_type": "code",
   "execution_count": 67,
   "metadata": {},
   "outputs": [
    {
     "data": {
      "image/png": "[encoded data removed]",
      "text/plain": [
       "<Figure size 432x288 with 1 Axes>"
      ]
     },
     "metadata": {
      "needs_background": "light"
     },
     "output_type": "display_data"
    }
   ],
   "source": [
    "plt.xlim(X_min[plot_axis[0]], X_max[plot_axis[0]])\n",
    "plt.ylim(X_min[plot_axis[1]], X_max[plot_axis[1]])\n",
    "plt.title('Train setosa')\n",
    "plt.contourf(X_mesh[plot_axis[0]], X_mesh[plot_axis[1]], y_mesh1, alpha=.4, cmap=cmap, extend='both')\n",
    "plt.scatter(X_train.to_numpy()[:, plot_axis[0]], X_train.to_numpy()[:, plot_axis[1]], c=y_train1)\n",
    "plt.show()"
   ]
  },
  {
   "cell_type": "code",
   "execution_count": 62,
   "metadata": {},
   "outputs": [
    {
     "name": "stdout",
     "output_type": "stream",
     "text": [
      "CPU times: user 6.72 ms, sys: 52 µs, total: 6.78 ms\n",
      "Wall time: 4.89 ms\n"
     ]
    }
   ],
   "source": [
    " %%time\n",
    "model = PerceptronClassifier()\n",
    "model.fit(X_train, y_train1)\n",
    "y_hat_train1 = model.predict(X_train.to_numpy())\n",
    "y_hat_test1 = model.predict(X_test_setosa_v_v)"
   ]
  },
  {
   "cell_type": "code",
   "execution_count": 66,
   "metadata": {},
   "outputs": [
    {
     "data": {
      "image/png": "[encoded data removed]",
      "text/plain": [
       "<Figure size 432x288 with 1 Axes>"
      ]
     },
     "metadata": {
      "needs_background": "light"
     },
     "output_type": "display_data"
    }
   ],
   "source": [
    "plt.title('Test setosa')\n",
    "plt.contourf(X_mesh[plot_axis[0]], X_mesh[plot_axis[1]], y_mesh1, alpha=.4, cmap=cmap, extend='both')\n",
    "plt.scatter(X_test_setosa_v_v[:, plot_axis[0]], X_test_setosa_v_v[:, plot_axis[1]], c=y_test_setosa_v_v)\n",
    "plt.show()"
   ]
  },
  {
   "cell_type": "code",
   "execution_count": 75,
   "metadata": {},
   "outputs": [
    {
     "name": "stdout",
     "output_type": "stream",
     "text": [
      "CPU times: user 161 ms, sys: 25.4 ms, total: 187 ms\n",
      "Wall time: 144 ms\n"
     ]
    }
   ],
   "source": [
    "%%time\n",
    "model2 = PerceptronClassifier()\n",
    "model2.fit(X_train2, y_train2)\n",
    "y_hat_train2 = model.predict(X_train2)\n",
    "y_hat_test2 = model.predict(X_test_versicolor_virginica)"
   ]
  },
  {
   "cell_type": "code",
   "execution_count": 76,
   "metadata": {},
   "outputs": [
    {
     "name": "stdout",
     "output_type": "stream",
     "text": [
      "Train accuracy: 0.5\n",
      "Test accuracy: 0.5\n"
     ]
    }
   ],
   "source": [
    "print(f\"Train accuracy: {model.accuracy(y_train2, y_hat_train2)}\")\n",
    "print(f\"Test accuracy: {model.accuracy(y_test_versicolor_virginica, y_hat_test2)}\")"
   ]
  },
  {
   "cell_type": "code",
   "execution_count": 77,
   "metadata": {},
   "outputs": [],
   "source": [
    " y_mesh2 = model2.predict(np.array([X_mesh[i].ravel() for i in range(len(X_mesh))]).T).reshape(X_mesh[0].shape)"
   ]
  },
  {
   "cell_type": "code",
   "execution_count": 80,
   "metadata": {},
   "outputs": [
    {
     "data": {
      "image/png": "[encoded data removed]",
      "text/plain": [
       "<Figure size 432x288 with 1 Axes>"
      ]
     },
     "metadata": {
      "needs_background": "light"
     },
     "output_type": "display_data"
    }
   ],
   "source": [
    "plt.xlim(X_min[plot_axis[0]], X_max[plot_axis[0]])\n",
    "plt.ylim(X_min[plot_axis[1]], X_max[plot_axis[1]])\n",
    "plt.title('Train versicolor')\n",
    "plt.contourf(X_mesh[plot_axis[0]], X_mesh[plot_axis[1]], y_mesh2, alpha=.4, cmap=cmap, extend='both')\n",
    "plt.scatter(X_train2[:, plot_axis[0]], X_train2[:, plot_axis[1]], c=y_train2)\n",
    "plt.show()"
   ]
  },
  {
   "cell_type": "code",
   "execution_count": 79,
   "metadata": {},
   "outputs": [
    {
     "data": {
      "image/png": "[encoded data removed]",
      "text/plain": [
       "<Figure size 432x288 with 1 Axes>"
      ]
     },
     "metadata": {
      "needs_background": "light"
     },
     "output_type": "display_data"
    }
   ],
   "source": [
    " plt.title('Test versicolor')\n",
    "plt.contourf(X_mesh[plot_axis[0]], X_mesh[plot_axis[1]], y_mesh2, alpha=.4, cmap=cmap, extend='both')\n",
    "plt.scatter(X_test_versicolor_virginica[:, plot_axis[0]], X_test_versicolor_virginica[:, plot_axis[1]], c=y_test_versicolor_virginica)\n",
    "plt.show()"
   ]
  },
  {
   "cell_type": "markdown",
   "metadata": {},
   "source": [
    "Train dataset for the second model is not linearly separable, so `fit()` would never stop, if there was no iteration count limit."
   ]
  },
  {
   "cell_type": "code",
   "execution_count": 82,
   "metadata": {},
   "outputs": [],
   "source": [
    "training_data_zip = np.array(pd.read_csv('zip.train', sep=' ', header=None))\n",
    "test_data_zip = np.array(pd.read_csv('zip.test', sep =' ',header=None))\n",
    "\n",
    "X_zip_train, y_zip_train = training_data_zip[:,1:-1], training_data_zip[:,0]\n",
    "X_zip_test, y_zip_test = test_data_zip[:,1:], test_data_zip[:,0]"
   ]
  },
  {
   "cell_type": "code",
   "execution_count": 287,
   "metadata": {},
   "outputs": [],
   "source": [
    "class MultilayerPerceptronClassifier(Classifier):\n",
    "    def __init__(self, hidden_neurons_numbers, max_iters=50, learning_rate=0.3):\n",
    "        self.hidden_neurons_numbers = tuple(hidden_neurons_numbers)\n",
    "        self.max_iters = max_iters\n",
    "        self.learning_rate = learning_rate\n",
    "    \n",
    "    def gradient(self, X, y, W):\n",
    "        epsilon = 0.7\n",
    "        L0 = self.loss(X, y, W)\n",
    "        for i, w in enumerate(W):\n",
    "            dw = np.zeros_like(w)\n",
    "            gr = np.zeros_like(w)\n",
    "            for j in range(w.shape[0]):\n",
    "                dw[j] = epsilon\n",
    "                gr[j] = (self.loss(X, y, W[:i] + [w + dw] + W[i + 1:]) - L0) / epsilon\n",
    "                dw[j] = 0.0\n",
    "            yield gr\n",
    "    \n",
    "    def loss(self, X, y, W):\n",
    "        return ((y - self.predict_with(W, X)) ** 2).mean()\n",
    "    \n",
    "    def predict_with(self, W, X):\n",
    "        for w in W:\n",
    "            X = self.activate(X @ w)\n",
    "        return X\n",
    "    \n",
    "    def activate(self, a):\n",
    "        return 1.0 / (1.0 + np.exp(-a))\n",
    "   \n",
    "    def fit(self, X, Y):\n",
    "        Y = Y.reshape(-1, 1)\n",
    "        X = np.hstack([X, np.ones((X.shape[0], 1))])\n",
    "        neuron_numbers = (X.shape[1],) + self.hidden_neurons_numbers + (1,)\n",
    "        self.weights = list((np.random.rand(neuron_numbers[i], neuron_numbers[i + 1]) - .5) for i in range(len(neuron_numbers) - 1))\n",
    "        for w in self.weights:\n",
    "            w[:, -1].fill(0)\n",
    "            w[-1, -1] = 1\n",
    "        for it in range(self.max_iters):\n",
    "            stop = True\n",
    "            nabla_W = tuple(self.gradient(X, Y, self.weights))\n",
    "            acc_delta = tuple(map(np.zeros_like, self.weights))\n",
    "            for i, w in enumerate(self.weights):\n",
    "                delta = -self.learning_rate * nabla_W[i]\n",
    "                if not np.allclose(delta, 0):\n",
    "                    stop = False\n",
    "                acc_delta[i].__iadd__(delta)\n",
    "            for w, dw in zip(self.weights, acc_delta):\n",
    "                w.__iadd__(dw)\n",
    "                w[-1, :].fill(0)\n",
    "                w[-1, -1] = 1\n",
    "            if stop:\n",
    "                break\n",
    "        return self\n",
    "\n",
    "    def predict(self, X):\n",
    "        return np.round(self.predict_with(self.weights, np.hstack([X, np.ones((X.shape[0], 1))]))).astype(int)"
   ]
  },
  {
   "cell_type": "code",
   "execution_count": 290,
   "metadata": {},
   "outputs": [
    {
     "name": "stdout",
     "output_type": "stream",
     "text": [
      "0.84375\n",
      "CPU times: user 7.62 s, sys: 0 ns, total: 7.62 s\n",
      "Wall time: 7.64 s\n"
     ]
    }
   ],
   "source": [
    "%%time\n",
    "np.random.seed(42)\n",
    "model3 = MultilayerPerceptronClassifier((32, 16, 8))\n",
    "model3.fit(X_zip_train[:64], y_zip_train[:64] == 4)\n",
    "print(model3.accuracy(y_zip_train[:64] == 4, model3.predict(X_zip_train[:64])))"
   ]
  }
 ],
 "metadata": {
  "colab": {
   "name": "Perceptron.ipynb",
   "provenance": [],
   "toc_visible": true
  },
  "kernelspec": {
   "display_name": "Python 3",
   "language": "python",
   "name": "python3"
  },
  "language_info": {
   "codemirror_mode": {
    "name": "ipython",
    "version": 3
   },
   "file_extension": ".py",
   "mimetype": "text/x-python",
   "name": "python",
   "nbconvert_exporter": "python",
   "pygments_lexer": "ipython3",
   "version": "3.8.5"
  }
 },
 "nbformat": 4,
 "nbformat_minor": 1
}
